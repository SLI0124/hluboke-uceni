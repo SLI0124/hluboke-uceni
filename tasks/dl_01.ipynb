{
  "cells": [
    {
      "cell_type": "markdown",
      "metadata": {
        "id": "8z4lsdTXjdMG"
      },
      "source": [
        "# Deep Learning - Exercise 1\n",
        "In this lecture, we'll explore essential TensorFlow 2 and Keras concepts through hands-on examples with the MNIST dataset - the \"Hello World\" of deep learning. We'll cover:\n",
        "\n",
        "**Core Concepts**\n",
        "- 🚀 Building and training a basic neural network for digit classification\n",
        "- 📒 Understanding validation strategies for model evaluation\n",
        "- 📊 Exploring model complexity and its impact on performance\n",
        "- ✅ Designing optimal architectures using fully connected layers"
      ]
    },
    {
      "cell_type": "markdown",
      "metadata": {
        "tags": [],
        "id": "ATEvbZfJAYDF"
      },
      "source": [
        "![meme01](https://github.com/rasvob/VSB-FEI-Deep-Learning-Exercises/blob/main/images/dl_meme_01.jpg?raw=true \"AI Meme\")"
      ]
    },
    {
      "cell_type": "markdown",
      "metadata": {
        "id": "SCXkXCkBjdMH"
      },
      "source": [
        "[Open in Google colab](https://colab.research.google.com/github/rasvob/VSB-FEI-Deep-Learning-Exercises/blob/main/dl_01.ipynb)\n",
        "\n",
        "[Download from Github](https://github.com/rasvob/VSB-FEI-Deep-Learning-Exercises/blob/main/dl_01.ipynb)\n",
        "\n",
        "##### Remember to set **GPU** runtime in Colab!"
      ]
    },
    {
      "cell_type": "markdown",
      "metadata": {
        "id": "vGYmu2RCjdMH"
      },
      "source": [
        "### Import of the TensorFlow\n",
        "The main version of the TensorFlow (TF) is a in the Version package in the field VERSION\n",
        "Since the TensformFlow 2.0 everything was encapsulaed under the KERAS api."
      ]
    },
    {
      "cell_type": "code",
      "execution_count": 1,
      "metadata": {
        "id": "I798rQYbjdMI",
        "tags": [],
        "colab": {
          "base_uri": "https://localhost:8080/",
          "height": 35
        },
        "outputId": "9f3a4374-10c3-4853-fd50-ae9a4b304693"
      },
      "outputs": [
        {
          "output_type": "execute_result",
          "data": {
            "text/plain": [
              "'2.18.0'"
            ],
            "application/vnd.google.colaboratory.intrinsic+json": {
              "type": "string"
            }
          },
          "metadata": {},
          "execution_count": 1
        }
      ],
      "source": [
        "import tensorflow as tf\n",
        "import tensorflow.keras as keras\n",
        "import numpy as np\n",
        "import pandas as pd\n",
        "import matplotlib.pyplot as plt\n",
        "from sklearn.tree import DecisionTreeClassifier\n",
        "from sklearn.linear_model import RidgeClassifier\n",
        "from sklearn.metrics import accuracy_score\n",
        "import time\n",
        "\n",
        "tf.version.VERSION"
      ]
    },
    {
      "cell_type": "markdown",
      "metadata": {
        "id": "LWDIlb9UjdMI"
      },
      "source": [
        "# Import a dataset\n",
        "* Datasets are stored in the keras.datasets submodule. Few testing datasets are stored here and installed together with the TF package"
      ]
    },
    {
      "cell_type": "code",
      "execution_count": 2,
      "metadata": {
        "id": "OK0bAkspjdMI",
        "tags": [],
        "colab": {
          "base_uri": "https://localhost:8080/"
        },
        "outputId": "a86b917d-eda4-4a2d-f704-0a6441c31b05"
      },
      "outputs": [
        {
          "output_type": "stream",
          "name": "stdout",
          "text": [
            "Train data shape:  (60000, 28, 28)\n",
            "Test data shape:   (10000, 28, 28)\n"
          ]
        }
      ],
      "source": [
        "# mnist is the basic dataset with handwritten digits\n",
        "mnist = tf.keras.datasets.mnist\n",
        "\n",
        "# data from any dataset are loaded using the load_Data function\n",
        "(x_train, y_train), (x_test, y_test) = mnist.load_data()\n",
        "\n",
        "# the data are in the form of 28x28 pixes with values 0-255.\n",
        "print('Train data shape: ', x_train.shape)\n",
        "print('Test data shape:  ', x_test.shape)"
      ]
    },
    {
      "cell_type": "markdown",
      "metadata": {
        "id": "7jRqCq9jklBE"
      },
      "source": [
        "* The dataset consists of 60,000 training images and 10,000 testing images. All of the are 28x28 pixels."
      ]
    },
    {
      "cell_type": "markdown",
      "metadata": {
        "id": "ACxVYmJGjdMI"
      },
      "source": [
        "## Let's take look on the data\n",
        "* 💡 Look closely on the value scale - it is from 0 to 255 as usual in grayscale images."
      ]
    },
    {
      "cell_type": "markdown",
      "metadata": {
        "id": "27-Q4ViBAYDP"
      },
      "source": [
        "## We can see that the numbers are already centered - you won't see this feature in the real world images often 🙂\n",
        "* Some of the images are quite easy to classify but on the other hand there is a lot of noise in the data as well.\n",
        "\n",
        "**Example Analysis**\n",
        "- Some digits exhibit characteristics of multiple classes\n",
        "- **Sample 1**: Clear, well-defined digit with distinct features\n",
        "- **Sample 2**: Ambiguous sample showing characteristics of both \"1\" and \"7\"\n",
        "    - Missing the horizontal stroke typical of \"7\"\n",
        "    - Slight angle resembling a slanted \"1\""
      ]
    },
    {
      "cell_type": "code",
      "execution_count": 3,
      "metadata": {
        "id": "OZaKJJf3jdMJ",
        "tags": [],
        "colab": {
          "base_uri": "https://localhost:8080/",
          "height": 430
        },
        "outputId": "0167e4bf-d0c8-4111-b380-177322fd51cd"
      },
      "outputs": [
        {
          "output_type": "display_data",
          "data": {
            "text/plain": [
              "<Figure size 640x480 with 2 Axes>"
            ],
            "image/png": "[encoded data removed]"
          },
          "metadata": {}
        }
      ],
      "source": [
        "plt.figure()\n",
        "plt.imshow(x_train[12], cmap='gray', vmin = 0, vmax = 255)\n",
        "plt.colorbar()\n",
        "plt.grid(False)\n",
        "plt.show()"
      ]
    },
    {
      "cell_type": "code",
      "execution_count": 4,
      "metadata": {
        "tags": [],
        "id": "1E0tX4uhAYDS",
        "colab": {
          "base_uri": "https://localhost:8080/",
          "height": 430
        },
        "outputId": "21631c53-2913-4796-da58-8c34db14fb0d"
      },
      "outputs": [
        {
          "output_type": "display_data",
          "data": {
            "text/plain": [
              "<Figure size 640x480 with 2 Axes>"
            ],
            "image/png": "[encoded data removed]"
          },
          "metadata": {}
        }
      ],
      "source": [
        "plt.figure()\n",
        "plt.imshow(x_train[42], cmap='gray', vmin = 0, vmax = 255)\n",
        "plt.colorbar()\n",
        "plt.grid(False)\n",
        "plt.show()"
      ]
    },
    {
      "cell_type": "code",
      "execution_count": 5,
      "metadata": {
        "id": "uJyKoCzIAYDS",
        "colab": {
          "base_uri": "https://localhost:8080/"
        },
        "outputId": "18bb3715-b7c1-4029-ebe2-d0d7f7ec14a8"
      },
      "outputs": [
        {
          "output_type": "execute_result",
          "data": {
            "text/plain": [
              "7"
            ]
          },
          "metadata": {},
          "execution_count": 5
        }
      ],
      "source": [
        "y_train[42]"
      ]
    },
    {
      "cell_type": "markdown",
      "metadata": {
        "id": "7Z_rfPvrjdMJ"
      },
      "source": [
        "## Normalizing Pixel Values\n",
        "\n",
        "- Convert pixel values from 0-255 to \\(0,1\\) by dividing each value by 255.\n",
        "- **🔎 Why Normalize?**\n",
        "  - Smaller input values stabilize gradient updates.\n",
        "  - Consistent input scale improves the adjustment of network weights.\n",
        "\n",
        "- sigmoid - at the end we have one neuron, which takes values between 0 and 1, normalization helps this range of the function\n",
        "\n",
        "- tanh - the same principle as sigmoid, but the range of values is extended from 0 to 1 to -1 to 1, this helps recurrent networks, which gradually convert to a given class, until the given value is reset to zero and helps calculations\n",
        "\n",
        "- softmax - at the end, one neuron is created for each class, which determines the probability that it is the given class\n",
        "\n",
        "Normalization helps these functions, improves performance at minimal cost since most of those activation function takes values around zero."
      ]
    },
    {
      "cell_type": "code",
      "execution_count": 6,
      "metadata": {
        "id": "hCNrX5rqjdMJ",
        "tags": []
      },
      "outputs": [],
      "source": [
        "x_train, x_test = x_train / 255.0, x_test / 255.0"
      ]
    },
    {
      "cell_type": "markdown",
      "metadata": {
        "id": "tyhe6lUKjdMJ"
      },
      "source": [
        "# Make better visualization of the data to better understand how complex they are\n",
        "* You can see that \"noisy\" digit and different handwriting style is really no exception"
      ]
    },
    {
      "cell_type": "code",
      "execution_count": 7,
      "metadata": {
        "id": "dIf8LNL7jdMJ",
        "tags": [],
        "colab": {
          "base_uri": "https://localhost:8080/",
          "height": 826
        },
        "outputId": "420c6a3e-580e-457d-bbdf-2198597402d8"
      },
      "outputs": [
        {
          "output_type": "display_data",
          "data": {
            "text/plain": [
              "<Figure size 1000x1000 with 25 Axes>"
            ],
            "image/png": "[encoded data removed]"
          },
          "metadata": {}
        }
      ],
      "source": [
        "class_names = [str(x) for x in range(10)]\n",
        "\n",
        "plt.figure(figsize=(10,10))\n",
        "for i in range(25):\n",
        "    plt.subplot(5,5,i+1)\n",
        "    plt.xticks([])\n",
        "    plt.yticks([])\n",
        "    plt.grid(False)\n",
        "    plt.imshow(x_train[i], cmap=plt.cm.binary)\n",
        "    plt.xlabel(class_names[y_train[i]])\n",
        "plt.show()"
      ]
    },
    {
      "cell_type": "markdown",
      "metadata": {
        "id": "3X8IbX7dAYDX"
      },
      "source": [
        "## 🌳 Before we dive in the deep learning territory, let's try to create some baseline model using a machine learning so we can compare the approaches\n",
        "* 🔎 Are ML models capable of processing image data?\n",
        "    * How to deal with a matrix input?"
      ]
    },
    {
      "cell_type": "code",
      "execution_count": 8,
      "metadata": {
        "tags": [],
        "id": "P9CmegjdAYDX",
        "colab": {
          "base_uri": "https://localhost:8080/",
          "height": 80
        },
        "outputId": "6b2f71bf-8515-42e9-f139-2718fabb915b"
      },
      "outputs": [
        {
          "output_type": "execute_result",
          "data": {
            "text/plain": [
              "DecisionTreeClassifier()"
            ],
            "text/html": [
              "<style>#sk-container-id-1 {\n",
              "  /* Definition of color scheme common for light and dark mode */\n",
              "  --sklearn-color-text: #000;\n",
              "  --sklearn-color-text-muted: #666;\n",
              "  --sklearn-color-line: gray;\n",
              "  /* Definition of color scheme for unfitted estimators */\n",
              "  --sklearn-color-unfitted-level-0: #fff5e6;\n",
              "  --sklearn-color-unfitted-level-1: #f6e4d2;\n",
              "  --sklearn-color-unfitted-level-2: #ffe0b3;\n",
              "  --sklearn-color-unfitted-level-3: chocolate;\n",
              "  /* Definition of color scheme for fitted estimators */\n",
              "  --sklearn-color-fitted-level-0: #f0f8ff;\n",
              "  --sklearn-color-fitted-level-1: #d4ebff;\n",
              "  --sklearn-color-fitted-level-2: #b3dbfd;\n",
              "  --sklearn-color-fitted-level-3: cornflowerblue;\n",
              "\n",
              "  /* Specific color for light theme */\n",
              "  --sklearn-color-text-on-default-background: var(--sg-text-color, var(--theme-code-foreground, var(--jp-content-font-color1, black)));\n",
              "  --sklearn-color-background: var(--sg-background-color, var(--theme-background, var(--jp-layout-color0, white)));\n",
              "  --sklearn-color-border-box: var(--sg-text-color, var(--theme-code-foreground, var(--jp-content-font-color1, black)));\n",
              "  --sklearn-color-icon: #696969;\n",
              "\n",
              "  @media (prefers-color-scheme: dark) {\n",
              "    /* Redefinition of color scheme for dark theme */\n",
              "    --sklearn-color-text-on-default-background: var(--sg-text-color, var(--theme-code-foreground, var(--jp-content-font-color1, white)));\n",
              "    --sklearn-color-background: var(--sg-background-color, var(--theme-background, var(--jp-layout-color0, #111)));\n",
              "    --sklearn-color-border-box: var(--sg-text-color, var(--theme-code-foreground, var(--jp-content-font-color1, white)));\n",
              "    --sklearn-color-icon: #878787;\n",
              "  }\n",
              "}\n",
              "\n",
              "#sk-container-id-1 {\n",
              "  color: var(--sklearn-color-text);\n",
              "}\n",
              "\n",
              "#sk-container-id-1 pre {\n",
              "  padding: 0;\n",
              "}\n",
              "\n",
              "#sk-container-id-1 input.sk-hidden--visually {\n",
              "  border: 0;\n",
              "  clip: rect(1px 1px 1px 1px);\n",
              "  clip: rect(1px, 1px, 1px, 1px);\n",
              "  height: 1px;\n",
              "  margin: -1px;\n",
              "  overflow: hidden;\n",
              "  padding: 0;\n",
              "  position: absolute;\n",
              "  width: 1px;\n",
              "}\n",
              "\n",
              "#sk-container-id-1 div.sk-dashed-wrapped {\n",
              "  border: 1px dashed var(--sklearn-color-line);\n",
              "  margin: 0 0.4em 0.5em 0.4em;\n",
              "  box-sizing: border-box;\n",
              "  padding-bottom: 0.4em;\n",
              "  background-color: var(--sklearn-color-background);\n",
              "}\n",
              "\n",
              "#sk-container-id-1 div.sk-container {\n",
              "  /* jupyter's `normalize.less` sets `[hidden] { display: none; }`\n",
              "     but bootstrap.min.css set `[hidden] { display: none !important; }`\n",
              "     so we also need the `!important` here to be able to override the\n",
              "     default hidden behavior on the sphinx rendered scikit-learn.org.\n",
              "     See: https://github.com/scikit-learn/scikit-learn/issues/21755 */\n",
              "  display: inline-block !important;\n",
              "  position: relative;\n",
              "}\n",
              "\n",
              "#sk-container-id-1 div.sk-text-repr-fallback {\n",
              "  display: none;\n",
              "}\n",
              "\n",
              "div.sk-parallel-item,\n",
              "div.sk-serial,\n",
              "div.sk-item {\n",
              "  /* draw centered vertical line to link estimators */\n",
              "  background-image: linear-gradient(var(--sklearn-color-text-on-default-background), var(--sklearn-color-text-on-default-background));\n",
              "  background-size: 2px 100%;\n",
              "  background-repeat: no-repeat;\n",
              "  background-position: center center;\n",
              "}\n",
              "\n",
              "/* Parallel-specific style estimator block */\n",
              "\n",
              "#sk-container-id-1 div.sk-parallel-item::after {\n",
              "  content: \"\";\n",
              "  width: 100%;\n",
              "  border-bottom: 2px solid var(--sklearn-color-text-on-default-background);\n",
              "  flex-grow: 1;\n",
              "}\n",
              "\n",
              "#sk-container-id-1 div.sk-parallel {\n",
              "  display: flex;\n",
              "  align-items: stretch;\n",
              "  justify-content: center;\n",
              "  background-color: var(--sklearn-color-background);\n",
              "  position: relative;\n",
              "}\n",
              "\n",
              "#sk-container-id-1 div.sk-parallel-item {\n",
              "  display: flex;\n",
              "  flex-direction: column;\n",
              "}\n",
              "\n",
              "#sk-container-id-1 div.sk-parallel-item:first-child::after {\n",
              "  align-self: flex-end;\n",
              "  width: 50%;\n",
              "}\n",
              "\n",
              "#sk-container-id-1 div.sk-parallel-item:last-child::after {\n",
              "  align-self: flex-start;\n",
              "  width: 50%;\n",
              "}\n",
              "\n",
              "#sk-container-id-1 div.sk-parallel-item:only-child::after {\n",
              "  width: 0;\n",
              "}\n",
              "\n",
              "/* Serial-specific style estimator block */\n",
              "\n",
              "#sk-container-id-1 div.sk-serial {\n",
              "  display: flex;\n",
              "  flex-direction: column;\n",
              "  align-items: center;\n",
              "  background-color: var(--sklearn-color-background);\n",
              "  padding-right: 1em;\n",
              "  padding-left: 1em;\n",
              "}\n",
              "\n",
              "\n",
              "/* Toggleable style: style used for estimator/Pipeline/ColumnTransformer box that is\n",
              "clickable and can be expanded/collapsed.\n",
              "- Pipeline and ColumnTransformer use this feature and define the default style\n",
              "- Estimators will overwrite some part of the style using the `sk-estimator` class\n",
              "*/\n",
              "\n",
              "/* Pipeline and ColumnTransformer style (default) */\n",
              "\n",
              "#sk-container-id-1 div.sk-toggleable {\n",
              "  /* Default theme specific background. It is overwritten whether we have a\n",
              "  specific estimator or a Pipeline/ColumnTransformer */\n",
              "  background-color: var(--sklearn-color-background);\n",
              "}\n",
              "\n",
              "/* Toggleable label */\n",
              "#sk-container-id-1 label.sk-toggleable__label {\n",
              "  cursor: pointer;\n",
              "  display: flex;\n",
              "  width: 100%;\n",
              "  margin-bottom: 0;\n",
              "  padding: 0.5em;\n",
              "  box-sizing: border-box;\n",
              "  text-align: center;\n",
              "  align-items: start;\n",
              "  justify-content: space-between;\n",
              "  gap: 0.5em;\n",
              "}\n",
              "\n",
              "#sk-container-id-1 label.sk-toggleable__label .caption {\n",
              "  font-size: 0.6rem;\n",
              "  font-weight: lighter;\n",
              "  color: var(--sklearn-color-text-muted);\n",
              "}\n",
              "\n",
              "#sk-container-id-1 label.sk-toggleable__label-arrow:before {\n",
              "  /* Arrow on the left of the label */\n",
              "  content: \"▸\";\n",
              "  float: left;\n",
              "  margin-right: 0.25em;\n",
              "  color: var(--sklearn-color-icon);\n",
              "}\n",
              "\n",
              "#sk-container-id-1 label.sk-toggleable__label-arrow:hover:before {\n",
              "  color: var(--sklearn-color-text);\n",
              "}\n",
              "\n",
              "/* Toggleable content - dropdown */\n",
              "\n",
              "#sk-container-id-1 div.sk-toggleable__content {\n",
              "  max-height: 0;\n",
              "  max-width: 0;\n",
              "  overflow: hidden;\n",
              "  text-align: left;\n",
              "  /* unfitted */\n",
              "  background-color: var(--sklearn-color-unfitted-level-0);\n",
              "}\n",
              "\n",
              "#sk-container-id-1 div.sk-toggleable__content.fitted {\n",
              "  /* fitted */\n",
              "  background-color: var(--sklearn-color-fitted-level-0);\n",
              "}\n",
              "\n",
              "#sk-container-id-1 div.sk-toggleable__content pre {\n",
              "  margin: 0.2em;\n",
              "  border-radius: 0.25em;\n",
              "  color: var(--sklearn-color-text);\n",
              "  /* unfitted */\n",
              "  background-color: var(--sklearn-color-unfitted-level-0);\n",
              "}\n",
              "\n",
              "#sk-container-id-1 div.sk-toggleable__content.fitted pre {\n",
              "  /* unfitted */\n",
              "  background-color: var(--sklearn-color-fitted-level-0);\n",
              "}\n",
              "\n",
              "#sk-container-id-1 input.sk-toggleable__control:checked~div.sk-toggleable__content {\n",
              "  /* Expand drop-down */\n",
              "  max-height: 200px;\n",
              "  max-width: 100%;\n",
              "  overflow: auto;\n",
              "}\n",
              "\n",
              "#sk-container-id-1 input.sk-toggleable__control:checked~label.sk-toggleable__label-arrow:before {\n",
              "  content: \"▾\";\n",
              "}\n",
              "\n",
              "/* Pipeline/ColumnTransformer-specific style */\n",
              "\n",
              "#sk-container-id-1 div.sk-label input.sk-toggleable__control:checked~label.sk-toggleable__label {\n",
              "  color: var(--sklearn-color-text);\n",
              "  background-color: var(--sklearn-color-unfitted-level-2);\n",
              "}\n",
              "\n",
              "#sk-container-id-1 div.sk-label.fitted input.sk-toggleable__control:checked~label.sk-toggleable__label {\n",
              "  background-color: var(--sklearn-color-fitted-level-2);\n",
              "}\n",
              "\n",
              "/* Estimator-specific style */\n",
              "\n",
              "/* Colorize estimator box */\n",
              "#sk-container-id-1 div.sk-estimator input.sk-toggleable__control:checked~label.sk-toggleable__label {\n",
              "  /* unfitted */\n",
              "  background-color: var(--sklearn-color-unfitted-level-2);\n",
              "}\n",
              "\n",
              "#sk-container-id-1 div.sk-estimator.fitted input.sk-toggleable__control:checked~label.sk-toggleable__label {\n",
              "  /* fitted */\n",
              "  background-color: var(--sklearn-color-fitted-level-2);\n",
              "}\n",
              "\n",
              "#sk-container-id-1 div.sk-label label.sk-toggleable__label,\n",
              "#sk-container-id-1 div.sk-label label {\n",
              "  /* The background is the default theme color */\n",
              "  color: var(--sklearn-color-text-on-default-background);\n",
              "}\n",
              "\n",
              "/* On hover, darken the color of the background */\n",
              "#sk-container-id-1 div.sk-label:hover label.sk-toggleable__label {\n",
              "  color: var(--sklearn-color-text);\n",
              "  background-color: var(--sklearn-color-unfitted-level-2);\n",
              "}\n",
              "\n",
              "/* Label box, darken color on hover, fitted */\n",
              "#sk-container-id-1 div.sk-label.fitted:hover label.sk-toggleable__label.fitted {\n",
              "  color: var(--sklearn-color-text);\n",
              "  background-color: var(--sklearn-color-fitted-level-2);\n",
              "}\n",
              "\n",
              "/* Estimator label */\n",
              "\n",
              "#sk-container-id-1 div.sk-label label {\n",
              "  font-family: monospace;\n",
              "  font-weight: bold;\n",
              "  display: inline-block;\n",
              "  line-height: 1.2em;\n",
              "}\n",
              "\n",
              "#sk-container-id-1 div.sk-label-container {\n",
              "  text-align: center;\n",
              "}\n",
              "\n",
              "/* Estimator-specific */\n",
              "#sk-container-id-1 div.sk-estimator {\n",
              "  font-family: monospace;\n",
              "  border: 1px dotted var(--sklearn-color-border-box);\n",
              "  border-radius: 0.25em;\n",
              "  box-sizing: border-box;\n",
              "  margin-bottom: 0.5em;\n",
              "  /* unfitted */\n",
              "  background-color: var(--sklearn-color-unfitted-level-0);\n",
              "}\n",
              "\n",
              "#sk-container-id-1 div.sk-estimator.fitted {\n",
              "  /* fitted */\n",
              "  background-color: var(--sklearn-color-fitted-level-0);\n",
              "}\n",
              "\n",
              "/* on hover */\n",
              "#sk-container-id-1 div.sk-estimator:hover {\n",
              "  /* unfitted */\n",
              "  background-color: var(--sklearn-color-unfitted-level-2);\n",
              "}\n",
              "\n",
              "#sk-container-id-1 div.sk-estimator.fitted:hover {\n",
              "  /* fitted */\n",
              "  background-color: var(--sklearn-color-fitted-level-2);\n",
              "}\n",
              "\n",
              "/* Specification for estimator info (e.g. \"i\" and \"?\") */\n",
              "\n",
              "/* Common style for \"i\" and \"?\" */\n",
              "\n",
              ".sk-estimator-doc-link,\n",
              "a:link.sk-estimator-doc-link,\n",
              "a:visited.sk-estimator-doc-link {\n",
              "  float: right;\n",
              "  font-size: smaller;\n",
              "  line-height: 1em;\n",
              "  font-family: monospace;\n",
              "  background-color: var(--sklearn-color-background);\n",
              "  border-radius: 1em;\n",
              "  height: 1em;\n",
              "  width: 1em;\n",
              "  text-decoration: none !important;\n",
              "  margin-left: 0.5em;\n",
              "  text-align: center;\n",
              "  /* unfitted */\n",
              "  border: var(--sklearn-color-unfitted-level-1) 1pt solid;\n",
              "  color: var(--sklearn-color-unfitted-level-1);\n",
              "}\n",
              "\n",
              ".sk-estimator-doc-link.fitted,\n",
              "a:link.sk-estimator-doc-link.fitted,\n",
              "a:visited.sk-estimator-doc-link.fitted {\n",
              "  /* fitted */\n",
              "  border: var(--sklearn-color-fitted-level-1) 1pt solid;\n",
              "  color: var(--sklearn-color-fitted-level-1);\n",
              "}\n",
              "\n",
              "/* On hover */\n",
              "div.sk-estimator:hover .sk-estimator-doc-link:hover,\n",
              ".sk-estimator-doc-link:hover,\n",
              "div.sk-label-container:hover .sk-estimator-doc-link:hover,\n",
              ".sk-estimator-doc-link:hover {\n",
              "  /* unfitted */\n",
              "  background-color: var(--sklearn-color-unfitted-level-3);\n",
              "  color: var(--sklearn-color-background);\n",
              "  text-decoration: none;\n",
              "}\n",
              "\n",
              "div.sk-estimator.fitted:hover .sk-estimator-doc-link.fitted:hover,\n",
              ".sk-estimator-doc-link.fitted:hover,\n",
              "div.sk-label-container:hover .sk-estimator-doc-link.fitted:hover,\n",
              ".sk-estimator-doc-link.fitted:hover {\n",
              "  /* fitted */\n",
              "  background-color: var(--sklearn-color-fitted-level-3);\n",
              "  color: var(--sklearn-color-background);\n",
              "  text-decoration: none;\n",
              "}\n",
              "\n",
              "/* Span, style for the box shown on hovering the info icon */\n",
              ".sk-estimator-doc-link span {\n",
              "  display: none;\n",
              "  z-index: 9999;\n",
              "  position: relative;\n",
              "  font-weight: normal;\n",
              "  right: .2ex;\n",
              "  padding: .5ex;\n",
              "  margin: .5ex;\n",
              "  width: min-content;\n",
              "  min-width: 20ex;\n",
              "  max-width: 50ex;\n",
              "  color: var(--sklearn-color-text);\n",
              "  box-shadow: 2pt 2pt 4pt #999;\n",
              "  /* unfitted */\n",
              "  background: var(--sklearn-color-unfitted-level-0);\n",
              "  border: .5pt solid var(--sklearn-color-unfitted-level-3);\n",
              "}\n",
              "\n",
              ".sk-estimator-doc-link.fitted span {\n",
              "  /* fitted */\n",
              "  background: var(--sklearn-color-fitted-level-0);\n",
              "  border: var(--sklearn-color-fitted-level-3);\n",
              "}\n",
              "\n",
              ".sk-estimator-doc-link:hover span {\n",
              "  display: block;\n",
              "}\n",
              "\n",
              "/* \"?\"-specific style due to the `<a>` HTML tag */\n",
              "\n",
              "#sk-container-id-1 a.estimator_doc_link {\n",
              "  float: right;\n",
              "  font-size: 1rem;\n",
              "  line-height: 1em;\n",
              "  font-family: monospace;\n",
              "  background-color: var(--sklearn-color-background);\n",
              "  border-radius: 1rem;\n",
              "  height: 1rem;\n",
              "  width: 1rem;\n",
              "  text-decoration: none;\n",
              "  /* unfitted */\n",
              "  color: var(--sklearn-color-unfitted-level-1);\n",
              "  border: var(--sklearn-color-unfitted-level-1) 1pt solid;\n",
              "}\n",
              "\n",
              "#sk-container-id-1 a.estimator_doc_link.fitted {\n",
              "  /* fitted */\n",
              "  border: var(--sklearn-color-fitted-level-1) 1pt solid;\n",
              "  color: var(--sklearn-color-fitted-level-1);\n",
              "}\n",
              "\n",
              "/* On hover */\n",
              "#sk-container-id-1 a.estimator_doc_link:hover {\n",
              "  /* unfitted */\n",
              "  background-color: var(--sklearn-color-unfitted-level-3);\n",
              "  color: var(--sklearn-color-background);\n",
              "  text-decoration: none;\n",
              "}\n",
              "\n",
              "#sk-container-id-1 a.estimator_doc_link.fitted:hover {\n",
              "  /* fitted */\n",
              "  background-color: var(--sklearn-color-fitted-level-3);\n",
              "}\n",
              "</style><div id=\"sk-container-id-1\" class=\"sk-top-container\"><div class=\"sk-text-repr-fallback\"><pre>DecisionTreeClassifier()</pre><b>In a Jupyter environment, please rerun this cell to show the HTML representation or trust the notebook. <br />On GitHub, the HTML representation is unable to render, please try loading this page with nbviewer.org.</b></div><div class=\"sk-container\" hidden><div class=\"sk-item\"><div class=\"sk-estimator fitted sk-toggleable\"><input class=\"sk-toggleable__control sk-hidden--visually\" id=\"sk-estimator-id-1\" type=\"checkbox\" checked><label for=\"sk-estimator-id-1\" class=\"sk-toggleable__label fitted sk-toggleable__label-arrow\"><div><div>DecisionTreeClassifier</div></div><div><a class=\"sk-estimator-doc-link fitted\" rel=\"noreferrer\" target=\"_blank\" href=\"https://scikit-learn.org/1.6/modules/generated/sklearn.tree.DecisionTreeClassifier.html\">?<span>Documentation for DecisionTreeClassifier</span></a><span class=\"sk-estimator-doc-link fitted\">i<span>Fitted</span></span></div></label><div class=\"sk-toggleable__content fitted\"><pre>DecisionTreeClassifier()</pre></div> </div></div></div></div>"
            ]
          },
          "metadata": {},
          "execution_count": 8
        }
      ],
      "source": [
        "alg = DecisionTreeClassifier()\n",
        "alg.fit(x_train.reshape(-1, 28*28), y_train)"
      ]
    },
    {
      "cell_type": "code",
      "execution_count": 9,
      "metadata": {
        "tags": [],
        "id": "uaAT2NC8AYDY"
      },
      "outputs": [],
      "source": [
        "y_pred = alg.predict(x_test.reshape(-1, 28*28))"
      ]
    },
    {
      "cell_type": "code",
      "execution_count": 10,
      "metadata": {
        "tags": [],
        "id": "-d4Pu5xTAYDZ",
        "colab": {
          "base_uri": "https://localhost:8080/"
        },
        "outputId": "a57edc13-6af2-4734-f0ef-433b46e6f501"
      },
      "outputs": [
        {
          "output_type": "execute_result",
          "data": {
            "text/plain": [
              "array([7, 2, 1, ..., 4, 5, 6], dtype=uint8)"
            ]
          },
          "metadata": {},
          "execution_count": 10
        }
      ],
      "source": [
        "y_pred"
      ]
    },
    {
      "cell_type": "code",
      "execution_count": 11,
      "metadata": {
        "tags": [],
        "id": "SK-J8mitAYDa",
        "colab": {
          "base_uri": "https://localhost:8080/"
        },
        "outputId": "5a0f31d9-e8a3-4878-e55f-72ae14fc8eaa"
      },
      "outputs": [
        {
          "output_type": "execute_result",
          "data": {
            "text/plain": [
              "0.8784"
            ]
          },
          "metadata": {},
          "execution_count": 11
        }
      ],
      "source": [
        "accuracy_score(y_true=y_test, y_pred=y_pred)"
      ]
    },
    {
      "cell_type": "markdown",
      "metadata": {
        "id": "BcMb4lBzAYDc"
      },
      "source": [
        "# We can see that we were able to create a classifier very easily.\n",
        "* 💡 However it is no secret, that DL models accuracy on MNIST can be >= 98% even with simple architecture\n",
        "    * Given the fact, our result is not very impresive 🙂"
      ]
    },
    {
      "cell_type": "markdown",
      "metadata": {
        "id": "H3uY8cfbjdMJ"
      },
      "source": [
        "# Basic model - ANN with very simple hierarchy\n",
        "   * Model is created using layers, many layers exists in the [layer submodule](https://www.tensorflow.org/api_docs/python/tf/keras/layers)\n",
        "   * Each layer uses a activation functions collected in the [module nn](https://www.tensorflow.org/api_docs/python/tf/nn)\n",
        "\n",
        "### 💡 There are 2 ways of using the Keras API - **Sequential** and **Functional**\n",
        "   * We will start with the sequential one\n",
        "\n",
        "* 🔎 Why do we use activation functions?\n",
        "* 🔎 How is ANN different from lin. regression?\n",
        "\n",
        "# 🚀 Let's design our first ANN\n",
        "   * Can you draw such network on a table?"
      ]
    },
    {
      "cell_type": "code",
      "execution_count": 12,
      "metadata": {
        "id": "4FRfWkocjdMK",
        "tags": [],
        "colab": {
          "base_uri": "https://localhost:8080/",
          "height": 294
        },
        "outputId": "ecb43b97-49cd-4c8a-dad8-c8fad80cba01"
      },
      "outputs": [
        {
          "output_type": "stream",
          "name": "stderr",
          "text": [
            "/usr/local/lib/python3.11/dist-packages/keras/src/layers/reshaping/flatten.py:37: UserWarning: Do not pass an `input_shape`/`input_dim` argument to a layer. When using Sequential models, prefer using an `Input(shape)` object as the first layer in the model instead.\n",
            "  super().__init__(**kwargs)\n"
          ]
        },
        {
          "output_type": "display_data",
          "data": {
            "text/plain": [
              "\u001b[1mModel: \"sequential\"\u001b[0m\n"
            ],
            "text/html": [
              "<pre style=\"white-space:pre;overflow-x:auto;line-height:normal;font-family:Menlo,'DejaVu Sans Mono',consolas,'Courier New',monospace\"><span style=\"font-weight: bold\">Model: \"sequential\"</span>\n",
              "</pre>\n"
            ]
          },
          "metadata": {}
        },
        {
          "output_type": "display_data",
          "data": {
            "text/plain": [
              "┏━━━━━━━━━━━━━━━━━━━━━━━━━━━━━━━━━━━━━━┳━━━━━━━━━━━━━━━━━━━━━━━━━━━━━┳━━━━━━━━━━━━━━━━━┓\n",
              "┃\u001b[1m \u001b[0m\u001b[1mLayer (type)                        \u001b[0m\u001b[1m \u001b[0m┃\u001b[1m \u001b[0m\u001b[1mOutput Shape               \u001b[0m\u001b[1m \u001b[0m┃\u001b[1m \u001b[0m\u001b[1m        Param #\u001b[0m\u001b[1m \u001b[0m┃\n",
              "┡━━━━━━━━━━━━━━━━━━━━━━━━━━━━━━━━━━━━━━╇━━━━━━━━━━━━━━━━━━━━━━━━━━━━━╇━━━━━━━━━━━━━━━━━┩\n",
              "│ flatten (\u001b[38;5;33mFlatten\u001b[0m)                    │ (\u001b[38;5;45mNone\u001b[0m, \u001b[38;5;34m784\u001b[0m)                 │               \u001b[38;5;34m0\u001b[0m │\n",
              "├──────────────────────────────────────┼─────────────────────────────┼─────────────────┤\n",
              "│ dense (\u001b[38;5;33mDense\u001b[0m)                        │ (\u001b[38;5;45mNone\u001b[0m, \u001b[38;5;34m32\u001b[0m)                  │          \u001b[38;5;34m25,120\u001b[0m │\n",
              "├──────────────────────────────────────┼─────────────────────────────┼─────────────────┤\n",
              "│ dense_1 (\u001b[38;5;33mDense\u001b[0m)                      │ (\u001b[38;5;45mNone\u001b[0m, \u001b[38;5;34m10\u001b[0m)                  │             \u001b[38;5;34m330\u001b[0m │\n",
              "└──────────────────────────────────────┴─────────────────────────────┴─────────────────┘\n"
            ],
            "text/html": [
              "<pre style=\"white-space:pre;overflow-x:auto;line-height:normal;font-family:Menlo,'DejaVu Sans Mono',consolas,'Courier New',monospace\">┏━━━━━━━━━━━━━━━━━━━━━━━━━━━━━━━━━━━━━━┳━━━━━━━━━━━━━━━━━━━━━━━━━━━━━┳━━━━━━━━━━━━━━━━━┓\n",
              "┃<span style=\"font-weight: bold\"> Layer (type)                         </span>┃<span style=\"font-weight: bold\"> Output Shape                </span>┃<span style=\"font-weight: bold\">         Param # </span>┃\n",
              "┡━━━━━━━━━━━━━━━━━━━━━━━━━━━━━━━━━━━━━━╇━━━━━━━━━━━━━━━━━━━━━━━━━━━━━╇━━━━━━━━━━━━━━━━━┩\n",
              "│ flatten (<span style=\"color: #0087ff; text-decoration-color: #0087ff\">Flatten</span>)                    │ (<span style=\"color: #00d7ff; text-decoration-color: #00d7ff\">None</span>, <span style=\"color: #00af00; text-decoration-color: #00af00\">784</span>)                 │               <span style=\"color: #00af00; text-decoration-color: #00af00\">0</span> │\n",
              "├──────────────────────────────────────┼─────────────────────────────┼─────────────────┤\n",
              "│ dense (<span style=\"color: #0087ff; text-decoration-color: #0087ff\">Dense</span>)                        │ (<span style=\"color: #00d7ff; text-decoration-color: #00d7ff\">None</span>, <span style=\"color: #00af00; text-decoration-color: #00af00\">32</span>)                  │          <span style=\"color: #00af00; text-decoration-color: #00af00\">25,120</span> │\n",
              "├──────────────────────────────────────┼─────────────────────────────┼─────────────────┤\n",
              "│ dense_1 (<span style=\"color: #0087ff; text-decoration-color: #0087ff\">Dense</span>)                      │ (<span style=\"color: #00d7ff; text-decoration-color: #00d7ff\">None</span>, <span style=\"color: #00af00; text-decoration-color: #00af00\">10</span>)                  │             <span style=\"color: #00af00; text-decoration-color: #00af00\">330</span> │\n",
              "└──────────────────────────────────────┴─────────────────────────────┴─────────────────┘\n",
              "</pre>\n"
            ]
          },
          "metadata": {}
        },
        {
          "output_type": "display_data",
          "data": {
            "text/plain": [
              "\u001b[1m Total params: \u001b[0m\u001b[38;5;34m25,450\u001b[0m (99.41 KB)\n"
            ],
            "text/html": [
              "<pre style=\"white-space:pre;overflow-x:auto;line-height:normal;font-family:Menlo,'DejaVu Sans Mono',consolas,'Courier New',monospace\"><span style=\"font-weight: bold\"> Total params: </span><span style=\"color: #00af00; text-decoration-color: #00af00\">25,450</span> (99.41 KB)\n",
              "</pre>\n"
            ]
          },
          "metadata": {}
        },
        {
          "output_type": "display_data",
          "data": {
            "text/plain": [
              "\u001b[1m Trainable params: \u001b[0m\u001b[38;5;34m25,450\u001b[0m (99.41 KB)\n"
            ],
            "text/html": [
              "<pre style=\"white-space:pre;overflow-x:auto;line-height:normal;font-family:Menlo,'DejaVu Sans Mono',consolas,'Courier New',monospace\"><span style=\"font-weight: bold\"> Trainable params: </span><span style=\"color: #00af00; text-decoration-color: #00af00\">25,450</span> (99.41 KB)\n",
              "</pre>\n"
            ]
          },
          "metadata": {}
        },
        {
          "output_type": "display_data",
          "data": {
            "text/plain": [
              "\u001b[1m Non-trainable params: \u001b[0m\u001b[38;5;34m0\u001b[0m (0.00 B)\n"
            ],
            "text/html": [
              "<pre style=\"white-space:pre;overflow-x:auto;line-height:normal;font-family:Menlo,'DejaVu Sans Mono',consolas,'Courier New',monospace\"><span style=\"font-weight: bold\"> Non-trainable params: </span><span style=\"color: #00af00; text-decoration-color: #00af00\">0</span> (0.00 B)\n",
              "</pre>\n"
            ]
          },
          "metadata": {}
        }
      ],
      "source": [
        "model = keras.Sequential([\n",
        "    keras.layers.Flatten(input_shape=(28, 28)),# Flatten module flatten the multidimension input into single vector 28x28 = 784 float numbers\n",
        "    keras.layers.Dense(32, activation=tf.nn.relu), # standard dense-fully connected layer with the rectified lineaar function as an activation\n",
        "    keras.layers.Dense(10, activation=tf.nn.softmax), # another fully-connected layer with softmax activation function\n",
        "])\n",
        "\n",
        "model.summary() # prints the summary of the model"
      ]
    },
    {
      "cell_type": "markdown",
      "source": [
        "Neural networks are used for more complex data—images, text, or sound. Decision trees handle vector data just fine."
      ],
      "metadata": {
        "id": "PDRjXba2E261"
      }
    },
    {
      "cell_type": "markdown",
      "metadata": {
        "id": "UJyiSdAKAYDf"
      },
      "source": [
        "### 🔎 What is the meaning of the *Total params* number?"
      ]
    },
    {
      "cell_type": "markdown",
      "metadata": {
        "id": "XxkeKMLdjdMK"
      },
      "source": [
        "# 📒 Model Compilation\n",
        "\n",
        "Each model must be compiled to fit the data and predict labels.\n",
        "\n",
        "## ⚙️ Optimizers\n",
        "\n",
        "- A variety of optimizers are available, many based on gradient descent, with gradient-free options (e.g., [Nevergrad by META](https://github.com/facebookresearch/nevergrad)).\n",
        "\n",
        "### 🔑 Selected Optimizers\n",
        "\n",
        "- **📉 Gradient Descent**  \n",
        "  Uses the full dataset; not ideal for large datasets.\n",
        "  \n",
        "- **🎲 Stochastic Gradient Descent (SGD)**  \n",
        "  Estimates the gradient using a subset of data.\n",
        "  \n",
        "- **📊 RMSProp**  \n",
        "  Adapts the learning rate using the running average of recent gradients.\n",
        "  \n",
        "- **⚡ ADAM**  \n",
        "  Combines gradient average and second moment to adapt the learning rate.\n",
        "\n",
        "## 🧮 Loss Functions\n",
        "\n",
        "💡 *Training aims to optimize weights by minimizing a loss function. The choice depends on the task and network architecture.*\n",
        "\n",
        "- **📐 Mean Squared Error (MSE)** – For regression tasks (logarithmic variant available).\n",
        "- **📏 Mean Absolute Error (MAE)** – Uses absolute differences instead of squared values.\n",
        "- **🔢 Binary Cross-Entropy** – For binary tasks; requires a sigmoid activation function.\n",
        "- **🌈 Categorical Cross-Entropy** – For multi-class tasks; requires softmax and one-hot encoded labels.\n",
        "- **🌟 Sparse Categorical Cross-Entropy** – Similar to categorical loss but works with integer labels.\n",
        "\n",
        "## 📊 Metrics\n",
        "\n",
        "💡 *Metrics evaluate model performance. Choose metrics based on the task and label distribution.*\n",
        "\n",
        "### 📈 Regression Metrics\n",
        "- Mean Squared Error (MSE)\n",
        "- Mean Absolute Error (MAE)\n",
        "- Mean Absolute Percentage Error (MAPE)\n",
        "\n",
        "### 🧩 Classification Metrics\n",
        "- Binary Accuracy\n",
        "- Categorical Accuracy\n",
        "- Sparse Categorical Accuracy\n",
        "- Top-k Categorical Accuracy\n",
        "- Sparse Top-k Categorical Accuracy\n",
        "\n",
        "⚡ *Remember*: Accuracy may not always be the best metric, especially for imbalanced datasets. Consider alternatives like F1-score or recall in such cases.\n"
      ]
    },
    {
      "cell_type": "markdown",
      "metadata": {
        "id": "7PYpJhtyAYDh"
      },
      "source": [
        "# 🚀 Model Compilation\n",
        "\n",
        "- **Accuracy Metric:** We evaluate our model using the accuracy metric.\n",
        "- **Loss Function:** We use `SparseCategoricalCrossentropy` because our labels are provided as integers.\n",
        "\n",
        "## Dense Layer Output Options\n",
        "\n",
        "- **Probabilities:**  \n",
        "  The output is passed through a softmax function, producing a normalized probability distribution over the classes (sums to 1).\n",
        "  \n",
        "- **Logits:**  \n",
        "  The layer produces raw activations, which are not normalized.\n",
        "\n",
        "## Configuring `from_logits`\n",
        "\n",
        "Your loss function needs to know what kind of output to expect:\n",
        "- 💡 If the output layer uses a **softmax** activation, set `from_logits` to `False`.\n",
        "- 💡 If the output layer does **not** use softmax, set `from_logits` to `True`."
      ]
    },
    {
      "cell_type": "code",
      "execution_count": 13,
      "metadata": {
        "id": "1rh03ZvLjdMK",
        "tags": []
      },
      "outputs": [],
      "source": [
        "model.compile(optimizer='adam',\n",
        "    loss = keras.losses.SparseCategoricalCrossentropy(from_logits=False),\n",
        "    metrics = ['accuracy'],\n",
        "    )"
      ]
    },
    {
      "cell_type": "markdown",
      "metadata": {
        "id": "lA09suMrjdMK"
      },
      "source": [
        "## 📊 Model visualization\n",
        "* The model may be printed into image like the following image of our model:"
      ]
    },
    {
      "cell_type": "code",
      "execution_count": 14,
      "metadata": {
        "id": "RAKg-e-OjdML",
        "tags": [],
        "colab": {
          "base_uri": "https://localhost:8080/",
          "height": 791
        },
        "outputId": "36d78d33-d193-41e5-f7a0-bc6d01f5f3d7"
      },
      "outputs": [
        {
          "output_type": "execute_result",
          "data": {
            "image/png": "[encoded data removed]",
            "text/plain": [
              "<IPython.core.display.Image object>"
            ]
          },
          "metadata": {},
          "execution_count": 14
        }
      ],
      "source": [
        "keras.utils.plot_model(model, show_shapes=True)"
      ]
    },
    {
      "cell_type": "markdown",
      "metadata": {
        "id": "An4hyfD7jdML"
      },
      "source": [
        "# 🚀 Now we can fit the model to the input data\n",
        "* The `fit()` method fit the model to the data, the parameters are *data* and *labels* from the train set and number of *epoch* to be trained.\n",
        "* The `validation_split` parameter is also very common. What does the parameter do?\n",
        "    * What is the validation set? How is it different from the test set?\n",
        "\n",
        "## FAQ section 🙂\n",
        "* How does the ANN training procedure look like?\n",
        "* What is the *epoch*?\n",
        "  - one cycle of model training that iterate through whole dataset\n",
        "* What is the *batch*?\n",
        "  - how big of chunk will be sent for model to learn during one epoch\n",
        "  - helps with parallelisation and speed of model learning\n",
        "    - too low or low might give lower accuracy\n",
        "    - rule of thumb is use power of two due to the instruction of CPU   \n",
        "* Why do we use batches?\n",
        "    * Is possible to have batch of size `len(data)` or of size `1`?\n",
        "      - **Batch = `len(data)`**: Requires too much memory, slows training.\n",
        "      - **Batch = `1`**: Training is slow, optimization less stable.\n",
        "    * What are caveates of these cases?\n",
        "      - **Too large batch**: Memory issues, slow updates.\n",
        "      - **Too small batch**: Noisy updates, slower convergence."
      ]
    },
    {
      "cell_type": "markdown",
      "metadata": {
        "id": "b0sxzWOdAYDl"
      },
      "source": [
        "# Define the callbacks\n",
        "* 💡  Always use `ModelCheckpoint` callback so you overcome the possible overfitting in the last few epochs!\n",
        "\n",
        "## The `.fit()` API is pretty powerful\n",
        "* It is common to use some sort of a callback, we will use `ModelCheckpoint` callback which saves the best weights configuration obtained during training so the overfitting at the final phase of training will be suppressed\n",
        "\n",
        "* **💡 The best weights are determined using the validation loss value**"
      ]
    },
    {
      "cell_type": "code",
      "execution_count": 15,
      "metadata": {
        "id": "NUzeNn2JjdML",
        "tags": []
      },
      "outputs": [],
      "source": [
        "model_checkpoint_callback = tf.keras.callbacks.ModelCheckpoint(\n",
        "    filepath='best.weights.h5',\n",
        "    save_weights_only=True,\n",
        "    monitor='val_loss',\n",
        "    mode='auto',\n",
        "    save_best_only=True)"
      ]
    },
    {
      "cell_type": "markdown",
      "metadata": {
        "id": "VOaWxDxcAYDm"
      },
      "source": [
        "# Fit the model"
      ]
    },
    {
      "cell_type": "code",
      "execution_count": 16,
      "metadata": {
        "id": "ixodDENSjdML",
        "tags": [],
        "colab": {
          "base_uri": "https://localhost:8080/"
        },
        "outputId": "28141c4b-6e47-47e1-903a-68254976db37"
      },
      "outputs": [
        {
          "output_type": "stream",
          "name": "stdout",
          "text": [
            "Epoch 1/3\n",
            "\u001b[1m375/375\u001b[0m \u001b[32m━━━━━━━━━━━━━━━━━━━━\u001b[0m\u001b[37m\u001b[0m \u001b[1m4s\u001b[0m 7ms/step - accuracy: 0.7130 - loss: 0.9746 - val_accuracy: 0.9191 - val_loss: 0.2899\n",
            "Epoch 2/3\n",
            "\u001b[1m375/375\u001b[0m \u001b[32m━━━━━━━━━━━━━━━━━━━━\u001b[0m\u001b[37m\u001b[0m \u001b[1m2s\u001b[0m 4ms/step - accuracy: 0.9204 - loss: 0.2873 - val_accuracy: 0.9310 - val_loss: 0.2442\n",
            "Epoch 3/3\n",
            "\u001b[1m375/375\u001b[0m \u001b[32m━━━━━━━━━━━━━━━━━━━━\u001b[0m\u001b[37m\u001b[0m \u001b[1m2s\u001b[0m 3ms/step - accuracy: 0.9320 - loss: 0.2400 - val_accuracy: 0.9411 - val_loss: 0.2132\n"
          ]
        }
      ],
      "source": [
        "history = model.fit(x_train, y_train, validation_split=0.2, epochs=3, callbacks=[model_checkpoint_callback], batch_size=128)"
      ]
    },
    {
      "cell_type": "markdown",
      "metadata": {
        "tags": [],
        "id": "rIJ6rzb3AYDo"
      },
      "source": [
        "# 📈 Plot Analysis: Accuracy and Loss\n",
        "The plot displays both training and validation trends, with accuracy increasing and loss decreasing over epochs.\n",
        "\n",
        "- **Lower Loss & Higher Accuracy:**  \n",
        "  It's normal for the loss to decrease and accuracy to increase during training, which indicates that the model is learning. Occasional fluctuations—where the loss may spike briefly—are also common due to the stochastic nature of optimization.\n",
        "\n",
        "- **Loss Function Behavior:**  \n",
        "  The loss can sometimes increase in short intervals because of noise in the training process, but overall a downward trend is desired.\n",
        "\n",
        "- **Overfitting Indicator:**  \n",
        "  If the training loss continues to decrease while the validation loss starts increasing, this situation is known as **overfitting**. Overfitting occurs when the model learns the training data too well and fails to generalize to unseen data."
      ]
    },
    {
      "cell_type": "code",
      "execution_count": 17,
      "metadata": {
        "id": "Wj3duiFljdML",
        "tags": [],
        "colab": {
          "base_uri": "https://localhost:8080/",
          "height": 487
        },
        "outputId": "27641f54-4a89-4166-ed53-3e7ddb7864d7"
      },
      "outputs": [
        {
          "output_type": "display_data",
          "data": {
            "text/plain": [
              "<Figure size 640x480 with 1 Axes>"
            ],
            "image/png": "[encoded data removed]"
          },
          "metadata": {}
        }
      ],
      "source": [
        "plt.figure()\n",
        "for key in history.history.keys():\n",
        "    plt.plot(history.epoch, history.history[key], label=key)\n",
        "plt.legend()\n",
        "plt.tight_layout()"
      ]
    },
    {
      "cell_type": "markdown",
      "metadata": {
        "id": "h1SIKbnnAYDo"
      },
      "source": [
        "# 📌 Beware that ANNs are prone to overfitting!\n",
        "\n",
        "### How does overfit look like?\n",
        "* Y axis = Accuracy\n",
        "* X axis = Epoch\n",
        "\n",
        "![overfit](https://github.com/rasvob/VSB-FEI-Deep-Learning-Exercises/blob/main/images/overfit_acc.png?raw=true \"Overfit\")"
      ]
    },
    {
      "cell_type": "markdown",
      "metadata": {
        "id": "4XjScr9JAYDp"
      },
      "source": [
        "# 🔎 How can we solve the overfitting issue?\n",
        "\n",
        "## 1 - Use simpler model\n",
        "* The model often overfit because there is a lot of parameters for the amount of input data\n",
        "\n",
        "## 2 - Use Dropout layer\n",
        "* Node sampling instead of edge sampling\n",
        "* If a node is dropped, then all incoming and outgoing connections from that node need to be dropped as well\n",
        "* We sample sub-networks from the original one - basically ensemble of networks\n",
        "* There won't be some \"alpha\" node in the individual layer with huge weight coefficient\n",
        "    * Responsibility for prediction will be shared among multiple nodes\n",
        "\n",
        "![dropout](https://github.com/rasvob/2020-21-ARD/raw/master/images/dropout.jpeg \"Dropout\")\n",
        "\n",
        "## 💡 Keras API\n",
        "- `keras.layers.Dropout(0.5)`\n",
        "- Take a look [here](https://www.tensorflow.org/api_docs/python/tf/keras/layers/Dropout)"
      ]
    },
    {
      "cell_type": "markdown",
      "metadata": {
        "id": "O3hqCxJ8jdML"
      },
      "source": [
        "## Beware that the best weights needs to be loaded after the training is finished!\n",
        "* **💡 Otherwise you use the weights from the last epoch!**"
      ]
    },
    {
      "cell_type": "code",
      "execution_count": 18,
      "metadata": {
        "id": "rkuf66s5jdML",
        "tags": []
      },
      "outputs": [],
      "source": [
        "model.load_weights(\"best.weights.h5\")"
      ]
    },
    {
      "cell_type": "markdown",
      "metadata": {
        "id": "A-PVXPAoAYDq"
      },
      "source": [
        "## Now we can use *evaluate()* function for obtaining the accuracy using the test set"
      ]
    },
    {
      "cell_type": "markdown",
      "metadata": {
        "tags": [],
        "id": "3ZlD22aRAYDq"
      },
      "source": [
        "![meme02](https://github.com/rasvob/VSB-FEI-Deep-Learning-Exercises/blob/main/images/dl_meme_02.jpg?raw=true \"AI Meme 02\")"
      ]
    },
    {
      "cell_type": "code",
      "execution_count": 19,
      "metadata": {
        "id": "x0QAkwi7jdMM",
        "tags": [],
        "colab": {
          "base_uri": "https://localhost:8080/"
        },
        "outputId": "68b3cd4f-a71a-4328-9426-43c35696a5b3"
      },
      "outputs": [
        {
          "output_type": "stream",
          "name": "stdout",
          "text": [
            "\u001b[1m313/313\u001b[0m \u001b[32m━━━━━━━━━━━━━━━━━━━━\u001b[0m\u001b[37m\u001b[0m \u001b[1m1s\u001b[0m 3ms/step - accuracy: 0.9301 - loss: 0.2489\n",
            "Test accuracy:  0.9398999810218811\n"
          ]
        }
      ],
      "source": [
        "test_loss, test_acc = model.evaluate(x_test, y_test)\n",
        "print('Test accuracy: ', test_acc)"
      ]
    },
    {
      "cell_type": "markdown",
      "metadata": {
        "id": "dRXlJaJ5AYDq"
      },
      "source": [
        "# Can we obtain the labels and use it for our own evaluation without Keras? Sure!"
      ]
    },
    {
      "cell_type": "markdown",
      "metadata": {
        "id": "CWhz_SsGAYDr"
      },
      "source": [
        "## We will obtain the raw softmax outputs\n",
        "* 🔎 What is the range of the vector values?\n",
        "* 🔎 Do they sum-up to some number?"
      ]
    },
    {
      "cell_type": "code",
      "execution_count": 20,
      "metadata": {
        "tags": [],
        "id": "7-9SfJyKAYDr",
        "colab": {
          "base_uri": "https://localhost:8080/"
        },
        "outputId": "e5eccc9c-9662-4df6-ae70-2caa187fecc8"
      },
      "outputs": [
        {
          "output_type": "stream",
          "name": "stdout",
          "text": [
            "\u001b[1m313/313\u001b[0m \u001b[32m━━━━━━━━━━━━━━━━━━━━\u001b[0m\u001b[37m\u001b[0m \u001b[1m1s\u001b[0m 2ms/step\n"
          ]
        }
      ],
      "source": [
        "y_pred_proba = model.predict(x_test)"
      ]
    },
    {
      "cell_type": "code",
      "execution_count": 21,
      "metadata": {
        "tags": [],
        "id": "kuutFMI4AYDs",
        "colab": {
          "base_uri": "https://localhost:8080/"
        },
        "outputId": "4259f210-40dc-4085-f187-c1e982027cd7"
      },
      "outputs": [
        {
          "output_type": "execute_result",
          "data": {
            "text/plain": [
              "array([8.2568018e-05, 9.1891490e-09, 2.9557677e-05, 2.7477946e-03,\n",
              "       7.5714348e-07, 1.1951206e-04, 5.2841685e-08, 9.9665326e-01,\n",
              "       1.1374089e-05, 3.5517820e-04], dtype=float32)"
            ]
          },
          "metadata": {},
          "execution_count": 21
        }
      ],
      "source": [
        "y_pred_proba[0]"
      ]
    },
    {
      "cell_type": "code",
      "execution_count": 22,
      "metadata": {
        "tags": [],
        "id": "9neSirO5AYDt",
        "colab": {
          "base_uri": "https://localhost:8080/"
        },
        "outputId": "ec8c8187-61fc-44fe-f305-10c30cfa9b97"
      },
      "outputs": [
        {
          "output_type": "execute_result",
          "data": {
            "text/plain": [
              "1.0000001"
            ]
          },
          "metadata": {},
          "execution_count": 22
        }
      ],
      "source": [
        "np.sum(y_pred_proba[0])"
      ]
    },
    {
      "cell_type": "markdown",
      "metadata": {
        "id": "-lWq35yIAYDu"
      },
      "source": [
        "## Now we can extract the index of the highest probability and get the labels"
      ]
    },
    {
      "cell_type": "code",
      "execution_count": 23,
      "metadata": {
        "tags": [],
        "id": "mZ5DLSr7AYDv"
      },
      "outputs": [],
      "source": [
        "y_pred = np.argmax(y_pred_proba, axis=1)"
      ]
    },
    {
      "cell_type": "code",
      "execution_count": 24,
      "metadata": {
        "tags": [],
        "id": "DKJJnZgDAYDv",
        "colab": {
          "base_uri": "https://localhost:8080/"
        },
        "outputId": "9f25eca0-190e-401c-8774-798ad9052f2a"
      },
      "outputs": [
        {
          "output_type": "execute_result",
          "data": {
            "text/plain": [
              "array([7, 2, 1, ..., 4, 5, 6])"
            ]
          },
          "metadata": {},
          "execution_count": 24
        }
      ],
      "source": [
        "y_pred"
      ]
    },
    {
      "cell_type": "markdown",
      "metadata": {
        "tags": [],
        "id": "_IxIvH57AYDw"
      },
      "source": [
        "# Is the model any better than the ML baseline?"
      ]
    },
    {
      "cell_type": "code",
      "execution_count": 25,
      "metadata": {
        "tags": [],
        "id": "fKetD1X3AYDw",
        "colab": {
          "base_uri": "https://localhost:8080/"
        },
        "outputId": "521fb1e1-3bc1-4acc-97b6-6ceae10530de"
      },
      "outputs": [
        {
          "output_type": "execute_result",
          "data": {
            "text/plain": [
              "0.9399"
            ]
          },
          "metadata": {},
          "execution_count": 25
        }
      ],
      "source": [
        "accuracy_score(y_true=y_test, y_pred=y_pred)"
      ]
    },
    {
      "cell_type": "markdown",
      "metadata": {
        "id": "94qp6WFuAYDw"
      },
      "source": [
        "# We can now re-build the same network using a Functional API\n",
        "* You can use any API that you like however I recommend the **Functional** one as it is more versatile in advanced use-cases, e.g. building ANN architecture with skip-connect synaptic links"
      ]
    },
    {
      "cell_type": "code",
      "execution_count": 26,
      "metadata": {
        "tags": [],
        "id": "fdf3VmJ2AYDw",
        "colab": {
          "base_uri": "https://localhost:8080/",
          "height": 272
        },
        "outputId": "63cad337-2c68-4a38-b2c8-f0c67f528be1"
      },
      "outputs": [
        {
          "output_type": "display_data",
          "data": {
            "text/plain": [
              "\u001b[1mModel: \"functional_1\"\u001b[0m\n"
            ],
            "text/html": [
              "<pre style=\"white-space:pre;overflow-x:auto;line-height:normal;font-family:Menlo,'DejaVu Sans Mono',consolas,'Courier New',monospace\"><span style=\"font-weight: bold\">Model: \"functional_1\"</span>\n",
              "</pre>\n"
            ]
          },
          "metadata": {}
        },
        {
          "output_type": "display_data",
          "data": {
            "text/plain": [
              "┏━━━━━━━━━━━━━━━━━━━━━━━━━━━━━━━━━━━━━━┳━━━━━━━━━━━━━━━━━━━━━━━━━━━━━┳━━━━━━━━━━━━━━━━━┓\n",
              "┃\u001b[1m \u001b[0m\u001b[1mLayer (type)                        \u001b[0m\u001b[1m \u001b[0m┃\u001b[1m \u001b[0m\u001b[1mOutput Shape               \u001b[0m\u001b[1m \u001b[0m┃\u001b[1m \u001b[0m\u001b[1m        Param #\u001b[0m\u001b[1m \u001b[0m┃\n",
              "┡━━━━━━━━━━━━━━━━━━━━━━━━━━━━━━━━━━━━━━╇━━━━━━━━━━━━━━━━━━━━━━━━━━━━━╇━━━━━━━━━━━━━━━━━┩\n",
              "│ input_layer_1 (\u001b[38;5;33mInputLayer\u001b[0m)           │ (\u001b[38;5;45mNone\u001b[0m, \u001b[38;5;34m28\u001b[0m, \u001b[38;5;34m28\u001b[0m)              │               \u001b[38;5;34m0\u001b[0m │\n",
              "├──────────────────────────────────────┼─────────────────────────────┼─────────────────┤\n",
              "│ flatten_1 (\u001b[38;5;33mFlatten\u001b[0m)                  │ (\u001b[38;5;45mNone\u001b[0m, \u001b[38;5;34m784\u001b[0m)                 │               \u001b[38;5;34m0\u001b[0m │\n",
              "├──────────────────────────────────────┼─────────────────────────────┼─────────────────┤\n",
              "│ dense_2 (\u001b[38;5;33mDense\u001b[0m)                      │ (\u001b[38;5;45mNone\u001b[0m, \u001b[38;5;34m32\u001b[0m)                  │          \u001b[38;5;34m25,120\u001b[0m │\n",
              "├──────────────────────────────────────┼─────────────────────────────┼─────────────────┤\n",
              "│ dense_3 (\u001b[38;5;33mDense\u001b[0m)                      │ (\u001b[38;5;45mNone\u001b[0m, \u001b[38;5;34m10\u001b[0m)                  │             \u001b[38;5;34m330\u001b[0m │\n",
              "└──────────────────────────────────────┴─────────────────────────────┴─────────────────┘\n"
            ],
            "text/html": [
              "<pre style=\"white-space:pre;overflow-x:auto;line-height:normal;font-family:Menlo,'DejaVu Sans Mono',consolas,'Courier New',monospace\">┏━━━━━━━━━━━━━━━━━━━━━━━━━━━━━━━━━━━━━━┳━━━━━━━━━━━━━━━━━━━━━━━━━━━━━┳━━━━━━━━━━━━━━━━━┓\n",
              "┃<span style=\"font-weight: bold\"> Layer (type)                         </span>┃<span style=\"font-weight: bold\"> Output Shape                </span>┃<span style=\"font-weight: bold\">         Param # </span>┃\n",
              "┡━━━━━━━━━━━━━━━━━━━━━━━━━━━━━━━━━━━━━━╇━━━━━━━━━━━━━━━━━━━━━━━━━━━━━╇━━━━━━━━━━━━━━━━━┩\n",
              "│ input_layer_1 (<span style=\"color: #0087ff; text-decoration-color: #0087ff\">InputLayer</span>)           │ (<span style=\"color: #00d7ff; text-decoration-color: #00d7ff\">None</span>, <span style=\"color: #00af00; text-decoration-color: #00af00\">28</span>, <span style=\"color: #00af00; text-decoration-color: #00af00\">28</span>)              │               <span style=\"color: #00af00; text-decoration-color: #00af00\">0</span> │\n",
              "├──────────────────────────────────────┼─────────────────────────────┼─────────────────┤\n",
              "│ flatten_1 (<span style=\"color: #0087ff; text-decoration-color: #0087ff\">Flatten</span>)                  │ (<span style=\"color: #00d7ff; text-decoration-color: #00d7ff\">None</span>, <span style=\"color: #00af00; text-decoration-color: #00af00\">784</span>)                 │               <span style=\"color: #00af00; text-decoration-color: #00af00\">0</span> │\n",
              "├──────────────────────────────────────┼─────────────────────────────┼─────────────────┤\n",
              "│ dense_2 (<span style=\"color: #0087ff; text-decoration-color: #0087ff\">Dense</span>)                      │ (<span style=\"color: #00d7ff; text-decoration-color: #00d7ff\">None</span>, <span style=\"color: #00af00; text-decoration-color: #00af00\">32</span>)                  │          <span style=\"color: #00af00; text-decoration-color: #00af00\">25,120</span> │\n",
              "├──────────────────────────────────────┼─────────────────────────────┼─────────────────┤\n",
              "│ dense_3 (<span style=\"color: #0087ff; text-decoration-color: #0087ff\">Dense</span>)                      │ (<span style=\"color: #00d7ff; text-decoration-color: #00d7ff\">None</span>, <span style=\"color: #00af00; text-decoration-color: #00af00\">10</span>)                  │             <span style=\"color: #00af00; text-decoration-color: #00af00\">330</span> │\n",
              "└──────────────────────────────────────┴─────────────────────────────┴─────────────────┘\n",
              "</pre>\n"
            ]
          },
          "metadata": {}
        },
        {
          "output_type": "display_data",
          "data": {
            "text/plain": [
              "\u001b[1m Total params: \u001b[0m\u001b[38;5;34m25,450\u001b[0m (99.41 KB)\n"
            ],
            "text/html": [
              "<pre style=\"white-space:pre;overflow-x:auto;line-height:normal;font-family:Menlo,'DejaVu Sans Mono',consolas,'Courier New',monospace\"><span style=\"font-weight: bold\"> Total params: </span><span style=\"color: #00af00; text-decoration-color: #00af00\">25,450</span> (99.41 KB)\n",
              "</pre>\n"
            ]
          },
          "metadata": {}
        },
        {
          "output_type": "display_data",
          "data": {
            "text/plain": [
              "\u001b[1m Trainable params: \u001b[0m\u001b[38;5;34m25,450\u001b[0m (99.41 KB)\n"
            ],
            "text/html": [
              "<pre style=\"white-space:pre;overflow-x:auto;line-height:normal;font-family:Menlo,'DejaVu Sans Mono',consolas,'Courier New',monospace\"><span style=\"font-weight: bold\"> Trainable params: </span><span style=\"color: #00af00; text-decoration-color: #00af00\">25,450</span> (99.41 KB)\n",
              "</pre>\n"
            ]
          },
          "metadata": {}
        },
        {
          "output_type": "display_data",
          "data": {
            "text/plain": [
              "\u001b[1m Non-trainable params: \u001b[0m\u001b[38;5;34m0\u001b[0m (0.00 B)\n"
            ],
            "text/html": [
              "<pre style=\"white-space:pre;overflow-x:auto;line-height:normal;font-family:Menlo,'DejaVu Sans Mono',consolas,'Courier New',monospace\"><span style=\"font-weight: bold\"> Non-trainable params: </span><span style=\"color: #00af00; text-decoration-color: #00af00\">0</span> (0.00 B)\n",
              "</pre>\n"
            ]
          },
          "metadata": {}
        }
      ],
      "source": [
        "ann_input = keras.layers.Input(shape=(28, 28))\n",
        "flatten = keras.layers.Flatten()(ann_input)\n",
        "hidden = keras.layers.Dense(32, activation='relu')(flatten)\n",
        "ann_output = keras.layers.Dense(10, activation='softmax')(hidden)\n",
        "\n",
        "model = keras.Model(ann_input, ann_output)\n",
        "\n",
        "model.compile(optimizer='adam',\n",
        "    loss = keras.losses.SparseCategoricalCrossentropy(from_logits=False),\n",
        "    metrics = ['accuracy'],\n",
        "    )\n",
        "\n",
        "model.summary()"
      ]
    },
    {
      "cell_type": "markdown",
      "metadata": {
        "id": "fAkog-nTAYDx"
      },
      "source": [
        "## ⚡ The rest of the training process is the same"
      ]
    },
    {
      "cell_type": "code",
      "execution_count": 27,
      "metadata": {
        "tags": [],
        "id": "_jo6aTuWAYDx",
        "colab": {
          "base_uri": "https://localhost:8080/"
        },
        "outputId": "e4ef0291-681d-46d0-a0a2-951ff8b4a478"
      },
      "outputs": [
        {
          "output_type": "stream",
          "name": "stdout",
          "text": [
            "Epoch 1/3\n",
            "\u001b[1m375/375\u001b[0m \u001b[32m━━━━━━━━━━━━━━━━━━━━\u001b[0m\u001b[37m\u001b[0m \u001b[1m4s\u001b[0m 7ms/step - accuracy: 0.7429 - loss: 0.9204 - val_accuracy: 0.9173 - val_loss: 0.2912\n",
            "Epoch 2/3\n",
            "\u001b[1m375/375\u001b[0m \u001b[32m━━━━━━━━━━━━━━━━━━━━\u001b[0m\u001b[37m\u001b[0m \u001b[1m3s\u001b[0m 3ms/step - accuracy: 0.9205 - loss: 0.2790 - val_accuracy: 0.9358 - val_loss: 0.2301\n",
            "Epoch 3/3\n",
            "\u001b[1m375/375\u001b[0m \u001b[32m━━━━━━━━━━━━━━━━━━━━\u001b[0m\u001b[37m\u001b[0m \u001b[1m1s\u001b[0m 3ms/step - accuracy: 0.9362 - loss: 0.2249 - val_accuracy: 0.9408 - val_loss: 0.2116\n",
            "\u001b[1m313/313\u001b[0m \u001b[32m━━━━━━━━━━━━━━━━━━━━\u001b[0m\u001b[37m\u001b[0m \u001b[1m1s\u001b[0m 3ms/step - accuracy: 0.9295 - loss: 0.2422\n",
            "Test accuracy:  0.9390000104904175\n"
          ]
        }
      ],
      "source": [
        "model_checkpoint_callback = tf.keras.callbacks.ModelCheckpoint(\n",
        "    filepath='best.weights.h5',\n",
        "    save_weights_only=True,\n",
        "    monitor='val_loss',\n",
        "    mode='auto',\n",
        "    save_best_only=True)\n",
        "\n",
        "history = model.fit(x_train, y_train, validation_split=0.2, epochs=3, callbacks=[model_checkpoint_callback], batch_size=128)\n",
        "model.load_weights(\"best.weights.h5\")\n",
        "\n",
        "test_loss, test_acc = model.evaluate(x_test, y_test)\n",
        "print('Test accuracy: ', test_acc)"
      ]
    },
    {
      "cell_type": "markdown",
      "metadata": {
        "id": "sCDX014NAYDz"
      },
      "source": [
        "# Inference and Deployment\n",
        "\n",
        "- **Save the Model:**  \n",
        "  📌 Once training is complete, save your model to a file. This avoids retraining every time you need to make predictions.\n",
        "\n",
        "- **Load the Model for Inference:**  \n",
        "  📂 In your web app, load the saved model and use it to process incoming data and generate predictions."
      ]
    },
    {
      "cell_type": "markdown",
      "metadata": {
        "id": "nh2kOcq1AYDz"
      },
      "source": [
        "## Save the model\n",
        "* We are using the new `.keras` format"
      ]
    },
    {
      "cell_type": "code",
      "execution_count": 28,
      "metadata": {
        "tags": [],
        "id": "IHo-5zdmAYD0"
      },
      "outputs": [],
      "source": [
        "model.save('mnist_model.keras')"
      ]
    },
    {
      "cell_type": "markdown",
      "metadata": {
        "id": "cpMRQLFBAYD0"
      },
      "source": [
        "## Load the model back to memory and test it"
      ]
    },
    {
      "cell_type": "code",
      "execution_count": 29,
      "metadata": {
        "tags": [],
        "id": "S4IewD7dAYD0",
        "colab": {
          "base_uri": "https://localhost:8080/"
        },
        "outputId": "d8935164-6422-4b06-c5cc-61df7b966405"
      },
      "outputs": [
        {
          "output_type": "stream",
          "name": "stdout",
          "text": [
            "\u001b[1m313/313\u001b[0m \u001b[32m━━━━━━━━━━━━━━━━━━━━\u001b[0m\u001b[37m\u001b[0m \u001b[1m1s\u001b[0m 2ms/step - accuracy: 0.9295 - loss: 0.2422\n",
            "Test accuracy:  0.9390000104904175\n"
          ]
        }
      ],
      "source": [
        "loaded_model = keras.models.load_model('mnist_model.keras')\n",
        "test_loss, test_acc = model.evaluate(x_test, y_test)\n",
        "print('Test accuracy: ', test_acc)"
      ]
    },
    {
      "cell_type": "markdown",
      "metadata": {
        "tags": [],
        "id": "JghKfxVxAYD1"
      },
      "source": [
        "# ✅ Task (2p)\n",
        "\n",
        "(Make sure you define new model, compile it and fit it, otherwise it will use one model on different batch sizes)\n",
        "\n",
        "1) Experiment with batch_sizes, use these two settings and compare the results (📌 Compare training time and accuracy) - **(0.5p)**\n",
        "\n",
        "    1) Use batch_size=1\n",
        "\n",
        "    2) Use batch_size=1024\n",
        "    \n",
        "2) Add `Dropout` layer just before the `SoftMax` output layer in you architecture use these two settings and compare the results (📌 Take a look at the train and val accuracy) - **(0.5p)**\n",
        "\n",
        "    1) Dropout(0.2)\n",
        "    \n",
        "    2) Dropout(0.95)\n",
        "    \n",
        "3) Define your own architecture using either one of the showed API and try to beat the basic model - **(1p)**"
      ]
    },
    {
      "cell_type": "markdown",
      "source": [
        "## Task 1"
      ],
      "metadata": {
        "id": "l0CG5e6WJR4L"
      }
    },
    {
      "cell_type": "markdown",
      "source": [
        "### Helper functions"
      ],
      "metadata": {
        "id": "Gc9USkwYcU7k"
      }
    },
    {
      "cell_type": "markdown",
      "source": [
        "#### Wrapper time tracking"
      ],
      "metadata": {
        "id": "Ei4MbeyLeWf0"
      }
    },
    {
      "cell_type": "code",
      "source": [
        "class TimeTracker:\n",
        "  def __enter__(self):\n",
        "    self.start_time = time.time()\n",
        "    return self\n",
        "\n",
        "  def __exit__(self, exc_type, exc_value, traceback):\n",
        "    self.end_time = time.time()\n",
        "    self.execution_time = self.end_time - self.start_time\n",
        "    minutes = self.execution_time // 60\n",
        "    seconds = self.execution_time % 60\n",
        "    print(f\"Execution time: {minutes:.0f} minutes and {seconds:.2f} seconds\")"
      ],
      "metadata": {
        "id": "mzo09y1oaj-2"
      },
      "execution_count": 30,
      "outputs": []
    },
    {
      "cell_type": "markdown",
      "source": [
        "#### Create and compile model"
      ],
      "metadata": {
        "id": "55wOtYb0ecui"
      }
    },
    {
      "cell_type": "code",
      "source": [
        "def create_model():\n",
        "    model = keras.Sequential([\n",
        "      keras.layers.Flatten(input_shape=(28, 28)),\n",
        "      keras.layers.Dense(32, activation=tf.nn.relu),\n",
        "      keras.layers.Dense(10, activation=tf.nn.softmax),\n",
        "    ])\n",
        "\n",
        "    model.compile(optimizer='adam',\n",
        "        loss = keras.losses.SparseCategoricalCrossentropy(from_logits=False),\n",
        "        metrics = ['accuracy'],\n",
        "    )\n",
        "\n",
        "    return model"
      ],
      "metadata": {
        "id": "bXeTNDbQJWM2"
      },
      "execution_count": 31,
      "outputs": []
    },
    {
      "cell_type": "markdown",
      "source": [
        "### Training"
      ],
      "metadata": {
        "id": "TavL0dorfH5p"
      }
    },
    {
      "cell_type": "markdown",
      "source": [
        "#### Training with batch size 1"
      ],
      "metadata": {
        "id": "kSaHlTBddh01"
      }
    },
    {
      "cell_type": "code",
      "source": [
        "model_1 = create_model()\n",
        "with TimeTracker():\n",
        "    history_1 = model_1.fit(x_train, y_train, validation_split=0.2, epochs=3, batch_size=1)"
      ],
      "metadata": {
        "id": "v14kzStgZfT9",
        "colab": {
          "base_uri": "https://localhost:8080/"
        },
        "outputId": "fc90ad9a-ab47-41e2-9bd4-f2ae651bc474"
      },
      "execution_count": 32,
      "outputs": [
        {
          "output_type": "stream",
          "name": "stderr",
          "text": [
            "/usr/local/lib/python3.11/dist-packages/keras/src/layers/reshaping/flatten.py:37: UserWarning: Do not pass an `input_shape`/`input_dim` argument to a layer. When using Sequential models, prefer using an `Input(shape)` object as the first layer in the model instead.\n",
            "  super().__init__(**kwargs)\n"
          ]
        },
        {
          "output_type": "stream",
          "name": "stdout",
          "text": [
            "Epoch 1/3\n",
            "\u001b[1m48000/48000\u001b[0m \u001b[32m━━━━━━━━━━━━━━━━━━━━\u001b[0m\u001b[37m\u001b[0m \u001b[1m143s\u001b[0m 3ms/step - accuracy: 0.8819 - loss: 0.3999 - val_accuracy: 0.9439 - val_loss: 0.2020\n",
            "Epoch 2/3\n",
            "\u001b[1m48000/48000\u001b[0m \u001b[32m━━━━━━━━━━━━━━━━━━━━\u001b[0m\u001b[37m\u001b[0m \u001b[1m156s\u001b[0m 3ms/step - accuracy: 0.9523 - loss: 0.1610 - val_accuracy: 0.9544 - val_loss: 0.1631\n",
            "Epoch 3/3\n",
            "\u001b[1m48000/48000\u001b[0m \u001b[32m━━━━━━━━━━━━━━━━━━━━\u001b[0m\u001b[37m\u001b[0m \u001b[1m191s\u001b[0m 3ms/step - accuracy: 0.9631 - loss: 0.1283 - val_accuracy: 0.9602 - val_loss: 0.1598\n",
            "Execution time: 8 minutes and 10.00 seconds\n"
          ]
        }
      ]
    },
    {
      "cell_type": "markdown",
      "source": [
        "#### Training with batch size 1024"
      ],
      "metadata": {
        "id": "EmnjjMwQdmXa"
      }
    },
    {
      "cell_type": "code",
      "source": [
        "model_1024 = create_model()\n",
        "with TimeTracker():\n",
        "    history_1024 = model_1024.fit(x_train, y_train, validation_split=0.2, epochs=3, batch_size=1024)"
      ],
      "metadata": {
        "id": "37YiaY-CZiYj",
        "colab": {
          "base_uri": "https://localhost:8080/"
        },
        "outputId": "5883f3cb-ca76-4fbd-f5ff-a10c0a2ad449"
      },
      "execution_count": 33,
      "outputs": [
        {
          "output_type": "stream",
          "name": "stdout",
          "text": [
            "Epoch 1/3\n",
            "\u001b[1m47/47\u001b[0m \u001b[32m━━━━━━━━━━━━━━━━━━━━\u001b[0m\u001b[37m\u001b[0m \u001b[1m3s\u001b[0m 37ms/step - accuracy: 0.4403 - loss: 1.7830 - val_accuracy: 0.8577 - val_loss: 0.6581\n",
            "Epoch 2/3\n",
            "\u001b[1m47/47\u001b[0m \u001b[32m━━━━━━━━━━━━━━━━━━━━\u001b[0m\u001b[37m\u001b[0m \u001b[1m0s\u001b[0m 6ms/step - accuracy: 0.8550 - loss: 0.5993 - val_accuracy: 0.8951 - val_loss: 0.4060\n",
            "Epoch 3/3\n",
            "\u001b[1m47/47\u001b[0m \u001b[32m━━━━━━━━━━━━━━━━━━━━\u001b[0m\u001b[37m\u001b[0m \u001b[1m0s\u001b[0m 6ms/step - accuracy: 0.8885 - loss: 0.4159 - val_accuracy: 0.9108 - val_loss: 0.3379\n",
            "Execution time: 0 minutes and 4.23 seconds\n"
          ]
        }
      ]
    },
    {
      "cell_type": "markdown",
      "source": [
        "### Result"
      ],
      "metadata": {
        "id": "ojYC2oHffC5P"
      }
    },
    {
      "cell_type": "code",
      "source": [
        "fig, axes = plt.subplots(1, 2, figsize=(12, 5), sharey=True)\n",
        "\n",
        "for key in history_1.history.keys():\n",
        "  axes[0].plot(history_1.epoch, history_1.history[key], label=key)\n",
        "axes[0].set_title(\"Batch Size 1\")\n",
        "axes[0].set_xlabel(\"Epochs\")\n",
        "axes[0].set_ylabel(\"Metric Value\")\n",
        "axes[0].legend()\n",
        "axes[0].grid(True)\n",
        "\n",
        "for key in history_1024.history.keys():\n",
        "  axes[1].plot(history_1024.epoch, history_1024.history[key], label=key)\n",
        "axes[1].set_title(\"Batch Size 1024\")\n",
        "axes[1].set_xlabel(\"Epochs\")\n",
        "axes[1].legend()\n",
        "axes[1].grid(True)\n",
        "\n",
        "plt.tight_layout()\n",
        "plt.show()"
      ],
      "metadata": {
        "colab": {
          "base_uri": "https://localhost:8080/",
          "height": 390
        },
        "id": "PJNjbY8wOcfx",
        "outputId": "6da82015-89e3-456a-f07a-399f819452a6"
      },
      "execution_count": 34,
      "outputs": [
        {
          "output_type": "display_data",
          "data": {
            "text/plain": [
              "<Figure size 1200x500 with 2 Axes>"
            ],
            "image/png": "[encoded data removed]"
          },
          "metadata": {}
        }
      ]
    },
    {
      "cell_type": "markdown",
      "source": [
        "- **Batch Size <ins>1</ins>**: Slower convergence ⏳, with gradual accuracy improvement and loss reduction.\n",
        "- **Batch Size <ins>1024</ins>**: Rapid loss decline 📉 and faster accuracy gains 📈, indicating more efficient learning.\n",
        "- *Execution Time*:\n",
        "  - Batch Size 1 → ⏱️ 8 min 10 sec (extremely slow).\n",
        "  - Batch Size 1024 → ⚡ 4.23 sec (vastly faster)."
      ],
      "metadata": {
        "id": "UkLo_CpGTuQe"
      }
    },
    {
      "cell_type": "markdown",
      "source": [
        "## Task 2"
      ],
      "metadata": {
        "id": "snjna7hlJWj9"
      }
    },
    {
      "cell_type": "markdown",
      "source": [
        "### Create and compile model with defined dropout"
      ],
      "metadata": {
        "id": "2X_qWkPse50Q"
      }
    },
    {
      "cell_type": "code",
      "source": [
        "def create_model_with_dropout(dropout_rate):\n",
        "    model = keras.Sequential([\n",
        "        keras.layers.Flatten(input_shape=(28, 28)),\n",
        "        keras.layers.Dense(32, activation=tf.nn.relu),\n",
        "        keras.layers.Dropout(dropout_rate),\n",
        "        keras.layers.Dense(10, activation=tf.nn.softmax),\n",
        "    ])\n",
        "\n",
        "    model.compile(optimizer='adam',\n",
        "      loss=keras.losses.SparseCategoricalCrossentropy(from_logits=False),\n",
        "      metrics=['accuracy'])\n",
        "\n",
        "    return model"
      ],
      "metadata": {
        "id": "1FEt4honJZn3"
      },
      "execution_count": 35,
      "outputs": []
    },
    {
      "cell_type": "markdown",
      "source": [
        "### Training"
      ],
      "metadata": {
        "id": "DLbKJhvLfQe8"
      }
    },
    {
      "cell_type": "markdown",
      "source": [
        "#### Training with Dropout(0.2)"
      ],
      "metadata": {
        "id": "VGDWXK56duOW"
      }
    },
    {
      "cell_type": "code",
      "source": [
        "model_dropout_02 = create_model_with_dropout(0.2)\n",
        "history_dropout_02 = model_dropout_02.fit(x_train, y_train, validation_split=0.2, epochs=3, batch_size=128)"
      ],
      "metadata": {
        "id": "myS0Bk2DZwHF",
        "colab": {
          "base_uri": "https://localhost:8080/"
        },
        "outputId": "18013bd1-5eb8-4725-c3b8-b9767149fa7e"
      },
      "execution_count": 36,
      "outputs": [
        {
          "output_type": "stream",
          "name": "stdout",
          "text": [
            "Epoch 1/3\n",
            "\u001b[1m375/375\u001b[0m \u001b[32m━━━━━━━━━━━━━━━━━━━━\u001b[0m\u001b[37m\u001b[0m \u001b[1m3s\u001b[0m 4ms/step - accuracy: 0.6650 - loss: 1.0876 - val_accuracy: 0.9197 - val_loss: 0.2927\n",
            "Epoch 2/3\n",
            "\u001b[1m375/375\u001b[0m \u001b[32m━━━━━━━━━━━━━━━━━━━━\u001b[0m\u001b[37m\u001b[0m \u001b[1m1s\u001b[0m 3ms/step - accuracy: 0.8886 - loss: 0.3831 - val_accuracy: 0.9312 - val_loss: 0.2370\n",
            "Epoch 3/3\n",
            "\u001b[1m375/375\u001b[0m \u001b[32m━━━━━━━━━━━━━━━━━━━━\u001b[0m\u001b[37m\u001b[0m \u001b[1m2s\u001b[0m 5ms/step - accuracy: 0.9101 - loss: 0.3147 - val_accuracy: 0.9392 - val_loss: 0.2094\n"
          ]
        }
      ]
    },
    {
      "cell_type": "markdown",
      "source": [
        "#### Training with Dropout(0.95)"
      ],
      "metadata": {
        "id": "yn1AIFpWdx5R"
      }
    },
    {
      "cell_type": "code",
      "source": [
        "model_dropout_95 = create_model_with_dropout(0.95)\n",
        "history_dropout_95 = model_dropout_95.fit(x_train, y_train, validation_split=0.2, epochs=3, batch_size=128)"
      ],
      "metadata": {
        "id": "T6pkdW0GdUZZ",
        "colab": {
          "base_uri": "https://localhost:8080/"
        },
        "outputId": "c7d33222-3d6e-4714-96dc-a51b352fddc3"
      },
      "execution_count": 37,
      "outputs": [
        {
          "output_type": "stream",
          "name": "stdout",
          "text": [
            "Epoch 1/3\n",
            "\u001b[1m375/375\u001b[0m \u001b[32m━━━━━━━━━━━━━━━━━━━━\u001b[0m\u001b[37m\u001b[0m \u001b[1m3s\u001b[0m 4ms/step - accuracy: 0.1311 - loss: 2.3572 - val_accuracy: 0.6641 - val_loss: 1.8247\n",
            "Epoch 2/3\n",
            "\u001b[1m375/375\u001b[0m \u001b[32m━━━━━━━━━━━━━━━━━━━━\u001b[0m\u001b[37m\u001b[0m \u001b[1m1s\u001b[0m 3ms/step - accuracy: 0.1726 - loss: 2.1351 - val_accuracy: 0.7657 - val_loss: 1.5932\n",
            "Epoch 3/3\n",
            "\u001b[1m375/375\u001b[0m \u001b[32m━━━━━━━━━━━━━━━━━━━━\u001b[0m\u001b[37m\u001b[0m \u001b[1m1s\u001b[0m 3ms/step - accuracy: 0.1953 - loss: 2.0713 - val_accuracy: 0.7867 - val_loss: 1.4757\n"
          ]
        }
      ]
    },
    {
      "cell_type": "markdown",
      "source": [
        "### Result"
      ],
      "metadata": {
        "id": "F6UBgJxgfWjR"
      }
    },
    {
      "cell_type": "code",
      "source": [
        "fig, axes = plt.subplots(1, 2, figsize=(12, 5), sharey=True)  # Share y-axis\n",
        "\n",
        "for key in history_dropout_02.history.keys():\n",
        "  axes[0].plot(history_dropout_02.epoch, history_dropout_02.history[key], label=key)\n",
        "axes[0].set_title(\"Dropout 0.2\")\n",
        "axes[0].set_xlabel(\"Epochs\")\n",
        "axes[0].set_ylabel(\"Metric Value\")\n",
        "axes[0].legend()\n",
        "axes[0].grid(True)\n",
        "\n",
        "for key in history_dropout_95.history.keys():\n",
        "  axes[1].plot(history_dropout_95.epoch, history_dropout_95.history[key], label=key)\n",
        "axes[1].set_title(\"Dropout 0.95\")\n",
        "axes[1].set_xlabel(\"Epochs\")\n",
        "axes[1].legend()\n",
        "axes[1].grid(True)\n",
        "\n",
        "plt.tight_layout()\n",
        "plt.show()"
      ],
      "metadata": {
        "colab": {
          "base_uri": "https://localhost:8080/",
          "height": 390
        },
        "id": "7KPsqU9Ohj9N",
        "outputId": "b1dd9d23-daba-4446-bbf8-fad187c60051"
      },
      "execution_count": 38,
      "outputs": [
        {
          "output_type": "display_data",
          "data": {
            "text/plain": [
              "<Figure size 1200x500 with 2 Axes>"
            ],
            "image/png": "[encoded data removed]"
          },
          "metadata": {}
        }
      ]
    },
    {
      "cell_type": "markdown",
      "source": [
        "- **Dropout </ns>0.2</ins>**: Balanced regularization ✅, steady accuracy increase 📈, and loss reduction 📉.\n",
        "- **Dropout <ins>0.95</ins>**: Extremely high dropout 🚨, very slow accuracy growth 🐢, and higher loss values 🚀.\n",
        "\n",
        "Conclusion:\n",
        "\n",
        "A dropout of 0.2 helps prevent overfitting while maintaining strong learning. A 0.95 dropout removes too many neurons, leading to poor learning and high loss. Finding the right balance is key! ⚖️🔥\n"
      ],
      "metadata": {
        "id": "WZ46B35hPJ61"
      }
    },
    {
      "cell_type": "markdown",
      "source": [
        "## Task  3"
      ],
      "metadata": {
        "id": "7YcMC0eyJaFa"
      }
    },
    {
      "cell_type": "markdown",
      "source": [
        "### New model"
      ],
      "metadata": {
        "id": "MWtbh4HwUNH7"
      }
    },
    {
      "cell_type": "code",
      "source": [
        "improved_model = keras.Sequential([\n",
        "  keras.layers.Flatten(input_shape=(28, 28)),\n",
        "  keras.layers.Dense(128, activation='relu'),  # more neurons\n",
        "  keras.layers.Dropout(0.2),  # for overfitting prevention\n",
        "  keras.layers.Dense(64, activation='relu'),  # Extra hidden layer\n",
        "  keras.layers.Dense(10, activation='softmax')  # Output layer\n",
        "])"
      ],
      "metadata": {
        "id": "RA3TBZ4JXvCu"
      },
      "execution_count": 39,
      "outputs": []
    },
    {
      "cell_type": "markdown",
      "source": [
        "**More Neurons**: Increased complexity with 128 neurons in the first layer (compared to 32 before)🧠.\n",
        "\n",
        "**Dropout**: Included a Dropout(0.2) layer to prevent overfitting from previous task 🚫📈.\n",
        "\n",
        "**Extra Layer**: Added another layer with 64 neurons for potentially better learning 🧠➕."
      ],
      "metadata": {
        "id": "lb0ikeYWe8yj"
      }
    },
    {
      "cell_type": "markdown",
      "source": [
        "### Training"
      ],
      "metadata": {
        "id": "0V_QFrREUO_X"
      }
    },
    {
      "cell_type": "code",
      "source": [
        "improved_model.compile(\n",
        "  optimizer='adam',\n",
        "  loss = keras.losses.SparseCategoricalCrossentropy(from_logits=False),\n",
        "  metrics = ['accuracy'],\n",
        ")"
      ],
      "metadata": {
        "id": "7J6o09h9P0Z-"
      },
      "execution_count": 40,
      "outputs": []
    },
    {
      "cell_type": "code",
      "source": [
        "history_improved = improved_model.fit(x_train, y_train, validation_split=0.2, epochs=3, callbacks=[model_checkpoint_callback], batch_size=128)\n",
        "\n",
        "improved_test_loss, improved_test_acc = improved_model.evaluate(x_test, y_test)\n",
        "print('Improved Model Test accuracy:', improved_test_acc)"
      ],
      "metadata": {
        "colab": {
          "base_uri": "https://localhost:8080/"
        },
        "id": "GM5Jw6--P6mH",
        "outputId": "84589aaa-4668-421b-e03e-11f6a6cc3d1d"
      },
      "execution_count": 41,
      "outputs": [
        {
          "output_type": "stream",
          "name": "stdout",
          "text": [
            "Epoch 1/3\n",
            "\u001b[1m375/375\u001b[0m \u001b[32m━━━━━━━━━━━━━━━━━━━━\u001b[0m\u001b[37m\u001b[0m \u001b[1m5s\u001b[0m 7ms/step - accuracy: 0.7828 - loss: 0.7314 - val_accuracy: 0.9488 - val_loss: 0.1755\n",
            "Epoch 2/3\n",
            "\u001b[1m375/375\u001b[0m \u001b[32m━━━━━━━━━━━━━━━━━━━━\u001b[0m\u001b[37m\u001b[0m \u001b[1m1s\u001b[0m 3ms/step - accuracy: 0.9405 - loss: 0.2008 - val_accuracy: 0.9614 - val_loss: 0.1334\n",
            "Epoch 3/3\n",
            "\u001b[1m375/375\u001b[0m \u001b[32m━━━━━━━━━━━━━━━━━━━━\u001b[0m\u001b[37m\u001b[0m \u001b[1m1s\u001b[0m 3ms/step - accuracy: 0.9573 - loss: 0.1413 - val_accuracy: 0.9636 - val_loss: 0.1192\n",
            "\u001b[1m313/313\u001b[0m \u001b[32m━━━━━━━━━━━━━━━━━━━━\u001b[0m\u001b[37m\u001b[0m \u001b[1m2s\u001b[0m 4ms/step - accuracy: 0.9580 - loss: 0.1350\n",
            "Improved Model Test accuracy: 0.9631999731063843\n"
          ]
        }
      ]
    },
    {
      "cell_type": "markdown",
      "source": [
        "## Result"
      ],
      "metadata": {
        "id": "246Dk1XMQomx"
      }
    },
    {
      "cell_type": "code",
      "source": [
        "print('Original model test accuracy:', test_acc)\n",
        "print('Improved model test accuracy:', improved_test_acc)"
      ],
      "metadata": {
        "colab": {
          "base_uri": "https://localhost:8080/"
        },
        "id": "hfWsn-U1Qrc2",
        "outputId": "0c9b6dd1-cebe-4603-cb7d-950206b45a59"
      },
      "execution_count": 42,
      "outputs": [
        {
          "output_type": "stream",
          "name": "stdout",
          "text": [
            "Original model test accuracy: 0.9390000104904175\n",
            "Improved model test accuracy: 0.9631999731063843\n"
          ]
        }
      ]
    },
    {
      "cell_type": "markdown",
      "source": [
        "- **Improved Accuracy**: The test accuracy increased from `0.939` in the original model to `0.963` in the new model! ✅\n",
        "\n",
        "- Result: More complex model with dropout layer led to better performance without some overfitting. 🔥"
      ],
      "metadata": {
        "id": "KZpjPhEUezuq"
      }
    }
  ],
  "metadata": {
    "accelerator": "GPU",
    "colab": {
      "provenance": [],
      "gpuType": "T4",
      "collapsed_sections": [
        "Gc9USkwYcU7k",
        "TavL0dorfH5p",
        "2X_qWkPse50Q",
        "DLbKJhvLfQe8",
        "0V_QFrREUO_X"
      ],
      "toc_visible": true
    },
    "file_extension": ".py",
    "kernelspec": {
      "display_name": "Python 3",
      "name": "python3"
    },
    "language_info": {
      "codemirror_mode": {
        "name": "ipython",
        "version": 3
      },
      "file_extension": ".py",
      "mimetype": "text/x-python",
      "name": "python",
      "nbconvert_exporter": "python",
      "pygments_lexer": "ipython3",
      "version": "3.12.3"
    },
    "mimetype": "text/x-python",
    "name": "python",
    "npconvert_exporter": "python",
    "pygments_lexer": "ipython3",
    "version": 3
  },
  "nbformat": 4,
  "nbformat_minor": 0
}