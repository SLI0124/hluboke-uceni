{
 "cells": [
  {
   "cell_type": "markdown",
   "metadata": {
    "colab_type": "text",
    "id": "86f2EBR75Itm"
   },
   "source": [
    "# Deep Learning - Exercise 6\n",
    "\n",
    "The aim of the lecture is to learn how to use recurrent neural networks (RNN) for text data analysis, specifically focusing on sentiment analysis tasks using Twitter data.\n",
    "\n",
    "**Core Concepts**\n",
    "* 🧠 Recurrent neural networks for sequence processing\n",
    "* 📝 Sentiment analysis of textual data\n",
    "* 🐦 Twitter dataset utilization\n",
    "* 🔤 GloVe embeddings for word representation\n",
    "* 📊 Text classification by sentiment\n",
    "\n",
    "You can download the dataset from [this link](https://github.com/MohamedAfham/Twitter-Sentiment-Analysis-Supervised-Learning/tree/master/Data)"
   ]
  },
  {
   "cell_type": "markdown",
   "metadata": {
    "colab_type": "text",
    "id": "Fi2Jwhs35Itq"
   },
   "source": [
    "[Open in Google colab](https://colab.research.google.com/github/rasvob/VSB-FEI-Deep-Learning-Exercises/blob/main/dl_06.ipynb)\n",
    "[Download from Github](https://github.com/rasvob/VSB-FEI-Deep-Learning-Exercises/blob/main/dl_06.ipynb)\n",
    "\n",
    "##### Remember to set **GPU** runtime in Colab!"
   ]
  },
  {
   "cell_type": "code",
   "metadata": {
    "tags": [],
    "ExecuteTime": {
     "end_time": "2025-03-29T14:25:22.788599Z",
     "start_time": "2025-03-29T14:25:20.305153Z"
    }
   },
   "source": [
    "import matplotlib.pyplot as plt\n",
    "import matplotlib.image as mpimg\n",
    "import numpy as np\n",
    "import pandas as pd\n",
    "import seaborn as sns\n",
    "import tensorflow as tf\n",
    "import tensorflow.keras as keras\n",
    "from tensorflow import string as tf_string\n",
    "from tensorflow.keras.layers import TextVectorization\n",
    "from tensorflow.keras.layers import LSTM, GRU, Bidirectional\n",
    "\n",
    "from sklearn.model_selection import train_test_split  #\n",
    "from sklearn.metrics import accuracy_score, f1_score, confusion_matrix, classification_report\n",
    "from sklearn.preprocessing import normalize\n",
    "import scipy\n",
    "import itertools\n",
    "import os\n",
    "import time\n",
    "\n",
    "tf.version.VERSION"
   ],
   "outputs": [
    {
     "name": "stderr",
     "output_type": "stream",
     "text": [
      "2025-03-29 15:25:20.526398: E external/local_xla/xla/stream_executor/cuda/cuda_fft.cc:477] Unable to register cuFFT factory: Attempting to register factory for plugin cuFFT when one has already been registered\n",
      "WARNING: All log messages before absl::InitializeLog() is called are written to STDERR\n",
      "E0000 00:00:1743258320.541259   27981 cuda_dnn.cc:8310] Unable to register cuDNN factory: Attempting to register factory for plugin cuDNN when one has already been registered\n",
      "E0000 00:00:1743258320.545051   27981 cuda_blas.cc:1418] Unable to register cuBLAS factory: Attempting to register factory for plugin cuBLAS when one has already been registered\n",
      "2025-03-29 15:25:20.559005: I tensorflow/core/platform/cpu_feature_guard.cc:210] This TensorFlow binary is optimized to use available CPU instructions in performance-critical operations.\n",
      "To enable the following instructions: AVX2 FMA, in other operations, rebuild TensorFlow with the appropriate compiler flags.\n"
     ]
    },
    {
     "data": {
      "text/plain": [
       "'2.18.0'"
      ]
     },
     "execution_count": 1,
     "metadata": {},
     "output_type": "execute_result"
    }
   ],
   "execution_count": 1
  },
  {
   "cell_type": "markdown",
   "metadata": {},
   "source": [
    "# 📒 We will work with LSTM/GRU layers\n",
    "* 🔎Do you know anything abour RNN in general?\n",
    "    * How are they different from FCNN?\n",
    "\n",
    "![Meme02](https://github.com/rasvob/VSB-FEI-Deep-Learning-Exercises/blob/main/images/dl_06_meme_02.png?raw=true)\n",
    "\n",
    "* How is pure RNN and LSTM/GRU layer different?\n",
    "    * 🔎 What issue of RNN do they address?\n",
    "* Can you imagine some use-cases for RNN?\n",
    "    * Can you imagine some limits of ML/DL solutions in the usecases as well?\n",
    "\n",
    "## 🔎 We have some new packages today 🔎\n",
    "* Below is a short description of them, check out the URLs for more details and API \n",
    "\n",
    "### 📌 NLTK\n",
    "* NLTK is a leading platform for building Python programs to work with human language data. It provides easy-to-use interfaces to over 50 corpora and lexical resources such as WordNet, along with a suite of text processing libraries for classification, tokenization, stemming, tagging, parsing, and semantic reasoning, wrappers for industrial-strength NLP libraries, and an active discussion forum.\n",
    "    * https://www.nltk.org/\n",
    "\n",
    "### 📌 TextBlob\n",
    "* TextBlob is a Python (2 and 3) library for processing textual data. It provides a simple API for diving into common natural language processing (NLP) tasks such as part-of-speech tagging, noun phrase extraction, sentiment analysis, classification, translation, and more.\n",
    "    * https://textblob.readthedocs.io/en/dev/"
   ]
  },
  {
   "cell_type": "code",
   "metadata": {
    "tags": [],
    "ExecuteTime": {
     "end_time": "2025-03-29T14:25:23.325149Z",
     "start_time": "2025-03-29T14:25:22.801882Z"
    }
   },
   "source": [
    "import unicodedata, re, string\n",
    "import nltk\n",
    "from textblob import TextBlob\n",
    "\n",
    "import nltk\n",
    "from nltk.corpus import stopwords\n",
    "from nltk.stem import LancasterStemmer\n",
    "from nltk.stem import WordNetLemmatizer"
   ],
   "outputs": [],
   "execution_count": 2
  },
  {
   "metadata": {
    "ExecuteTime": {
     "end_time": "2025-03-29T14:25:23.687322Z",
     "start_time": "2025-03-29T14:25:23.465870Z"
    }
   },
   "cell_type": "code",
   "source": [
    "# Download NLTK data files\n",
    "nltk.download('punkt')\n",
    "nltk.download('stopwords')\n",
    "nltk.download('wordnet')"
   ],
   "outputs": [
    {
     "name": "stderr",
     "output_type": "stream",
     "text": [
      "[nltk_data] Downloading package punkt to /home/vojte/nltk_data...\n",
      "[nltk_data]   Package punkt is already up-to-date!\n",
      "[nltk_data] Downloading package stopwords to /home/vojte/nltk_data...\n",
      "[nltk_data]   Package stopwords is already up-to-date!\n",
      "[nltk_data] Downloading package wordnet to /home/vojte/nltk_data...\n",
      "[nltk_data]   Package wordnet is already up-to-date!\n"
     ]
    },
    {
     "data": {
      "text/plain": [
       "True"
      ]
     },
     "execution_count": 3,
     "metadata": {},
     "output_type": "execute_result"
    }
   ],
   "execution_count": 3
  },
  {
   "cell_type": "code",
   "metadata": {
    "tags": [],
    "ExecuteTime": {
     "end_time": "2025-03-29T14:25:23.698416Z",
     "start_time": "2025-03-29T14:25:23.694333Z"
    }
   },
   "source": [
    "def show_history(history):\n",
    "    plt.figure()\n",
    "    for key in history.history.keys():\n",
    "        plt.plot(history.epoch, history.history[key], label=key)\n",
    "    plt.legend()\n",
    "    plt.tight_layout()"
   ],
   "outputs": [],
   "execution_count": 4
  },
  {
   "cell_type": "markdown",
   "metadata": {},
   "source": [
    "## Punkt Sentence Tokenizer\n",
    "* 🔎 Why do we use tokenizers?\n",
    "* This tokenizer divides a text into a list of sentences by using an unsupervised algorithm to build a model for abbreviation words, collocations, and words that start sentences. \n",
    "    * It must be trained on a large collection of plaintext in the target language before it can be used."
   ]
  },
  {
   "cell_type": "code",
   "metadata": {
    "tags": [],
    "ExecuteTime": {
     "end_time": "2025-03-29T14:25:23.743036Z",
     "start_time": "2025-03-29T14:25:23.738607Z"
    }
   },
   "source": [
    "nltk.download('punkt')"
   ],
   "outputs": [
    {
     "name": "stderr",
     "output_type": "stream",
     "text": [
      "[nltk_data] Downloading package punkt to /home/vojte/nltk_data...\n",
      "[nltk_data]   Package punkt is already up-to-date!\n"
     ]
    },
    {
     "data": {
      "text/plain": [
       "True"
      ]
     },
     "execution_count": 5,
     "metadata": {},
     "output_type": "execute_result"
    }
   ],
   "execution_count": 5
  },
  {
   "cell_type": "markdown",
   "metadata": {
    "tags": []
   },
   "source": [
    "## Download the dataset"
   ]
  },
  {
   "cell_type": "code",
   "metadata": {
    "tags": [],
    "ExecuteTime": {
     "end_time": "2025-03-29T14:25:26.415411Z",
     "start_time": "2025-03-29T14:25:23.791454Z"
    }
   },
   "source": [
    "df = pd.read_csv('https://github.com/rasvob/VSB-FEI-Deep-Learning-Exercises/raw/main/datasets/train_tweets.csv')"
   ],
   "outputs": [],
   "execution_count": 6
  },
  {
   "cell_type": "markdown",
   "metadata": {},
   "source": [
    "# ⚡ Let's take a look at the data"
   ]
  },
  {
   "cell_type": "code",
   "metadata": {
    "tags": [],
    "ExecuteTime": {
     "end_time": "2025-03-29T14:25:26.432337Z",
     "start_time": "2025-03-29T14:25:26.425361Z"
    }
   },
   "source": [
    "df.head()"
   ],
   "outputs": [
    {
     "data": {
      "text/plain": [
       "   id  label                                              tweet\n",
       "0   1      0   @user when a father is dysfunctional and is s...\n",
       "1   2      0  @user @user thanks for #lyft credit i can't us...\n",
       "2   3      0                                bihday your majesty\n",
       "3   4      0  #model   i love u take with u all the time in ...\n",
       "4   5      0             factsguide: society now    #motivation"
      ],
      "text/html": [
       "<div>\n",
       "<style scoped>\n",
       "    .dataframe tbody tr th:only-of-type {\n",
       "        vertical-align: middle;\n",
       "    }\n",
       "\n",
       "    .dataframe tbody tr th {\n",
       "        vertical-align: top;\n",
       "    }\n",
       "\n",
       "    .dataframe thead th {\n",
       "        text-align: right;\n",
       "    }\n",
       "</style>\n",
       "<table border=\"1\" class=\"dataframe\">\n",
       "  <thead>\n",
       "    <tr style=\"text-align: right;\">\n",
       "      <th></th>\n",
       "      <th>id</th>\n",
       "      <th>label</th>\n",
       "      <th>tweet</th>\n",
       "    </tr>\n",
       "  </thead>\n",
       "  <tbody>\n",
       "    <tr>\n",
       "      <th>0</th>\n",
       "      <td>1</td>\n",
       "      <td>0</td>\n",
       "      <td>@user when a father is dysfunctional and is s...</td>\n",
       "    </tr>\n",
       "    <tr>\n",
       "      <th>1</th>\n",
       "      <td>2</td>\n",
       "      <td>0</td>\n",
       "      <td>@user @user thanks for #lyft credit i can't us...</td>\n",
       "    </tr>\n",
       "    <tr>\n",
       "      <th>2</th>\n",
       "      <td>3</td>\n",
       "      <td>0</td>\n",
       "      <td>bihday your majesty</td>\n",
       "    </tr>\n",
       "    <tr>\n",
       "      <th>3</th>\n",
       "      <td>4</td>\n",
       "      <td>0</td>\n",
       "      <td>#model   i love u take with u all the time in ...</td>\n",
       "    </tr>\n",
       "    <tr>\n",
       "      <th>4</th>\n",
       "      <td>5</td>\n",
       "      <td>0</td>\n",
       "      <td>factsguide: society now    #motivation</td>\n",
       "    </tr>\n",
       "  </tbody>\n",
       "</table>\n",
       "</div>"
      ]
     },
     "execution_count": 7,
     "metadata": {},
     "output_type": "execute_result"
    }
   ],
   "execution_count": 7
  },
  {
   "cell_type": "code",
   "metadata": {
    "tags": [],
    "ExecuteTime": {
     "end_time": "2025-03-29T14:25:26.505389Z",
     "start_time": "2025-03-29T14:25:26.501371Z"
    }
   },
   "source": [
    "df.shape"
   ],
   "outputs": [
    {
     "data": {
      "text/plain": [
       "(31962, 3)"
      ]
     },
     "execution_count": 8,
     "metadata": {},
     "output_type": "execute_result"
    }
   ],
   "execution_count": 8
  },
  {
   "cell_type": "code",
   "metadata": {
    "tags": [],
    "ExecuteTime": {
     "end_time": "2025-03-29T14:25:26.706263Z",
     "start_time": "2025-03-29T14:25:26.551210Z"
    }
   },
   "source": [
    "sns.countplot(x='label', data=df)"
   ],
   "outputs": [
    {
     "data": {
      "text/plain": [
       "<Axes: xlabel='label', ylabel='count'>"
      ]
     },
     "execution_count": 9,
     "metadata": {},
     "output_type": "execute_result"
    },
    {
     "data": {
      "text/plain": [
       "<Figure size 640x480 with 1 Axes>"
      ],
      "image/png": "[encoded data removed]"
     },
     "metadata": {},
     "output_type": "display_data"
    }
   ],
   "execution_count": 9
  },
  {
   "cell_type": "code",
   "metadata": {
    "ExecuteTime": {
     "end_time": "2025-03-29T14:25:26.739344Z",
     "start_time": "2025-03-29T14:25:26.733429Z"
    }
   },
   "source": [
    "df.label.value_counts()"
   ],
   "outputs": [
    {
     "data": {
      "text/plain": [
       "label\n",
       "0    29720\n",
       "1     2242\n",
       "Name: count, dtype: int64"
      ]
     },
     "execution_count": 10,
     "metadata": {},
     "output_type": "execute_result"
    }
   ],
   "execution_count": 10
  },
  {
   "cell_type": "markdown",
   "metadata": {},
   "source": [
    "## We can see that the classes are highly imbalanced, because we have only 2242 negative tweets compared to positive ones number\n",
    "* 🔎 What will be impacted by class imbalance?"
   ]
  },
  {
   "cell_type": "markdown",
   "metadata": {},
   "source": [
    "### 💡 We can see that sentences are of similar length regardless the class"
   ]
  },
  {
   "cell_type": "code",
   "metadata": {
    "ExecuteTime": {
     "end_time": "2025-03-29T14:25:26.793883Z",
     "start_time": "2025-03-29T14:25:26.784163Z"
    }
   },
   "source": [
    "df['length'] = df.tweet.apply(len)"
   ],
   "outputs": [],
   "execution_count": 11
  },
  {
   "cell_type": "code",
   "metadata": {
    "tags": [],
    "ExecuteTime": {
     "end_time": "2025-03-29T14:25:27.120843Z",
     "start_time": "2025-03-29T14:25:26.937975Z"
    }
   },
   "source": "sns.boxplot(x='label', y='length', data=df)",
   "outputs": [
    {
     "data": {
      "text/plain": [
       "<Axes: xlabel='label', ylabel='length'>"
      ]
     },
     "execution_count": 12,
     "metadata": {},
     "output_type": "execute_result"
    },
    {
     "data": {
      "text/plain": [
       "<Figure size 640x480 with 1 Axes>"
      ],
      "image/png": "[encoded data removed]"
     },
     "metadata": {},
     "output_type": "display_data"
    }
   ],
   "execution_count": 12
  },
  {
   "cell_type": "markdown",
   "metadata": {},
   "source": [
    "## We can see that the text data are full of noise\n",
    "\n",
    "* 💡 Social posts suffer the most from this effect\n",
    "    * The text is full of hashtags, emojis, @mentions and so on\n",
    "    * These parts usually don't influence the sentiment score much\n",
    "* 💡 Although most advanced models usually extract even this features because e.g. emojis can help you with the sarcasm understanding"
   ]
  },
  {
   "cell_type": "markdown",
   "metadata": {},
   "source": [
    "## Take a look at few examples, it will share many of these caveates which we've just discussed"
   ]
  },
  {
   "cell_type": "code",
   "metadata": {
    "tags": [],
    "ExecuteTime": {
     "end_time": "2025-03-29T14:25:27.161837Z",
     "start_time": "2025-03-29T14:25:27.157783Z"
    }
   },
   "source": [
    "for x in df.loc[:10, 'tweet']:\n",
    "    print(x, '\\n', '-' * len(x))"
   ],
   "outputs": [
    {
     "name": "stdout",
     "output_type": "stream",
     "text": [
      " @user when a father is dysfunctional and is so selfish he drags his kids into his dysfunction.   #run \n",
      " ------------------------------------------------------------------------------------------------------\n",
      "@user @user thanks for #lyft credit i can't use cause they don't offer wheelchair vans in pdx.    #disapointed #getthanked \n",
      " --------------------------------------------------------------------------------------------------------------------------\n",
      "  bihday your majesty \n",
      " ---------------------\n",
      "#model   i love u take with u all the time in urð±!!! ððððð¦ð¦ð¦   \n",
      " --------------------------------------------------------------------------------------\n",
      " factsguide: society now    #motivation \n",
      " ---------------------------------------\n",
      "[2/2] huge fan fare and big talking before they leave. chaos and pay disputes when they get there. #allshowandnogo   \n",
      " --------------------------------------------------------------------------------------------------------------------\n",
      " @user camping tomorrow @user @user @user @user @user @user @user dannyâ¦ \n",
      " --------------------------------------------------------------------------\n",
      "the next school year is the year for exams.ð¯ can't think about that ð­ #school #exams   #hate #imagine #actorslife #revolutionschool #girl \n",
      " -----------------------------------------------------------------------------------------------------------------------------------------------\n",
      "we won!!! love the land!!! #allin #cavs #champions #cleveland #clevelandcavaliers  â¦  \n",
      " ---------------------------------------------------------------------------------------\n",
      " @user @user welcome here !  i'm   it's so #gr8 !  \n",
      " --------------------------------------------------\n",
      " â #ireland consumer price index (mom) climbed from previous 0.2% to 0.5% in may   #blog #silver #gold #forex \n",
      " ---------------------------------------------------------------------------------------------------------------\n"
     ]
    }
   ],
   "execution_count": 13
  },
  {
   "cell_type": "markdown",
   "metadata": {},
   "source": [
    "# 📒 We have a few specific pre-processing techniques for the text data\n",
    "* 💡 Benefits of using these techniques varies from approach to approach\n",
    "    * However it is good to have at least some knowledge about them\n",
    "\n",
    "## Stemming\n",
    "* Stemming is the process of producing morphological variants of a root/base word\n",
    "    * Stemming programs are commonly referred to as stemming algorithms or stemmers\n",
    "* 💡 A stemming algorithm reduces the words “chocolates”, “chocolatey”, “choco” to the root word, “chocolate” and “retrieval”, “retrieved”, “retrieves” reduce to the stem “retrieve”\n",
    "\n",
    "#### ⚡ Examples of stemming:\n",
    "* chocolates, chocolatey, choco : **chocolate**\n",
    "* retrieval, retrieved, retrieves : **retrieve**\n",
    "\n",
    "\n",
    "## Lemmatization \n",
    "* Lemmatization is the process of grouping together the different inflected forms of a word so they can be analysed as a single item\n",
    "* 💡 Lemmatization is similar to stemming but it brings context to the words\n",
    "    * 💡 It links words with similar meaning to one word\n",
    "\n",
    "#### ⚡ Examples of lemmatization:\n",
    "* rocks : **rock**\n",
    "* corpora : **corpus**\n",
    "* better : **good**\n",
    "\n",
    "### Both techiques can be used in the preprocessing pipeline\n",
    "* You have to decide if it is beneficial to you, because this steps leads to generalization of the data by itself\n",
    "    * 💡 You will definitely lose some pieces of the information!\n",
    "\n",
    "# 📌 Embedding note\n",
    "* **If you use some form of embedding like Word2Vec or Glove, it is better to skip this steps because during the embedding vocabulary building process it was skipped as well** 🙂"
   ]
  },
  {
   "cell_type": "markdown",
   "metadata": {},
   "source": [
    "# You don't have to code the pre-process steps yourself 🙂\n",
    "* We have already prepared the most common functions used\n",
    "    * 💡 Modify function `normalize(...)` for different step combination"
   ]
  },
  {
   "cell_type": "code",
   "metadata": {
    "tags": [],
    "ExecuteTime": {
     "end_time": "2025-03-29T14:25:27.250663Z",
     "start_time": "2025-03-29T14:25:27.243806Z"
    }
   },
   "source": [
    "def remove_non_ascii(words):\n",
    "    \"\"\"Remove non-ASCII characters from list of tokenized words\"\"\"\n",
    "    new_words = []\n",
    "    for word in words:\n",
    "        new_word = unicodedata.normalize('NFKD', word).encode('ascii', 'ignore').decode('utf-8', 'ignore')\n",
    "        new_words.append(new_word)\n",
    "    return new_words\n",
    "\n",
    "\n",
    "def to_lowercase(words):\n",
    "    \"\"\"Convert all characters to lowercase from list of tokenized words\"\"\"\n",
    "    new_words = []\n",
    "    for word in words:\n",
    "        new_word = word.lower()\n",
    "        new_words.append(new_word)\n",
    "    return new_words\n",
    "\n",
    "\n",
    "def remove_punctuation(words):\n",
    "    \"\"\"Remove punctuation from list of tokenized words\"\"\"\n",
    "    new_words = []\n",
    "    for word in words:\n",
    "        new_word = re.sub(r'[^\\w\\s]', '', word)\n",
    "        if new_word != '':\n",
    "            new_words.append(new_word)\n",
    "    return new_words\n",
    "\n",
    "\n",
    "def remove_numbers(words):\n",
    "    \"\"\"Remove all interger occurrences in list of tokenized words with textual representation\"\"\"\n",
    "    new_words = []\n",
    "    for word in words:\n",
    "        new_word = re.sub(\"\\d+\", \"\", word)\n",
    "        if new_word != '':\n",
    "            new_words.append(new_word)\n",
    "    return new_words\n",
    "\n",
    "\n",
    "def remove_stopwords(words):\n",
    "    \"\"\"Remove stop words from list of tokenized words\"\"\"\n",
    "    new_words = []\n",
    "    for word in words:\n",
    "        if word not in stopwords.words('english'):\n",
    "            new_words.append(word)\n",
    "    return new_words\n",
    "\n",
    "\n",
    "def stem_words(words):\n",
    "    \"\"\"Stem words in list of tokenized words\"\"\"\n",
    "    stemmer = LancasterStemmer()\n",
    "    stems = []\n",
    "    for word in words:\n",
    "        stem = stemmer.stem(word)\n",
    "        stems.append(stem)\n",
    "    return stems\n",
    "\n",
    "\n",
    "def lemmatize_verbs(words):\n",
    "    \"\"\"Lemmatize verbs in list of tokenized words\"\"\"\n",
    "    lemmatizer = WordNetLemmatizer()\n",
    "    lemmas = []\n",
    "    for word in words:\n",
    "        lemma = lemmatizer.lemmatize(word, pos='v')\n",
    "        lemmas.append(lemma)\n",
    "    return lemmas\n",
    "\n",
    "\n",
    "def normalize(words):\n",
    "    words = remove_non_ascii(words)\n",
    "    words = to_lowercase(words)\n",
    "    # words = remove_punctuation(words)\n",
    "    words = remove_numbers(words)\n",
    "    #    words = remove_stopwords(words)\n",
    "    return words\n",
    "\n",
    "\n",
    "def form_sentence(tweet):\n",
    "    tweet_blob = TextBlob(tweet)\n",
    "    return tweet_blob.words"
   ],
   "outputs": [
    {
     "name": "stderr",
     "output_type": "stream",
     "text": [
      "<>:33: SyntaxWarning: invalid escape sequence '\\d'\n",
      "<>:33: SyntaxWarning: invalid escape sequence '\\d'\n",
      "/tmp/ipykernel_27981/3355288462.py:33: SyntaxWarning: invalid escape sequence '\\d'\n",
      "  new_word = re.sub(\"\\d+\", \"\", word)\n"
     ]
    }
   ],
   "execution_count": 14
  },
  {
   "cell_type": "markdown",
   "metadata": {},
   "source": [
    "# First we must tokenize sentences and remove puncuation \n",
    "* We will use the `TextBlob` library"
   ]
  },
  {
   "cell_type": "code",
   "metadata": {
    "ExecuteTime": {
     "end_time": "2025-03-29T14:25:27.523270Z",
     "start_time": "2025-03-29T14:25:27.349489Z"
    }
   },
   "source": [
    "!python -m textblob.download_corpora"
   ],
   "outputs": [
    {
     "name": "stdout",
     "output_type": "stream",
     "text": [
      "/bin/bash: warning: setlocale: LC_ALL: cannot change locale (en_US.UTF-8)\r\n",
      "/bin/bash: line 1: python: command not found\r\n"
     ]
    }
   ],
   "execution_count": 15
  },
  {
   "cell_type": "code",
   "metadata": {
    "tags": [],
    "ExecuteTime": {
     "end_time": "2025-03-29T14:25:31.390984Z",
     "start_time": "2025-03-29T14:25:27.534210Z"
    }
   },
   "source": [
    "df['Words'] = df['tweet'].apply(form_sentence)"
   ],
   "outputs": [],
   "execution_count": 16
  },
  {
   "cell_type": "code",
   "metadata": {
    "tags": [],
    "ExecuteTime": {
     "end_time": "2025-03-29T14:25:31.405867Z",
     "start_time": "2025-03-29T14:25:31.399517Z"
    }
   },
   "source": [
    "df.head()"
   ],
   "outputs": [
    {
     "data": {
      "text/plain": [
       "   id  label                                              tweet  length  \\\n",
       "0   1      0   @user when a father is dysfunctional and is s...     102   \n",
       "1   2      0  @user @user thanks for #lyft credit i can't us...     122   \n",
       "2   3      0                                bihday your majesty      21   \n",
       "3   4      0  #model   i love u take with u all the time in ...      86   \n",
       "4   5      0             factsguide: society now    #motivation      39   \n",
       "\n",
       "                                               Words  \n",
       "0  [user, when, a, father, is, dysfunctional, and...  \n",
       "1  [user, user, thanks, for, lyft, credit, i, ca,...  \n",
       "2                            [bihday, your, majesty]  \n",
       "3  [model, i, love, u, take, with, u, all, the, t...  \n",
       "4             [factsguide, society, now, motivation]  "
      ],
      "text/html": [
       "<div>\n",
       "<style scoped>\n",
       "    .dataframe tbody tr th:only-of-type {\n",
       "        vertical-align: middle;\n",
       "    }\n",
       "\n",
       "    .dataframe tbody tr th {\n",
       "        vertical-align: top;\n",
       "    }\n",
       "\n",
       "    .dataframe thead th {\n",
       "        text-align: right;\n",
       "    }\n",
       "</style>\n",
       "<table border=\"1\" class=\"dataframe\">\n",
       "  <thead>\n",
       "    <tr style=\"text-align: right;\">\n",
       "      <th></th>\n",
       "      <th>id</th>\n",
       "      <th>label</th>\n",
       "      <th>tweet</th>\n",
       "      <th>length</th>\n",
       "      <th>Words</th>\n",
       "    </tr>\n",
       "  </thead>\n",
       "  <tbody>\n",
       "    <tr>\n",
       "      <th>0</th>\n",
       "      <td>1</td>\n",
       "      <td>0</td>\n",
       "      <td>@user when a father is dysfunctional and is s...</td>\n",
       "      <td>102</td>\n",
       "      <td>[user, when, a, father, is, dysfunctional, and...</td>\n",
       "    </tr>\n",
       "    <tr>\n",
       "      <th>1</th>\n",
       "      <td>2</td>\n",
       "      <td>0</td>\n",
       "      <td>@user @user thanks for #lyft credit i can't us...</td>\n",
       "      <td>122</td>\n",
       "      <td>[user, user, thanks, for, lyft, credit, i, ca,...</td>\n",
       "    </tr>\n",
       "    <tr>\n",
       "      <th>2</th>\n",
       "      <td>3</td>\n",
       "      <td>0</td>\n",
       "      <td>bihday your majesty</td>\n",
       "      <td>21</td>\n",
       "      <td>[bihday, your, majesty]</td>\n",
       "    </tr>\n",
       "    <tr>\n",
       "      <th>3</th>\n",
       "      <td>4</td>\n",
       "      <td>0</td>\n",
       "      <td>#model   i love u take with u all the time in ...</td>\n",
       "      <td>86</td>\n",
       "      <td>[model, i, love, u, take, with, u, all, the, t...</td>\n",
       "    </tr>\n",
       "    <tr>\n",
       "      <th>4</th>\n",
       "      <td>5</td>\n",
       "      <td>0</td>\n",
       "      <td>factsguide: society now    #motivation</td>\n",
       "      <td>39</td>\n",
       "      <td>[factsguide, society, now, motivation]</td>\n",
       "    </tr>\n",
       "  </tbody>\n",
       "</table>\n",
       "</div>"
      ]
     },
     "execution_count": 17,
     "metadata": {},
     "output_type": "execute_result"
    }
   ],
   "execution_count": 17
  },
  {
   "cell_type": "markdown",
   "metadata": {},
   "source": [
    "# Normalize sentences \n",
    "* We want only ascii and lowercase characters and we also want to get rid of numbers in the strings\n",
    "\n",
    "### You can always experiments with different preprocessing steps! 🙂\n",
    "* 💡 The steps choice usually depends on the dataset"
   ]
  },
  {
   "cell_type": "code",
   "metadata": {
    "tags": [],
    "ExecuteTime": {
     "end_time": "2025-03-29T14:25:31.853077Z",
     "start_time": "2025-03-29T14:25:31.461956Z"
    }
   },
   "source": [
    "df['Words_normalized'] = df['Words'].apply(normalize)"
   ],
   "outputs": [],
   "execution_count": 18
  },
  {
   "cell_type": "code",
   "metadata": {
    "tags": [],
    "ExecuteTime": {
     "end_time": "2025-03-29T14:25:31.884274Z",
     "start_time": "2025-03-29T14:25:31.877012Z"
    }
   },
   "source": [
    "df.head()"
   ],
   "outputs": [
    {
     "data": {
      "text/plain": [
       "   id  label                                              tweet  length  \\\n",
       "0   1      0   @user when a father is dysfunctional and is s...     102   \n",
       "1   2      0  @user @user thanks for #lyft credit i can't us...     122   \n",
       "2   3      0                                bihday your majesty      21   \n",
       "3   4      0  #model   i love u take with u all the time in ...      86   \n",
       "4   5      0             factsguide: society now    #motivation      39   \n",
       "\n",
       "                                               Words  \\\n",
       "0  [user, when, a, father, is, dysfunctional, and...   \n",
       "1  [user, user, thanks, for, lyft, credit, i, ca,...   \n",
       "2                            [bihday, your, majesty]   \n",
       "3  [model, i, love, u, take, with, u, all, the, t...   \n",
       "4             [factsguide, society, now, motivation]   \n",
       "\n",
       "                                    Words_normalized  \n",
       "0  [user, when, a, father, is, dysfunctional, and...  \n",
       "1  [user, user, thanks, for, lyft, credit, i, ca,...  \n",
       "2                            [bihday, your, majesty]  \n",
       "3  [model, i, love, u, take, with, u, all, the, t...  \n",
       "4             [factsguide, society, now, motivation]  "
      ],
      "text/html": [
       "<div>\n",
       "<style scoped>\n",
       "    .dataframe tbody tr th:only-of-type {\n",
       "        vertical-align: middle;\n",
       "    }\n",
       "\n",
       "    .dataframe tbody tr th {\n",
       "        vertical-align: top;\n",
       "    }\n",
       "\n",
       "    .dataframe thead th {\n",
       "        text-align: right;\n",
       "    }\n",
       "</style>\n",
       "<table border=\"1\" class=\"dataframe\">\n",
       "  <thead>\n",
       "    <tr style=\"text-align: right;\">\n",
       "      <th></th>\n",
       "      <th>id</th>\n",
       "      <th>label</th>\n",
       "      <th>tweet</th>\n",
       "      <th>length</th>\n",
       "      <th>Words</th>\n",
       "      <th>Words_normalized</th>\n",
       "    </tr>\n",
       "  </thead>\n",
       "  <tbody>\n",
       "    <tr>\n",
       "      <th>0</th>\n",
       "      <td>1</td>\n",
       "      <td>0</td>\n",
       "      <td>@user when a father is dysfunctional and is s...</td>\n",
       "      <td>102</td>\n",
       "      <td>[user, when, a, father, is, dysfunctional, and...</td>\n",
       "      <td>[user, when, a, father, is, dysfunctional, and...</td>\n",
       "    </tr>\n",
       "    <tr>\n",
       "      <th>1</th>\n",
       "      <td>2</td>\n",
       "      <td>0</td>\n",
       "      <td>@user @user thanks for #lyft credit i can't us...</td>\n",
       "      <td>122</td>\n",
       "      <td>[user, user, thanks, for, lyft, credit, i, ca,...</td>\n",
       "      <td>[user, user, thanks, for, lyft, credit, i, ca,...</td>\n",
       "    </tr>\n",
       "    <tr>\n",
       "      <th>2</th>\n",
       "      <td>3</td>\n",
       "      <td>0</td>\n",
       "      <td>bihday your majesty</td>\n",
       "      <td>21</td>\n",
       "      <td>[bihday, your, majesty]</td>\n",
       "      <td>[bihday, your, majesty]</td>\n",
       "    </tr>\n",
       "    <tr>\n",
       "      <th>3</th>\n",
       "      <td>4</td>\n",
       "      <td>0</td>\n",
       "      <td>#model   i love u take with u all the time in ...</td>\n",
       "      <td>86</td>\n",
       "      <td>[model, i, love, u, take, with, u, all, the, t...</td>\n",
       "      <td>[model, i, love, u, take, with, u, all, the, t...</td>\n",
       "    </tr>\n",
       "    <tr>\n",
       "      <th>4</th>\n",
       "      <td>5</td>\n",
       "      <td>0</td>\n",
       "      <td>factsguide: society now    #motivation</td>\n",
       "      <td>39</td>\n",
       "      <td>[factsguide, society, now, motivation]</td>\n",
       "      <td>[factsguide, society, now, motivation]</td>\n",
       "    </tr>\n",
       "  </tbody>\n",
       "</table>\n",
       "</div>"
      ]
     },
     "execution_count": 19,
     "metadata": {},
     "output_type": "execute_result"
    }
   ],
   "execution_count": 19
  },
  {
   "cell_type": "markdown",
   "metadata": {},
   "source": [
    "## Remove the 'user' word from tweets"
   ]
  },
  {
   "cell_type": "code",
   "metadata": {
    "tags": [],
    "ExecuteTime": {
     "end_time": "2025-03-29T14:25:31.976550Z",
     "start_time": "2025-03-29T14:25:31.931475Z"
    }
   },
   "source": [
    "df['Words_normalized_no_user'] = df['Words_normalized'].apply(lambda x: [y for y in x if 'user' not in y])"
   ],
   "outputs": [],
   "execution_count": 20
  },
  {
   "cell_type": "code",
   "metadata": {
    "tags": [],
    "ExecuteTime": {
     "end_time": "2025-03-29T14:25:32.123193Z",
     "start_time": "2025-03-29T14:25:32.114236Z"
    }
   },
   "source": [
    "df.head()"
   ],
   "outputs": [
    {
     "data": {
      "text/plain": [
       "   id  label                                              tweet  length  \\\n",
       "0   1      0   @user when a father is dysfunctional and is s...     102   \n",
       "1   2      0  @user @user thanks for #lyft credit i can't us...     122   \n",
       "2   3      0                                bihday your majesty      21   \n",
       "3   4      0  #model   i love u take with u all the time in ...      86   \n",
       "4   5      0             factsguide: society now    #motivation      39   \n",
       "\n",
       "                                               Words  \\\n",
       "0  [user, when, a, father, is, dysfunctional, and...   \n",
       "1  [user, user, thanks, for, lyft, credit, i, ca,...   \n",
       "2                            [bihday, your, majesty]   \n",
       "3  [model, i, love, u, take, with, u, all, the, t...   \n",
       "4             [factsguide, society, now, motivation]   \n",
       "\n",
       "                                    Words_normalized  \\\n",
       "0  [user, when, a, father, is, dysfunctional, and...   \n",
       "1  [user, user, thanks, for, lyft, credit, i, ca,...   \n",
       "2                            [bihday, your, majesty]   \n",
       "3  [model, i, love, u, take, with, u, all, the, t...   \n",
       "4             [factsguide, society, now, motivation]   \n",
       "\n",
       "                            Words_normalized_no_user  \n",
       "0  [when, a, father, is, dysfunctional, and, is, ...  \n",
       "1  [thanks, for, lyft, credit, i, ca, n't, use, c...  \n",
       "2                            [bihday, your, majesty]  \n",
       "3  [model, i, love, u, take, with, u, all, the, t...  \n",
       "4             [factsguide, society, now, motivation]  "
      ],
      "text/html": [
       "<div>\n",
       "<style scoped>\n",
       "    .dataframe tbody tr th:only-of-type {\n",
       "        vertical-align: middle;\n",
       "    }\n",
       "\n",
       "    .dataframe tbody tr th {\n",
       "        vertical-align: top;\n",
       "    }\n",
       "\n",
       "    .dataframe thead th {\n",
       "        text-align: right;\n",
       "    }\n",
       "</style>\n",
       "<table border=\"1\" class=\"dataframe\">\n",
       "  <thead>\n",
       "    <tr style=\"text-align: right;\">\n",
       "      <th></th>\n",
       "      <th>id</th>\n",
       "      <th>label</th>\n",
       "      <th>tweet</th>\n",
       "      <th>length</th>\n",
       "      <th>Words</th>\n",
       "      <th>Words_normalized</th>\n",
       "      <th>Words_normalized_no_user</th>\n",
       "    </tr>\n",
       "  </thead>\n",
       "  <tbody>\n",
       "    <tr>\n",
       "      <th>0</th>\n",
       "      <td>1</td>\n",
       "      <td>0</td>\n",
       "      <td>@user when a father is dysfunctional and is s...</td>\n",
       "      <td>102</td>\n",
       "      <td>[user, when, a, father, is, dysfunctional, and...</td>\n",
       "      <td>[user, when, a, father, is, dysfunctional, and...</td>\n",
       "      <td>[when, a, father, is, dysfunctional, and, is, ...</td>\n",
       "    </tr>\n",
       "    <tr>\n",
       "      <th>1</th>\n",
       "      <td>2</td>\n",
       "      <td>0</td>\n",
       "      <td>@user @user thanks for #lyft credit i can't us...</td>\n",
       "      <td>122</td>\n",
       "      <td>[user, user, thanks, for, lyft, credit, i, ca,...</td>\n",
       "      <td>[user, user, thanks, for, lyft, credit, i, ca,...</td>\n",
       "      <td>[thanks, for, lyft, credit, i, ca, n't, use, c...</td>\n",
       "    </tr>\n",
       "    <tr>\n",
       "      <th>2</th>\n",
       "      <td>3</td>\n",
       "      <td>0</td>\n",
       "      <td>bihday your majesty</td>\n",
       "      <td>21</td>\n",
       "      <td>[bihday, your, majesty]</td>\n",
       "      <td>[bihday, your, majesty]</td>\n",
       "      <td>[bihday, your, majesty]</td>\n",
       "    </tr>\n",
       "    <tr>\n",
       "      <th>3</th>\n",
       "      <td>4</td>\n",
       "      <td>0</td>\n",
       "      <td>#model   i love u take with u all the time in ...</td>\n",
       "      <td>86</td>\n",
       "      <td>[model, i, love, u, take, with, u, all, the, t...</td>\n",
       "      <td>[model, i, love, u, take, with, u, all, the, t...</td>\n",
       "      <td>[model, i, love, u, take, with, u, all, the, t...</td>\n",
       "    </tr>\n",
       "    <tr>\n",
       "      <th>4</th>\n",
       "      <td>5</td>\n",
       "      <td>0</td>\n",
       "      <td>factsguide: society now    #motivation</td>\n",
       "      <td>39</td>\n",
       "      <td>[factsguide, society, now, motivation]</td>\n",
       "      <td>[factsguide, society, now, motivation]</td>\n",
       "      <td>[factsguide, society, now, motivation]</td>\n",
       "    </tr>\n",
       "  </tbody>\n",
       "</table>\n",
       "</div>"
      ]
     },
     "execution_count": 21,
     "metadata": {},
     "output_type": "execute_result"
    }
   ],
   "execution_count": 21
  },
  {
   "cell_type": "markdown",
   "metadata": {},
   "source": [
    "## 💡 We can see that no pre-processing is ideal and we have to fix some issues by ourselves\n",
    "* e.g. n't splitting"
   ]
  },
  {
   "cell_type": "code",
   "metadata": {
    "tags": [],
    "ExecuteTime": {
     "end_time": "2025-03-29T14:25:32.206042Z",
     "start_time": "2025-03-29T14:25:32.202005Z"
    }
   },
   "source": [
    "print(df.tweet.iloc[1])\n",
    "print(df.Words_normalized_no_user.iloc[1])"
   ],
   "outputs": [
    {
     "name": "stdout",
     "output_type": "stream",
     "text": [
      "@user @user thanks for #lyft credit i can't use cause they don't offer wheelchair vans in pdx.    #disapointed #getthanked\n",
      "['thanks', 'for', 'lyft', 'credit', 'i', 'ca', \"n't\", 'use', 'cause', 'they', 'do', \"n't\", 'offer', 'wheelchair', 'vans', 'in', 'pdx', 'disapointed', 'getthanked']\n"
     ]
    }
   ],
   "execution_count": 22
  },
  {
   "cell_type": "code",
   "metadata": {
    "tags": [],
    "ExecuteTime": {
     "end_time": "2025-03-29T14:25:32.354279Z",
     "start_time": "2025-03-29T14:25:32.350474Z"
    }
   },
   "source": [
    "def fix_nt(words):\n",
    "    st_res = []\n",
    "    for i in range(0, len(words) - 1):\n",
    "        if words[i + 1] == \"n't\" or words[i + 1] == \"nt\":\n",
    "            st_res.append(words[i] + (\"n't\"))\n",
    "        else:\n",
    "            if words[i] != \"n't\" and words[i] != \"nt\":\n",
    "                st_res.append(words[i])\n",
    "    return st_res"
   ],
   "outputs": [],
   "execution_count": 23
  },
  {
   "cell_type": "code",
   "metadata": {
    "tags": [],
    "ExecuteTime": {
     "end_time": "2025-03-29T14:25:32.570540Z",
     "start_time": "2025-03-29T14:25:32.511972Z"
    }
   },
   "source": [
    "df['Words_normalized_no_user_fixed'] = df['Words_normalized_no_user'].apply(fix_nt)"
   ],
   "outputs": [],
   "execution_count": 24
  },
  {
   "cell_type": "markdown",
   "metadata": {},
   "source": [
    "## ⚡ The issue is now fixed"
   ]
  },
  {
   "cell_type": "code",
   "metadata": {
    "tags": [],
    "ExecuteTime": {
     "end_time": "2025-03-29T14:25:32.669730Z",
     "start_time": "2025-03-29T14:25:32.653269Z"
    }
   },
   "source": [
    "print(df.tweet.iloc[1])\n",
    "print(df.Words_normalized_no_user.iloc[1])\n",
    "print(df.Words_normalized_no_user_fixed.iloc[1])"
   ],
   "outputs": [
    {
     "name": "stdout",
     "output_type": "stream",
     "text": [
      "@user @user thanks for #lyft credit i can't use cause they don't offer wheelchair vans in pdx.    #disapointed #getthanked\n",
      "['thanks', 'for', 'lyft', 'credit', 'i', 'ca', \"n't\", 'use', 'cause', 'they', 'do', \"n't\", 'offer', 'wheelchair', 'vans', 'in', 'pdx', 'disapointed', 'getthanked']\n",
      "['thanks', 'for', 'lyft', 'credit', 'i', \"can't\", 'use', 'cause', 'they', \"don't\", 'offer', 'wheelchair', 'vans', 'in', 'pdx', 'disapointed']\n"
     ]
    }
   ],
   "execution_count": 25
  },
  {
   "cell_type": "markdown",
   "metadata": {},
   "source": [
    "## Now we can join the text into single string again for each instance"
   ]
  },
  {
   "cell_type": "code",
   "metadata": {
    "tags": [],
    "ExecuteTime": {
     "end_time": "2025-03-29T14:25:32.783333Z",
     "start_time": "2025-03-29T14:25:32.769314Z"
    }
   },
   "source": [
    "df['Clean_text'] = df['Words_normalized_no_user_fixed'].apply(lambda x: \" \".join(x))"
   ],
   "outputs": [],
   "execution_count": 26
  },
  {
   "cell_type": "code",
   "metadata": {
    "tags": [],
    "ExecuteTime": {
     "end_time": "2025-03-29T14:25:32.842705Z",
     "start_time": "2025-03-29T14:25:32.837365Z"
    }
   },
   "source": [
    "df['Clean_text'].head()"
   ],
   "outputs": [
    {
     "data": {
      "text/plain": [
       "0    when a father is dysfunctional and is so selfi...\n",
       "1    thanks for lyft credit i can't use cause they ...\n",
       "2                                          bihday your\n",
       "3           model i love u take with u all the time in\n",
       "4                               factsguide society now\n",
       "Name: Clean_text, dtype: object"
      ]
     },
     "execution_count": 27,
     "metadata": {},
     "output_type": "execute_result"
    }
   ],
   "execution_count": 27
  },
  {
   "cell_type": "markdown",
   "metadata": {},
   "source": [
    "# 🚀 Let's take a look at the most common words in corpus\n",
    "* It is one of the usual EDA step for text data\n",
    "    * ⚠ Without the preprocessing there will be a lot of so-called *stopwords*\n",
    "\n",
    "## 🔎 Do you know what the term **stopword** mean?"
   ]
  },
  {
   "cell_type": "markdown",
   "metadata": {},
   "source": [
    "## Step 1: Tokenize each string and merge the token array into one big array using `itertools.chain()`"
   ]
  },
  {
   "cell_type": "code",
   "metadata": {
    "tags": [],
    "ExecuteTime": {
     "end_time": "2025-03-29T14:25:32.918671Z",
     "start_time": "2025-03-29T14:25:32.908288Z"
    }
   },
   "source": [
    "all_words = list(itertools.chain(*df.Words_normalized_no_user_fixed))"
   ],
   "outputs": [],
   "execution_count": 28
  },
  {
   "cell_type": "code",
   "metadata": {
    "tags": [],
    "ExecuteTime": {
     "end_time": "2025-03-29T14:25:32.963032Z",
     "start_time": "2025-03-29T14:25:32.958833Z"
    }
   },
   "source": [
    "all_words[:20]"
   ],
   "outputs": [
    {
     "data": {
      "text/plain": [
       "['when',\n",
       " 'a',\n",
       " 'father',\n",
       " 'is',\n",
       " 'dysfunctional',\n",
       " 'and',\n",
       " 'is',\n",
       " 'so',\n",
       " 'selfish',\n",
       " 'he',\n",
       " 'drags',\n",
       " 'his',\n",
       " 'kids',\n",
       " 'into',\n",
       " 'his',\n",
       " 'dysfunction',\n",
       " 'thanks',\n",
       " 'for',\n",
       " 'lyft',\n",
       " 'credit']"
      ]
     },
     "execution_count": 29,
     "metadata": {},
     "output_type": "execute_result"
    }
   ],
   "execution_count": 29
  },
  {
   "cell_type": "markdown",
   "metadata": {},
   "source": [
    "## Step 2: Compute frequency of every token using `nltk`"
   ]
  },
  {
   "cell_type": "code",
   "metadata": {
    "tags": [],
    "ExecuteTime": {
     "end_time": "2025-03-29T14:25:33.150871Z",
     "start_time": "2025-03-29T14:25:33.017859Z"
    }
   },
   "source": [
    "dist = nltk.FreqDist(all_words)"
   ],
   "outputs": [],
   "execution_count": 30
  },
  {
   "cell_type": "markdown",
   "metadata": {},
   "source": [
    "## 💡 The most common tokens are:"
   ]
  },
  {
   "cell_type": "code",
   "metadata": {
    "tags": [],
    "ExecuteTime": {
     "end_time": "2025-03-29T14:25:33.172890Z",
     "start_time": "2025-03-29T14:25:33.165065Z"
    }
   },
   "source": [
    "dist"
   ],
   "outputs": [
    {
     "data": {
      "text/plain": [
       "FreqDist({'the': 10136, 'to': 9798, 'a': 7680, 'i': 7165, 'you': 5679, 'and': 4868, 'in': 4615, 'for': 4462, 'of': 4133, 'is': 4048, ...})"
      ]
     },
     "execution_count": 31,
     "metadata": {},
     "output_type": "execute_result"
    }
   ],
   "execution_count": 31
  },
  {
   "cell_type": "markdown",
   "metadata": {},
   "source": [
    "## 💡 We have 34289 unique words (tokens)"
   ]
  },
  {
   "cell_type": "code",
   "metadata": {
    "tags": [],
    "ExecuteTime": {
     "end_time": "2025-03-29T14:25:33.224598Z",
     "start_time": "2025-03-29T14:25:33.220797Z"
    }
   },
   "source": [
    "len(dist)"
   ],
   "outputs": [
    {
     "data": {
      "text/plain": [
       "34292"
      ]
     },
     "execution_count": 32,
     "metadata": {},
     "output_type": "execute_result"
    }
   ],
   "execution_count": 32
  },
  {
   "cell_type": "markdown",
   "metadata": {},
   "source": [
    "## 💡 The longest tweet has 42 tokens"
   ]
  },
  {
   "cell_type": "code",
   "metadata": {
    "tags": [],
    "ExecuteTime": {
     "end_time": "2025-03-29T14:25:33.282823Z",
     "start_time": "2025-03-29T14:25:33.271523Z"
    }
   },
   "source": [
    "max(df.Words_normalized_no_user_fixed.apply(len))"
   ],
   "outputs": [
    {
     "data": {
      "text/plain": [
       "42"
      ]
     },
     "execution_count": 33,
     "metadata": {},
     "output_type": "execute_result"
    }
   ],
   "execution_count": 33
  },
  {
   "cell_type": "markdown",
   "metadata": {},
   "source": [
    "# 🚀 Our dataset is ready, we can start our Deep learning experiments \n",
    "* 🔎 Can you use regular FCANN for the sentiment analysis?\n",
    "\n",
    "![Meme01](https://github.com/rasvob/VSB-FEI-Deep-Learning-Exercises/blob/main/images/dl_06_meme_01.png?raw=true)\n"
   ]
  },
  {
   "cell_type": "markdown",
   "metadata": {},
   "source": [
    "# We will use `TextVectorization` layer for creating vector model from our text data\n",
    "* For those of you who are interested in the topic there is very good [article on Medium](https://towardsdatascience.com/you-should-try-the-new-tensorflows-textvectorization-layer-a80b3c6b00ee) about the layer and its parameters\n",
    "    * There is of course a [documentation page](https://www.tensorflow.org/api_docs/python/tf/keras/layers/TextVectorization) about the layer as well\n",
    "\n",
    "## 🔎 What does *text vectorization* mean in this context?\n",
    "* Is it a different term from the one used in information retrieval?\n",
    "\n",
    "## 📌 There are few important parameters:\n",
    "* `emedding_dim` \n",
    "    * Dimension of embedded representation\n",
    "    * This is already part of latent space, there is captured dependecy among words in these vectors, we are learning this vectors using the ANN\n",
    "* `vocab_size`\n",
    "    * Number of unique tokens in vocabulary\n",
    "* `sequence_length`\n",
    "    * Output dimension after vectorizing - words in vectorized representation are treated as independent"
   ]
  },
  {
   "cell_type": "code",
   "metadata": {
    "tags": [],
    "ExecuteTime": {
     "end_time": "2025-03-29T14:25:34.223498Z",
     "start_time": "2025-03-29T14:25:33.331935Z"
    }
   },
   "source": [
    "embedding_dim = 128  # Dimension of embedded representation\n",
    "vocab_size = 10000  # Number of unique tokens in vocabulary\n",
    "sequence_length = 30  # Output dimension after vectorizing\n",
    "\n",
    "vect_layer = TextVectorization(max_tokens=vocab_size, output_mode='int', output_sequence_length=sequence_length)\n",
    "vect_layer.adapt(df.Clean_text.values)"
   ],
   "outputs": [
    {
     "name": "stderr",
     "output_type": "stream",
     "text": [
      "I0000 00:00:1743258333.853176   27981 gpu_device.cc:2022] Created device /job:localhost/replica:0/task:0/device:GPU:0 with 6096 MB memory:  -> device: 0, name: NVIDIA GeForce RTX 2070, pci bus id: 0000:01:00.0, compute capability: 7.5\n"
     ]
    }
   ],
   "execution_count": 34
  },
  {
   "cell_type": "markdown",
   "metadata": {},
   "source": [
    "## We will split our dataset to train and test parts with stratification"
   ]
  },
  {
   "cell_type": "markdown",
   "metadata": {},
   "source": [
    "## 🎯 COMPETITION TEST SET HERE 🎯\n",
    "\n",
    "### COMPETITION ?!?! 🤔\n",
    "* I will provide the details in the end of the lecture 🙂"
   ]
  },
  {
   "cell_type": "code",
   "metadata": {
    "tags": [],
    "ExecuteTime": {
     "end_time": "2025-03-29T14:25:34.259695Z",
     "start_time": "2025-03-29T14:25:34.245880Z"
    }
   },
   "source": [
    "X_train, X_test, y_train, y_test = train_test_split(df.Clean_text, df.label, test_size=0.20, random_state=13,\n",
    "                                                    stratify=df.label)"
   ],
   "outputs": [],
   "execution_count": 35
  },
  {
   "cell_type": "code",
   "metadata": {
    "tags": [],
    "ExecuteTime": {
     "end_time": "2025-03-29T14:25:34.302082Z",
     "start_time": "2025-03-29T14:25:34.290729Z"
    }
   },
   "source": [
    "X_train, X_valid, y_train, y_valid = train_test_split(X_train, y_train, test_size=0.1, random_state=13,\n",
    "                                                      stratify=y_train)"
   ],
   "outputs": [],
   "execution_count": 36
  },
  {
   "cell_type": "code",
   "metadata": {
    "tags": [],
    "ExecuteTime": {
     "end_time": "2025-03-29T14:25:34.352082Z",
     "start_time": "2025-03-29T14:25:34.348525Z"
    }
   },
   "source": [
    "print(X_train.shape, X_test.shape)"
   ],
   "outputs": [
    {
     "name": "stdout",
     "output_type": "stream",
     "text": [
      "(23012,) (6393,)\n"
     ]
    }
   ],
   "execution_count": 37
  },
  {
   "cell_type": "code",
   "metadata": {
    "tags": [],
    "ExecuteTime": {
     "end_time": "2025-03-29T14:25:34.406269Z",
     "start_time": "2025-03-29T14:25:34.401193Z"
    }
   },
   "source": [
    "print('Train')\n",
    "print(y_train.value_counts())\n",
    "print('Test')\n",
    "print(y_test.value_counts())"
   ],
   "outputs": [
    {
     "name": "stdout",
     "output_type": "stream",
     "text": [
      "Train\n",
      "label\n",
      "0    21397\n",
      "1     1615\n",
      "Name: count, dtype: int64\n",
      "Test\n",
      "label\n",
      "0    5945\n",
      "1     448\n",
      "Name: count, dtype: int64\n"
     ]
    }
   ],
   "execution_count": 38
  },
  {
   "cell_type": "code",
   "metadata": {
    "tags": [],
    "ExecuteTime": {
     "end_time": "2025-03-29T14:25:34.488248Z",
     "start_time": "2025-03-29T14:25:34.451881Z"
    }
   },
   "source": [
    "print('Vocabulary example: ', vect_layer.get_vocabulary()[:10])\n",
    "print('Vocabulary shape: ', len(vect_layer.get_vocabulary()))"
   ],
   "outputs": [
    {
     "name": "stdout",
     "output_type": "stream",
     "text": [
      "Vocabulary example:  ['', '[UNK]', np.str_('the'), np.str_('to'), np.str_('a'), np.str_('i'), np.str_('you'), np.str_('and'), np.str_('in'), np.str_('for')]\n",
      "Vocabulary shape:  10000\n"
     ]
    }
   ],
   "execution_count": 39
  },
  {
   "cell_type": "markdown",
   "metadata": {},
   "source": [
    "# 🚀 Let's finally try the RNN-based model!"
   ]
  },
  {
   "cell_type": "code",
   "metadata": {
    "tags": [],
    "ExecuteTime": {
     "end_time": "2025-03-29T14:25:35.278783Z",
     "start_time": "2025-03-29T14:25:34.503201Z"
    }
   },
   "source": [
    "input_layer = keras.layers.Input(shape=(1,), dtype=tf_string)\n",
    "x_v = vect_layer(input_layer)\n",
    "emb = keras.layers.Embedding(vocab_size, embedding_dim)(x_v)\n",
    "x = LSTM(64, activation='relu', return_sequences=True)(emb)\n",
    "x = GRU(64, activation='relu', return_sequences=False)(x)\n",
    "x = keras.layers.Flatten()(x)\n",
    "x = keras.layers.Dense(64, activation='relu')(x)\n",
    "x = keras.layers.Dense(32, activation='relu')(x)\n",
    "x = keras.layers.Dropout(0.2)(x)\n",
    "output_layer = keras.layers.Dense(1, 'sigmoid')(x)\n",
    "\n",
    "model = keras.Model(input_layer, output_layer)\n",
    "model.summary()\n",
    "# keras.metrics.F1Score(average='weighted',threshold=0.5, name='f1') - currently bugged\n",
    "model.compile(optimizer=keras.optimizers.AdamW(), loss=keras.losses.BinaryCrossentropy(),\n",
    "              metrics=[keras.metrics.BinaryAccuracy(name='accuracy')])"
   ],
   "outputs": [
    {
     "data": {
      "text/plain": [
       "\u001B[1mModel: \"functional\"\u001B[0m\n"
      ],
      "text/html": [
       "<pre style=\"white-space:pre;overflow-x:auto;line-height:normal;font-family:Menlo,'DejaVu Sans Mono',consolas,'Courier New',monospace\"><span style=\"font-weight: bold\">Model: \"functional\"</span>\n",
       "</pre>\n"
      ]
     },
     "metadata": {},
     "output_type": "display_data"
    },
    {
     "data": {
      "text/plain": [
       "┏━━━━━━━━━━━━━━━━━━━━━━━━━━━━━━━━━┳━━━━━━━━━━━━━━━━━━━━━━━━┳━━━━━━━━━━━━━━━┓\n",
       "┃\u001B[1m \u001B[0m\u001B[1mLayer (type)                   \u001B[0m\u001B[1m \u001B[0m┃\u001B[1m \u001B[0m\u001B[1mOutput Shape          \u001B[0m\u001B[1m \u001B[0m┃\u001B[1m \u001B[0m\u001B[1m      Param #\u001B[0m\u001B[1m \u001B[0m┃\n",
       "┡━━━━━━━━━━━━━━━━━━━━━━━━━━━━━━━━━╇━━━━━━━━━━━━━━━━━━━━━━━━╇━━━━━━━━━━━━━━━┩\n",
       "│ input_layer (\u001B[38;5;33mInputLayer\u001B[0m)        │ (\u001B[38;5;45mNone\u001B[0m, \u001B[38;5;34m1\u001B[0m)              │             \u001B[38;5;34m0\u001B[0m │\n",
       "├─────────────────────────────────┼────────────────────────┼───────────────┤\n",
       "│ text_vectorization              │ (\u001B[38;5;45mNone\u001B[0m, \u001B[38;5;34m30\u001B[0m)             │             \u001B[38;5;34m0\u001B[0m │\n",
       "│ (\u001B[38;5;33mTextVectorization\u001B[0m)             │                        │               │\n",
       "├─────────────────────────────────┼────────────────────────┼───────────────┤\n",
       "│ embedding (\u001B[38;5;33mEmbedding\u001B[0m)           │ (\u001B[38;5;45mNone\u001B[0m, \u001B[38;5;34m30\u001B[0m, \u001B[38;5;34m128\u001B[0m)        │     \u001B[38;5;34m1,280,000\u001B[0m │\n",
       "├─────────────────────────────────┼────────────────────────┼───────────────┤\n",
       "│ lstm (\u001B[38;5;33mLSTM\u001B[0m)                     │ (\u001B[38;5;45mNone\u001B[0m, \u001B[38;5;34m30\u001B[0m, \u001B[38;5;34m64\u001B[0m)         │        \u001B[38;5;34m49,408\u001B[0m │\n",
       "├─────────────────────────────────┼────────────────────────┼───────────────┤\n",
       "│ gru (\u001B[38;5;33mGRU\u001B[0m)                       │ (\u001B[38;5;45mNone\u001B[0m, \u001B[38;5;34m64\u001B[0m)             │        \u001B[38;5;34m24,960\u001B[0m │\n",
       "├─────────────────────────────────┼────────────────────────┼───────────────┤\n",
       "│ flatten (\u001B[38;5;33mFlatten\u001B[0m)               │ (\u001B[38;5;45mNone\u001B[0m, \u001B[38;5;34m64\u001B[0m)             │             \u001B[38;5;34m0\u001B[0m │\n",
       "├─────────────────────────────────┼────────────────────────┼───────────────┤\n",
       "│ dense (\u001B[38;5;33mDense\u001B[0m)                   │ (\u001B[38;5;45mNone\u001B[0m, \u001B[38;5;34m64\u001B[0m)             │         \u001B[38;5;34m4,160\u001B[0m │\n",
       "├─────────────────────────────────┼────────────────────────┼───────────────┤\n",
       "│ dense_1 (\u001B[38;5;33mDense\u001B[0m)                 │ (\u001B[38;5;45mNone\u001B[0m, \u001B[38;5;34m32\u001B[0m)             │         \u001B[38;5;34m2,080\u001B[0m │\n",
       "├─────────────────────────────────┼────────────────────────┼───────────────┤\n",
       "│ dropout (\u001B[38;5;33mDropout\u001B[0m)               │ (\u001B[38;5;45mNone\u001B[0m, \u001B[38;5;34m32\u001B[0m)             │             \u001B[38;5;34m0\u001B[0m │\n",
       "├─────────────────────────────────┼────────────────────────┼───────────────┤\n",
       "│ dense_2 (\u001B[38;5;33mDense\u001B[0m)                 │ (\u001B[38;5;45mNone\u001B[0m, \u001B[38;5;34m1\u001B[0m)              │            \u001B[38;5;34m33\u001B[0m │\n",
       "└─────────────────────────────────┴────────────────────────┴───────────────┘\n"
      ],
      "text/html": [
       "<pre style=\"white-space:pre;overflow-x:auto;line-height:normal;font-family:Menlo,'DejaVu Sans Mono',consolas,'Courier New',monospace\">┏━━━━━━━━━━━━━━━━━━━━━━━━━━━━━━━━━┳━━━━━━━━━━━━━━━━━━━━━━━━┳━━━━━━━━━━━━━━━┓\n",
       "┃<span style=\"font-weight: bold\"> Layer (type)                    </span>┃<span style=\"font-weight: bold\"> Output Shape           </span>┃<span style=\"font-weight: bold\">       Param # </span>┃\n",
       "┡━━━━━━━━━━━━━━━━━━━━━━━━━━━━━━━━━╇━━━━━━━━━━━━━━━━━━━━━━━━╇━━━━━━━━━━━━━━━┩\n",
       "│ input_layer (<span style=\"color: #0087ff; text-decoration-color: #0087ff\">InputLayer</span>)        │ (<span style=\"color: #00d7ff; text-decoration-color: #00d7ff\">None</span>, <span style=\"color: #00af00; text-decoration-color: #00af00\">1</span>)              │             <span style=\"color: #00af00; text-decoration-color: #00af00\">0</span> │\n",
       "├─────────────────────────────────┼────────────────────────┼───────────────┤\n",
       "│ text_vectorization              │ (<span style=\"color: #00d7ff; text-decoration-color: #00d7ff\">None</span>, <span style=\"color: #00af00; text-decoration-color: #00af00\">30</span>)             │             <span style=\"color: #00af00; text-decoration-color: #00af00\">0</span> │\n",
       "│ (<span style=\"color: #0087ff; text-decoration-color: #0087ff\">TextVectorization</span>)             │                        │               │\n",
       "├─────────────────────────────────┼────────────────────────┼───────────────┤\n",
       "│ embedding (<span style=\"color: #0087ff; text-decoration-color: #0087ff\">Embedding</span>)           │ (<span style=\"color: #00d7ff; text-decoration-color: #00d7ff\">None</span>, <span style=\"color: #00af00; text-decoration-color: #00af00\">30</span>, <span style=\"color: #00af00; text-decoration-color: #00af00\">128</span>)        │     <span style=\"color: #00af00; text-decoration-color: #00af00\">1,280,000</span> │\n",
       "├─────────────────────────────────┼────────────────────────┼───────────────┤\n",
       "│ lstm (<span style=\"color: #0087ff; text-decoration-color: #0087ff\">LSTM</span>)                     │ (<span style=\"color: #00d7ff; text-decoration-color: #00d7ff\">None</span>, <span style=\"color: #00af00; text-decoration-color: #00af00\">30</span>, <span style=\"color: #00af00; text-decoration-color: #00af00\">64</span>)         │        <span style=\"color: #00af00; text-decoration-color: #00af00\">49,408</span> │\n",
       "├─────────────────────────────────┼────────────────────────┼───────────────┤\n",
       "│ gru (<span style=\"color: #0087ff; text-decoration-color: #0087ff\">GRU</span>)                       │ (<span style=\"color: #00d7ff; text-decoration-color: #00d7ff\">None</span>, <span style=\"color: #00af00; text-decoration-color: #00af00\">64</span>)             │        <span style=\"color: #00af00; text-decoration-color: #00af00\">24,960</span> │\n",
       "├─────────────────────────────────┼────────────────────────┼───────────────┤\n",
       "│ flatten (<span style=\"color: #0087ff; text-decoration-color: #0087ff\">Flatten</span>)               │ (<span style=\"color: #00d7ff; text-decoration-color: #00d7ff\">None</span>, <span style=\"color: #00af00; text-decoration-color: #00af00\">64</span>)             │             <span style=\"color: #00af00; text-decoration-color: #00af00\">0</span> │\n",
       "├─────────────────────────────────┼────────────────────────┼───────────────┤\n",
       "│ dense (<span style=\"color: #0087ff; text-decoration-color: #0087ff\">Dense</span>)                   │ (<span style=\"color: #00d7ff; text-decoration-color: #00d7ff\">None</span>, <span style=\"color: #00af00; text-decoration-color: #00af00\">64</span>)             │         <span style=\"color: #00af00; text-decoration-color: #00af00\">4,160</span> │\n",
       "├─────────────────────────────────┼────────────────────────┼───────────────┤\n",
       "│ dense_1 (<span style=\"color: #0087ff; text-decoration-color: #0087ff\">Dense</span>)                 │ (<span style=\"color: #00d7ff; text-decoration-color: #00d7ff\">None</span>, <span style=\"color: #00af00; text-decoration-color: #00af00\">32</span>)             │         <span style=\"color: #00af00; text-decoration-color: #00af00\">2,080</span> │\n",
       "├─────────────────────────────────┼────────────────────────┼───────────────┤\n",
       "│ dropout (<span style=\"color: #0087ff; text-decoration-color: #0087ff\">Dropout</span>)               │ (<span style=\"color: #00d7ff; text-decoration-color: #00d7ff\">None</span>, <span style=\"color: #00af00; text-decoration-color: #00af00\">32</span>)             │             <span style=\"color: #00af00; text-decoration-color: #00af00\">0</span> │\n",
       "├─────────────────────────────────┼────────────────────────┼───────────────┤\n",
       "│ dense_2 (<span style=\"color: #0087ff; text-decoration-color: #0087ff\">Dense</span>)                 │ (<span style=\"color: #00d7ff; text-decoration-color: #00d7ff\">None</span>, <span style=\"color: #00af00; text-decoration-color: #00af00\">1</span>)              │            <span style=\"color: #00af00; text-decoration-color: #00af00\">33</span> │\n",
       "└─────────────────────────────────┴────────────────────────┴───────────────┘\n",
       "</pre>\n"
      ]
     },
     "metadata": {},
     "output_type": "display_data"
    },
    {
     "data": {
      "text/plain": [
       "\u001B[1m Total params: \u001B[0m\u001B[38;5;34m1,360,641\u001B[0m (5.19 MB)\n"
      ],
      "text/html": [
       "<pre style=\"white-space:pre;overflow-x:auto;line-height:normal;font-family:Menlo,'DejaVu Sans Mono',consolas,'Courier New',monospace\"><span style=\"font-weight: bold\"> Total params: </span><span style=\"color: #00af00; text-decoration-color: #00af00\">1,360,641</span> (5.19 MB)\n",
       "</pre>\n"
      ]
     },
     "metadata": {},
     "output_type": "display_data"
    },
    {
     "data": {
      "text/plain": [
       "\u001B[1m Trainable params: \u001B[0m\u001B[38;5;34m1,360,641\u001B[0m (5.19 MB)\n"
      ],
      "text/html": [
       "<pre style=\"white-space:pre;overflow-x:auto;line-height:normal;font-family:Menlo,'DejaVu Sans Mono',consolas,'Courier New',monospace\"><span style=\"font-weight: bold\"> Trainable params: </span><span style=\"color: #00af00; text-decoration-color: #00af00\">1,360,641</span> (5.19 MB)\n",
       "</pre>\n"
      ]
     },
     "metadata": {},
     "output_type": "display_data"
    },
    {
     "data": {
      "text/plain": [
       "\u001B[1m Non-trainable params: \u001B[0m\u001B[38;5;34m0\u001B[0m (0.00 B)\n"
      ],
      "text/html": [
       "<pre style=\"white-space:pre;overflow-x:auto;line-height:normal;font-family:Menlo,'DejaVu Sans Mono',consolas,'Courier New',monospace\"><span style=\"font-weight: bold\"> Non-trainable params: </span><span style=\"color: #00af00; text-decoration-color: #00af00\">0</span> (0.00 B)\n",
       "</pre>\n"
      ]
     },
     "metadata": {},
     "output_type": "display_data"
    }
   ],
   "execution_count": 40
  },
  {
   "cell_type": "markdown",
   "metadata": {},
   "source": [
    "## We are using `AdamW` optimizer, which is a variant of Adam optimizer ⚙️\n",
    "### Adam Optimizer 🧠\n",
    "\n",
    "Adam (Adaptive Moment Estimation) combines two key techniques to improve neural network training:\n",
    "\n",
    "- **Momentum** 🔄: Keeps track of previous directions, helping navigate tricky optimization landscapes like a ball rolling downhill\n",
    "- **Adaptive learning rates** 📊: Adjusts the step size individually for each parameter based on its history\n",
    "\n",
    "Adam is memory-efficient and works well for smaller networks, simple regression problems, and when working with clean datasets\n",
    "\n",
    "**Adaptive Learning Rates in Adam: A Simple Explanation** 🧭\n",
    "\n",
    "* Imagine you're hiking through mountains with varying terrain - steep cliffs, gentle slopes, and flat meadows 🏔️\n",
    "* The \"adaptive learning rates\" in Adam work like an intelligent hiking assistant that helps you navigate this landscape efficiently\n",
    "\n",
    "**How It Works** ⚙️\n",
    "\n",
    "1. **Different Parameters Need Different Step Sizes** 📏\n",
    "   - Some parameters might need big updates (steep terrain) 📈\n",
    "   - Others might need tiny, careful updates (slippery slopes) 📉\n",
    "\n",
    "2. **Adam Keeps Track of History** 📜\n",
    "   - For each parameter, Adam remembers how much that parameter has changed recently\n",
    "   - If a parameter has been changing a lot, Adam gives it smaller updates ⬇️\n",
    "   - If a parameter has barely moved, Adam gives it larger updates ⬆️\n",
    "\n",
    "3. **Real-World Example** 🌍\n",
    "   - Parameter A has seen huge gradients (values like 10.0, 8.5, 9.2)\n",
    "   - Parameter B has seen tiny gradients (values like 0.01, 0.02, 0.01)\n",
    "   - With a fixed learning rate, A would move too quickly and B too slowly ⚠️\n",
    "   - Adam automatically gives A smaller steps and B larger steps ✅\n",
    "\n",
    "**Why This Matters** 💡\n",
    "\n",
    "- **Prevents Oscillation** 🔄: Parameters that tend to bounce back and forth get smaller updates\n",
    "- **Escapes Flat Regions** 🏝️: Parameters stuck in flat areas get larger updates\n",
    "- **Training Stability** 🛡️: Each parameter moves at its appropriate pace\n",
    "- **Faster Convergence** 🏁: The model learns more efficiently overall\n",
    "\n",
    "This adaptive behavior is why Adam often converges faster than optimizers with fixed learning rates and requires less manual tuning.\n",
    "\n",
    "### AdamW Optimizer 🚀\n",
    "\n",
    "AdamW is an improved version of Adam with one crucial difference:\n",
    "\n",
    "- **Decoupled weight decay** ⚖️: AdamW separates the weight decay (regularization) from the gradient updates, while Adam applies it as part of the gradient update process\n",
    "\n",
    "This seemingly small change makes AdamW more effective for:\n",
    "- Training large models 🏗️\n",
    "- Improving generalization 🌐\n",
    "- Handling complex datasets 📚\n",
    "\n",
    "AdamW has become the default optimizer for transformer pretraining and many deep learning applications due to its consistent performance across various tasks\n",
    "\n",
    "**Understanding Decoupled Weight Decay in AdamW** 🧩\n",
    "\n",
    "* In traditional Adam optimization, L2 regularization (weight decay) is applied through the loss function, which means it affects the gradients before they're processed by Adam's adaptive learning rate mechanism\n",
    "* This creates a problem because the adaptive nature of Adam distorts the regularization effect, especially for parameters with large historical gradients ⚠️\n",
    "\n",
    "* AdamW solves this problem by **decoupling** weight decay from the gradient computation 🔓\n",
    "* Instead of including weight decay in the loss function (which affects gradients), AdamW applies weight decay directly to the weights as a separate step in the update process\n",
    "\n",
    "**How It Works** ⚙️\n",
    "\n",
    "1. **Adam (with L2 regularization)** 📊: \n",
    "   - Adds the L2 penalty to the loss function: `L_new(w) = L_original(w) + λw^Tw`\n",
    "   - Gradients are computed from this combined loss\n",
    "   - Adam's adaptive learning rates are applied to these modified gradients\n",
    "   - Problem: Parameters with large historical gradients receive less regularization ❌\n",
    "\n",
    "2. **AdamW (with decoupled weight decay)** 🔄:\n",
    "   - Computes gradients from only the original loss function\n",
    "   - Applies Adam's adaptive learning rate mechanism to these gradients\n",
    "   - Separately applies weight decay directly to the weights: `w = w - λw`\n",
    "   - All weights are regularized equally regardless of their gradient history ✅\n",
    "\n",
    "**Benefits of Decoupling** 🎯\n",
    "\n",
    "1. **Better Generalization** 🌐: AdamW consistently achieves better generalization performance than Adam with L2 regularization\n",
    "\n",
    "2. **Simplified Hyperparameter Tuning** 🎛️: The weight decay parameter becomes more independent of the learning rate, creating a more separable hyperparameter space that's easier to optimize\n",
    "\n",
    "3. **Improved Convergence** 📈: AdamW can match or exceed the performance of SGD with momentum on tasks where Adam traditionally struggled\n",
    "\n",
    "**Key Differences Summary** 📋\n",
    "\n",
    "| Optimizer | Memory Usage | Key Features | Best For |\n",
    "|-----------|--------------|--------------|----------|\n",
    "| Adam | Medium 📊 | Momentum + adaptive learning rates | Smaller networks, prototyping 🔬 |\n",
    "| AdamW | Medium 📊 | Adam + decoupled weight decay | Large models, general purpose 🚀 |"
   ]
  },
  {
   "cell_type": "code",
   "metadata": {
    "id": "NUzeNn2JjdML",
    "tags": [],
    "ExecuteTime": {
     "end_time": "2025-03-29T14:25:35.296812Z",
     "start_time": "2025-03-29T14:25:35.293801Z"
    }
   },
   "source": [
    "model_checkpoint_callback = tf.keras.callbacks.ModelCheckpoint(\n",
    "    filepath='best.weights.h5',\n",
    "    save_weights_only=True,\n",
    "    monitor='val_loss',\n",
    "    mode='auto',\n",
    "    save_best_only=True)"
   ],
   "outputs": [],
   "execution_count": 41
  },
  {
   "cell_type": "code",
   "metadata": {
    "tags": [],
    "ExecuteTime": {
     "end_time": "2025-03-29T14:29:52.788491Z",
     "start_time": "2025-03-29T14:25:35.338370Z"
    }
   },
   "source": [
    "batch_size = 128\n",
    "epochs = 5\n",
    "\n",
    "history = model.fit(X_train.values, tf.cast(y_train.values, tf.int32),\n",
    "                    validation_data=(X_valid.values, tf.cast(y_valid.values, tf.int32)),\n",
    "                    callbacks=[model_checkpoint_callback], epochs=epochs, batch_size=batch_size)\n",
    "\n",
    "show_history(history)"
   ],
   "outputs": [
    {
     "name": "stdout",
     "output_type": "stream",
     "text": [
      "Epoch 1/5\n",
      "\u001B[1m180/180\u001B[0m \u001B[32m━━━━━━━━━━━━━━━━━━━━\u001B[0m\u001B[37m\u001B[0m \u001B[1m48s\u001B[0m 239ms/step - accuracy: 0.9267 - loss: 0.3218 - val_accuracy: 0.9429 - val_loss: 0.1465\n",
      "Epoch 2/5\n",
      "\u001B[1m180/180\u001B[0m \u001B[32m━━━━━━━━━━━━━━━━━━━━\u001B[0m\u001B[37m\u001B[0m \u001B[1m43s\u001B[0m 239ms/step - accuracy: 0.9564 - loss: 0.1227 - val_accuracy: 0.9632 - val_loss: 0.1051\n",
      "Epoch 3/5\n",
      "\u001B[1m180/180\u001B[0m \u001B[32m━━━━━━━━━━━━━━━━━━━━\u001B[0m\u001B[37m\u001B[0m \u001B[1m80s\u001B[0m 227ms/step - accuracy: 0.9779 - loss: 0.0679 - val_accuracy: 0.9632 - val_loss: 0.1083\n",
      "Epoch 4/5\n",
      "\u001B[1m180/180\u001B[0m \u001B[32m━━━━━━━━━━━━━━━━━━━━\u001B[0m\u001B[37m\u001B[0m \u001B[1m42s\u001B[0m 233ms/step - accuracy: 0.9854 - loss: 0.0581 - val_accuracy: 0.9535 - val_loss: 0.1483\n",
      "Epoch 5/5\n",
      "\u001B[1m180/180\u001B[0m \u001B[32m━━━━━━━━━━━━━━━━━━━━\u001B[0m\u001B[37m\u001B[0m \u001B[1m45s\u001B[0m 248ms/step - accuracy: 0.9899 - loss: 0.0334 - val_accuracy: 0.9617 - val_loss: 0.1812\n"
     ]
    },
    {
     "data": {
      "text/plain": [
       "<Figure size 640x480 with 1 Axes>"
      ],
      "image/png": "[encoded data removed]"
     },
     "metadata": {},
     "output_type": "display_data"
    }
   ],
   "execution_count": 42
  },
  {
   "cell_type": "code",
   "metadata": {
    "tags": [],
    "ExecuteTime": {
     "end_time": "2025-03-29T14:29:53.087777Z",
     "start_time": "2025-03-29T14:29:52.836170Z"
    }
   },
   "source": [
    "# Load the best setup\n",
    "model.load_weights(\"best.weights.h5\")"
   ],
   "outputs": [],
   "execution_count": 43
  },
  {
   "cell_type": "code",
   "metadata": {
    "tags": [],
    "ExecuteTime": {
     "end_time": "2025-03-29T14:30:05.692874Z",
     "start_time": "2025-03-29T14:29:53.092231Z"
    }
   },
   "source": [
    "y_pred = model.predict(X_test.values).ravel()"
   ],
   "outputs": [
    {
     "name": "stdout",
     "output_type": "stream",
     "text": [
      "\u001B[1m200/200\u001B[0m \u001B[32m━━━━━━━━━━━━━━━━━━━━\u001B[0m\u001B[37m\u001B[0m \u001B[1m12s\u001B[0m 61ms/step\n"
     ]
    }
   ],
   "execution_count": 44
  },
  {
   "cell_type": "markdown",
   "metadata": {},
   "source": [
    "## Sigmoid function gives us real number in range <0, 1>."
   ]
  },
  {
   "cell_type": "code",
   "metadata": {
    "tags": [],
    "ExecuteTime": {
     "end_time": "2025-03-29T14:30:05.713585Z",
     "start_time": "2025-03-29T14:30:05.709742Z"
    }
   },
   "source": [
    "y_pred[:10]"
   ],
   "outputs": [
    {
     "data": {
      "text/plain": [
       "array([5.63050294e-03, 3.66959795e-02, 1.19675742e-02, 5.59990220e-02,\n",
       "       7.02522593e-05, 3.43778811e-05, 1.15806386e-01, 3.64783034e-02,\n",
       "       9.58490968e-02, 1.31842783e-02], dtype=float32)"
      ]
     },
     "execution_count": 45,
     "metadata": {},
     "output_type": "execute_result"
    }
   ],
   "execution_count": 45
  },
  {
   "cell_type": "markdown",
   "metadata": {},
   "source": [
    "## We need to map this values to discreet classes 0 and 1"
   ]
  },
  {
   "cell_type": "code",
   "metadata": {
    "tags": [],
    "ExecuteTime": {
     "end_time": "2025-03-29T14:30:05.756686Z",
     "start_time": "2025-03-29T14:30:05.752769Z"
    }
   },
   "source": [
    "y_pred = [1 if x >= 0.5 else 0 for x in y_pred]"
   ],
   "outputs": [],
   "execution_count": 46
  },
  {
   "cell_type": "code",
   "metadata": {
    "tags": [],
    "ExecuteTime": {
     "end_time": "2025-03-29T14:30:05.832946Z",
     "start_time": "2025-03-29T14:30:05.828351Z"
    }
   },
   "source": [
    "y_pred[:10]"
   ],
   "outputs": [
    {
     "data": {
      "text/plain": [
       "[0, 0, 0, 0, 0, 0, 0, 0, 0, 0]"
      ]
     },
     "execution_count": 47,
     "metadata": {},
     "output_type": "execute_result"
    }
   ],
   "execution_count": 47
  },
  {
   "cell_type": "markdown",
   "metadata": {},
   "source": [
    "# The accuracy is not the best metric in the imbalanced situation - you already know the reason 🙂\n",
    "* There are many more metrics we can use and one of the most common in this situation is the F1 Score, see [this](https://en.wikipedia.org/wiki/F-score) and [this](https://machinelearningmastery.com/classification-accuracy-is-not-enough-more-performance-measures-you-can-use/) for more info"
   ]
  },
  {
   "cell_type": "code",
   "metadata": {
    "tags": [],
    "ExecuteTime": {
     "end_time": "2025-03-29T14:30:05.888575Z",
     "start_time": "2025-03-29T14:30:05.882317Z"
    }
   },
   "source": [
    "accuracy_score(y_true=y_test, y_pred=y_pred)"
   ],
   "outputs": [
    {
     "data": {
      "text/plain": [
       "0.9582355701548568"
      ]
     },
     "execution_count": 48,
     "metadata": {},
     "output_type": "execute_result"
    }
   ],
   "execution_count": 48
  },
  {
   "cell_type": "code",
   "metadata": {
    "tags": [],
    "ExecuteTime": {
     "end_time": "2025-03-29T14:30:05.943459Z",
     "start_time": "2025-03-29T14:30:05.934954Z"
    }
   },
   "source": [
    "f1_score(y_true=y_test, y_pred=y_pred)"
   ],
   "outputs": [
    {
     "data": {
      "text/plain": [
       "0.6454183266932271"
      ]
     },
     "execution_count": 49,
     "metadata": {},
     "output_type": "execute_result"
    }
   ],
   "execution_count": 49
  },
  {
   "cell_type": "code",
   "metadata": {
    "tags": [],
    "ExecuteTime": {
     "end_time": "2025-03-29T14:30:06.012432Z",
     "start_time": "2025-03-29T14:30:05.994252Z"
    }
   },
   "source": [
    "print(classification_report(y_true=y_test, y_pred=y_pred))"
   ],
   "outputs": [
    {
     "name": "stdout",
     "output_type": "stream",
     "text": [
      "              precision    recall  f1-score   support\n",
      "\n",
      "           0       0.97      0.99      0.98      5945\n",
      "           1       0.80      0.54      0.65       448\n",
      "\n",
      "    accuracy                           0.96      6393\n",
      "   macro avg       0.88      0.77      0.81      6393\n",
      "weighted avg       0.95      0.96      0.95      6393\n",
      "\n"
     ]
    }
   ],
   "execution_count": 50
  },
  {
   "cell_type": "code",
   "metadata": {
    "tags": [],
    "ExecuteTime": {
     "end_time": "2025-03-29T14:30:06.169100Z",
     "start_time": "2025-03-29T14:30:06.058796Z"
    }
   },
   "source": [
    "sns.heatmap(confusion_matrix(y_true=y_test, y_pred=y_pred), annot=True, cmap='Greens', fmt='.0f')"
   ],
   "outputs": [
    {
     "data": {
      "text/plain": [
       "<Axes: >"
      ]
     },
     "execution_count": 51,
     "metadata": {},
     "output_type": "execute_result"
    },
    {
     "data": {
      "text/plain": [
       "<Figure size 640x480 with 2 Axes>"
      ],
      "image/png": "[encoded data removed]"
     },
     "metadata": {},
     "output_type": "display_data"
    }
   ],
   "execution_count": 51
  },
  {
   "cell_type": "markdown",
   "metadata": {},
   "source": [
    "# Do we need to train our own embedding from scratch? 🤔\n",
    "* 💡 There are multiple embeddings available online which were trained on very large corpuses e.g. Wikipedia\n",
    "* Good examples are Word2Vec, Glove or FastText\n",
    "    * These embeddings contains fixed length vectors for words in the vocabulary\n",
    "\n",
    "* We will use GloVe embedding with 50 dimensional embedding vectors\n",
    "    * For more details see [this](https://nlp.stanford.edu/projects/glove/)\n",
    "* You can download zip with vectors from [http://nlp.stanford.edu/data/glove.6B.zip](http://nlp.stanford.edu/data/glove.6B.zip) ~ 800 MB\n",
    "\n",
    "### 📌 Beware that the original text corpus was more general than the specific social media text data\n",
    "* 💡 So if you deal with very specific domains it may be beneficial to train your own embedding or at least fine tune existing one in the end"
   ]
  },
  {
   "cell_type": "markdown",
   "metadata": {},
   "source": [
    "# We need to download the embedding files\n",
    "~~~\n",
    "!wget http://nlp.stanford.edu/data/glove.6B.zip\n",
    "!unzip -q glove.6B.zip\n",
    "~~~\n",
    "\n",
    "* 💡50 dims GLOVE is also avaiable at https://ai.vsb.cz/downloads/glove.6B.50d.txt"
   ]
  },
  {
   "cell_type": "markdown",
   "metadata": {},
   "source": [
    "# First we need to load the file to memory and create embedding dictionary"
   ]
  },
  {
   "cell_type": "code",
   "metadata": {
    "tags": [],
    "ExecuteTime": {
     "end_time": "2025-03-29T14:47:08.689414Z",
     "start_time": "2025-03-29T14:30:06.183795Z"
    }
   },
   "source": [
    "if not os.path.exists('glove.6B.zip') and not os.path.exists('glove.6B.50d.txt'):\n",
    "    print(\"Downloading GloVe embeddings...\")\n",
    "    !wget http://nlp.stanford.edu/data/glove.6B.zip\n",
    "else:\n",
    "    print(\"GloVe embeddings already downloaded.\")"
   ],
   "outputs": [
    {
     "name": "stdout",
     "output_type": "stream",
     "text": [
      "Downloading GloVe embeddings...\n",
      "/bin/bash: warning: setlocale: LC_ALL: cannot change locale (en_US.UTF-8)\r\n",
      "--2025-03-29 15:30:06--  http://nlp.stanford.edu/data/glove.6B.zip\r\n",
      "Resolving nlp.stanford.edu (nlp.stanford.edu)... 171.64.67.140\r\n",
      "Connecting to nlp.stanford.edu (nlp.stanford.edu)|171.64.67.140|:80... connected.\r\n",
      "HTTP request sent, awaiting response... 302 Found\r\n",
      "Location: https://nlp.stanford.edu/data/glove.6B.zip [following]\r\n",
      "--2025-03-29 15:30:06--  https://nlp.stanford.edu/data/glove.6B.zip\r\n",
      "Connecting to nlp.stanford.edu (nlp.stanford.edu)|171.64.67.140|:443... connected.\r\n",
      "HTTP request sent, awaiting response... 301 Moved Permanently\r\n",
      "Location: https://downloads.cs.stanford.edu/nlp/data/glove.6B.zip [following]\r\n",
      "--2025-03-29 15:30:08--  https://downloads.cs.stanford.edu/nlp/data/glove.6B.zip\r\n",
      "Resolving downloads.cs.stanford.edu (downloads.cs.stanford.edu)... 171.64.64.22\r\n",
      "Connecting to downloads.cs.stanford.edu (downloads.cs.stanford.edu)|171.64.64.22|:443... connected.\r\n",
      "HTTP request sent, awaiting response... 200 OK\r\n",
      "Length: 862182613 (822M) [application/zip]\r\n",
      "Saving to: 'glove.6B.zip'\r\n",
      "\r\n",
      "glove.6B.zip        100%[===================>] 822.24M   922KB/s    in 16m 30s \r\n",
      "\r\n",
      "2025-03-29 15:47:08 (850 KB/s) - 'glove.6B.zip' saved [862182613/862182613]\r\n",
      "\r\n"
     ]
    }
   ],
   "execution_count": 52
  },
  {
   "cell_type": "code",
   "metadata": {
    "ExecuteTime": {
     "end_time": "2025-03-29T14:47:48.821461Z",
     "start_time": "2025-03-29T14:47:08.722798Z"
    }
   },
   "source": [
    "if os.path.exists('glove.6B.zip') and not os.path.exists('glove.6B.50d.txt'):\n",
    "    print(\"Extracting GloVe embeddings...\")\n",
    "    !unzip -q glove.6B.zip\n",
    "else:\n",
    "    print(\"GloVe embeddings already extracted.\")"
   ],
   "outputs": [
    {
     "name": "stdout",
     "output_type": "stream",
     "text": [
      "Extracting GloVe embeddings...\n",
      "/bin/bash: warning: setlocale: LC_ALL: cannot change locale (en_US.UTF-8)\r\n"
     ]
    }
   ],
   "execution_count": 53
  },
  {
   "cell_type": "code",
   "metadata": {
    "tags": [],
    "ExecuteTime": {
     "end_time": "2025-03-29T14:47:55.710918Z",
     "start_time": "2025-03-29T14:47:48.825931Z"
    }
   },
   "source": [
    "path_to_glove_file = 'glove.6B.50d.txt'\n",
    "\n",
    "embeddings_index = {}\n",
    "with open(path_to_glove_file) as f:\n",
    "    for line in f:\n",
    "        word, coefs = line.split(maxsplit=1)\n",
    "        coefs = np.fromstring(coefs, \"f\", sep=\" \")\n",
    "        embeddings_index[word] = coefs\n",
    "\n",
    "print(\"Found %s word vectors.\" % len(embeddings_index))"
   ],
   "outputs": [
    {
     "name": "stdout",
     "output_type": "stream",
     "text": [
      "Found 400000 word vectors.\n"
     ]
    }
   ],
   "execution_count": 54
  },
  {
   "cell_type": "markdown",
   "metadata": {
    "tags": []
   },
   "source": [
    "## 💡 This is how the embedding latent vector looks like for the word `analysis`"
   ]
  },
  {
   "cell_type": "code",
   "metadata": {
    "tags": [],
    "ExecuteTime": {
     "end_time": "2025-03-29T14:47:55.904539Z",
     "start_time": "2025-03-29T14:47:55.899933Z"
    }
   },
   "source": [
    "embeddings_index['analysis']"
   ],
   "outputs": [
    {
     "data": {
      "text/plain": [
       "array([ 0.47168 ,  0.25095 ,  0.078363,  0.33009 ,  0.32782 ,  0.47325 ,\n",
       "        0.16805 , -0.99997 ,  0.8607  ,  0.018286, -0.022716, -0.16986 ,\n",
       "       -0.33896 ,  0.10096 , -0.29278 , -0.18954 ,  0.063336, -0.64536 ,\n",
       "       -0.098547, -0.46883 ,  0.26338 , -0.063779,  0.51437 , -0.34739 ,\n",
       "        0.26537 , -0.58654 , -1.2527  , -0.20557 , -0.31604 ,  0.59308 ,\n",
       "        2.8329  , -1.2396  , -0.23409 , -1.66    ,  0.047692, -0.23141 ,\n",
       "       -0.14241 ,  0.74129 ,  0.69887 ,  0.14877 ,  0.6547  , -0.29812 ,\n",
       "        0.10476 ,  0.56112 , -0.015528,  0.099004,  1.3858  ,  1.8129  ,\n",
       "        0.3804  ,  0.83921 ], dtype=float32)"
      ]
     },
     "execution_count": 55,
     "metadata": {},
     "output_type": "execute_result"
    }
   ],
   "execution_count": 55
  },
  {
   "cell_type": "code",
   "metadata": {
    "tags": [],
    "ExecuteTime": {
     "end_time": "2025-03-29T14:47:56.096958Z",
     "start_time": "2025-03-29T14:47:56.092310Z"
    }
   },
   "source": [
    "embeddings_index['analysis'].shape"
   ],
   "outputs": [
    {
     "data": {
      "text/plain": [
       "(50,)"
      ]
     },
     "execution_count": 56,
     "metadata": {},
     "output_type": "execute_result"
    }
   ],
   "execution_count": 56
  },
  {
   "cell_type": "markdown",
   "metadata": {},
   "source": [
    "# 🚀 Our goal is to use the pre-trained embedding in our model\n",
    "* We need to get the vocabulary from the `TextVectorization` layer and the integer indexes"
   ]
  },
  {
   "cell_type": "code",
   "metadata": {
    "tags": [],
    "ExecuteTime": {
     "end_time": "2025-03-29T14:47:56.409283Z",
     "start_time": "2025-03-29T14:47:56.293851Z"
    }
   },
   "source": [
    "embedding_dim = 50  # Embedding dimension -> GloVe 50\n",
    "vocab_size = 10000  # Number of unique tokens in vocabulary\n",
    "sequence_length = 20  # Output dimension after vectorizing - words in vectorited representation are independent\n",
    "\n",
    "vect_layer = TextVectorization(max_tokens=vocab_size, output_mode='int', output_sequence_length=sequence_length)\n",
    "vect_layer.adapt(df.Clean_text.values)"
   ],
   "outputs": [],
   "execution_count": 57
  },
  {
   "cell_type": "code",
   "metadata": {
    "tags": [],
    "ExecuteTime": {
     "end_time": "2025-03-29T14:47:56.612229Z",
     "start_time": "2025-03-29T14:47:56.594917Z"
    }
   },
   "source": [
    "voc = vect_layer.get_vocabulary()\n",
    "word_index = dict(zip(voc, range(len(voc))))"
   ],
   "outputs": [],
   "execution_count": 58
  },
  {
   "cell_type": "code",
   "metadata": {
    "tags": [],
    "ExecuteTime": {
     "end_time": "2025-03-29T14:47:57.056096Z",
     "start_time": "2025-03-29T14:47:57.045373Z"
    }
   },
   "source": [
    "voc[:10]"
   ],
   "outputs": [
    {
     "data": {
      "text/plain": [
       "['',\n",
       " '[UNK]',\n",
       " np.str_('the'),\n",
       " np.str_('to'),\n",
       " np.str_('a'),\n",
       " np.str_('i'),\n",
       " np.str_('you'),\n",
       " np.str_('and'),\n",
       " np.str_('in'),\n",
       " np.str_('for')]"
      ]
     },
     "execution_count": 59,
     "metadata": {},
     "output_type": "execute_result"
    }
   ],
   "execution_count": 59
  },
  {
   "cell_type": "code",
   "metadata": {
    "tags": [],
    "ExecuteTime": {
     "end_time": "2025-03-29T14:47:57.116770Z",
     "start_time": "2025-03-29T14:47:57.112145Z"
    }
   },
   "source": [
    "word_index['the']"
   ],
   "outputs": [
    {
     "data": {
      "text/plain": [
       "2"
      ]
     },
     "execution_count": 60,
     "metadata": {},
     "output_type": "execute_result"
    }
   ],
   "execution_count": 60
  },
  {
   "cell_type": "code",
   "metadata": {
    "tags": [],
    "ExecuteTime": {
     "end_time": "2025-03-29T14:47:57.318050Z",
     "start_time": "2025-03-29T14:47:57.314256Z"
    }
   },
   "source": [
    "embeddings_index['the']"
   ],
   "outputs": [
    {
     "data": {
      "text/plain": [
       "array([ 4.1800e-01,  2.4968e-01, -4.1242e-01,  1.2170e-01,  3.4527e-01,\n",
       "       -4.4457e-02, -4.9688e-01, -1.7862e-01, -6.6023e-04, -6.5660e-01,\n",
       "        2.7843e-01, -1.4767e-01, -5.5677e-01,  1.4658e-01, -9.5095e-03,\n",
       "        1.1658e-02,  1.0204e-01, -1.2792e-01, -8.4430e-01, -1.2181e-01,\n",
       "       -1.6801e-02, -3.3279e-01, -1.5520e-01, -2.3131e-01, -1.9181e-01,\n",
       "       -1.8823e+00, -7.6746e-01,  9.9051e-02, -4.2125e-01, -1.9526e-01,\n",
       "        4.0071e+00, -1.8594e-01, -5.2287e-01, -3.1681e-01,  5.9213e-04,\n",
       "        7.4449e-03,  1.7778e-01, -1.5897e-01,  1.2041e-02, -5.4223e-02,\n",
       "       -2.9871e-01, -1.5749e-01, -3.4758e-01, -4.5637e-02, -4.4251e-01,\n",
       "        1.8785e-01,  2.7849e-03, -1.8411e-01, -1.1514e-01, -7.8581e-01],\n",
       "      dtype=float32)"
      ]
     },
     "execution_count": 61,
     "metadata": {},
     "output_type": "execute_result"
    }
   ],
   "execution_count": 61
  },
  {
   "cell_type": "markdown",
   "metadata": {},
   "source": [
    "## Now we can create the embedding matrix\n",
    "* We just need to map the `int` indices to the embedding vectors and save the mapping to the matrix\n",
    "    * 💡 Each row of the matrix is a one token"
   ]
  },
  {
   "cell_type": "code",
   "metadata": {
    "tags": [],
    "ExecuteTime": {
     "end_time": "2025-03-29T14:47:57.525656Z",
     "start_time": "2025-03-29T14:47:57.513884Z"
    }
   },
   "source": [
    "num_tokens = len(voc) + 2\n",
    "hits = 0\n",
    "misses = 0\n",
    "\n",
    "# Prepare embedding matrix\n",
    "embedding_matrix = np.zeros((num_tokens, embedding_dim))\n",
    "for word, i in word_index.items():\n",
    "    embedding_vector = embeddings_index.get(word)\n",
    "    if embedding_vector is not None:\n",
    "        # Words not found in embedding index will be all-zeros.\n",
    "        # This includes the representation for \"padding\" and \"OOV\"\n",
    "        embedding_matrix[i] = embedding_vector\n",
    "        hits += 1\n",
    "    else:\n",
    "        misses += 1\n",
    "print(\"Converted %d words (%d misses)\" % (hits, misses))"
   ],
   "outputs": [
    {
     "name": "stdout",
     "output_type": "stream",
     "text": [
      "Converted 8504 words (1496 misses)\n"
     ]
    }
   ],
   "execution_count": 62
  },
  {
   "cell_type": "code",
   "metadata": {
    "tags": [],
    "ExecuteTime": {
     "end_time": "2025-03-29T14:47:57.735426Z",
     "start_time": "2025-03-29T14:47:57.731269Z"
    }
   },
   "source": [
    "embedding_matrix[2]"
   ],
   "outputs": [
    {
     "data": {
      "text/plain": [
       "array([ 4.18000013e-01,  2.49679998e-01, -4.12420005e-01,  1.21699996e-01,\n",
       "        3.45270008e-01, -4.44569997e-02, -4.96879995e-01, -1.78619996e-01,\n",
       "       -6.60229998e-04, -6.56599998e-01,  2.78430015e-01, -1.47670001e-01,\n",
       "       -5.56770027e-01,  1.46579996e-01, -9.50950012e-03,  1.16579998e-02,\n",
       "        1.02040000e-01, -1.27920002e-01, -8.44299972e-01, -1.21809997e-01,\n",
       "       -1.68009996e-02, -3.32789987e-01, -1.55200005e-01, -2.31309995e-01,\n",
       "       -1.91809997e-01, -1.88230002e+00, -7.67459989e-01,  9.90509987e-02,\n",
       "       -4.21249986e-01, -1.95260003e-01,  4.00710011e+00, -1.85939997e-01,\n",
       "       -5.22870004e-01, -3.16810012e-01,  5.92130003e-04,  7.44489999e-03,\n",
       "        1.77780002e-01, -1.58969998e-01,  1.20409997e-02, -5.42230010e-02,\n",
       "       -2.98709989e-01, -1.57490000e-01, -3.47579986e-01, -4.56370004e-02,\n",
       "       -4.42510009e-01,  1.87849998e-01,  2.78489990e-03, -1.84110001e-01,\n",
       "       -1.15139998e-01, -7.85809994e-01])"
      ]
     },
     "execution_count": 63,
     "metadata": {},
     "output_type": "execute_result"
    }
   ],
   "execution_count": 63
  },
  {
   "cell_type": "markdown",
   "metadata": {},
   "source": [
    "# Finall, we can use the GloVe embedding in the `Embedding` layer in our model\n",
    "* 💡 Beware the `embeddings_initializer=keras.initializers.Constant(embedding_matrix), trainable=False)` part\n",
    "    * You say the model to use the GloVe vectors and that it can't modify them\n",
    "    * 💡 You can also set the parameter `trainable=True` and do the fine-tuning of the embedding"
   ]
  },
  {
   "cell_type": "code",
   "metadata": {
    "tags": [],
    "ExecuteTime": {
     "end_time": "2025-03-29T14:47:58.024027Z",
     "start_time": "2025-03-29T14:47:57.919523Z"
    }
   },
   "source": [
    "input_layer = keras.layers.Input(shape=(1,), dtype=tf_string)\n",
    "x_v = vect_layer(input_layer)\n",
    "emb = keras.layers.Embedding(num_tokens, embedding_dim,\n",
    "                             embeddings_initializer=keras.initializers.Constant(embedding_matrix), trainable=False)(x_v)\n",
    "x = LSTM(64, activation='relu', return_sequences=True)(emb)\n",
    "x = GRU(64, activation='relu', return_sequences=False)(x)\n",
    "x = keras.layers.Flatten()(x)\n",
    "x = keras.layers.Dense(64, 'relu')(x)\n",
    "x = keras.layers.Dense(32, 'relu')(x)\n",
    "x = keras.layers.Dropout(0.2)(x)\n",
    "output_layer = keras.layers.Dense(1, 'sigmoid')(x)\n",
    "\n",
    "model = keras.Model(input_layer, output_layer)\n",
    "model.summary()\n",
    "\n",
    "model.compile(optimizer=keras.optimizers.AdamW(), loss=keras.losses.BinaryCrossentropy(),\n",
    "              metrics=[keras.metrics.BinaryAccuracy(name='accuracy')])"
   ],
   "outputs": [
    {
     "data": {
      "text/plain": [
       "\u001B[1mModel: \"functional_1\"\u001B[0m\n"
      ],
      "text/html": [
       "<pre style=\"white-space:pre;overflow-x:auto;line-height:normal;font-family:Menlo,'DejaVu Sans Mono',consolas,'Courier New',monospace\"><span style=\"font-weight: bold\">Model: \"functional_1\"</span>\n",
       "</pre>\n"
      ]
     },
     "metadata": {},
     "output_type": "display_data"
    },
    {
     "data": {
      "text/plain": [
       "┏━━━━━━━━━━━━━━━━━━━━━━━━━━━━━━━━━┳━━━━━━━━━━━━━━━━━━━━━━━━┳━━━━━━━━━━━━━━━┓\n",
       "┃\u001B[1m \u001B[0m\u001B[1mLayer (type)                   \u001B[0m\u001B[1m \u001B[0m┃\u001B[1m \u001B[0m\u001B[1mOutput Shape          \u001B[0m\u001B[1m \u001B[0m┃\u001B[1m \u001B[0m\u001B[1m      Param #\u001B[0m\u001B[1m \u001B[0m┃\n",
       "┡━━━━━━━━━━━━━━━━━━━━━━━━━━━━━━━━━╇━━━━━━━━━━━━━━━━━━━━━━━━╇━━━━━━━━━━━━━━━┩\n",
       "│ input_layer_1 (\u001B[38;5;33mInputLayer\u001B[0m)      │ (\u001B[38;5;45mNone\u001B[0m, \u001B[38;5;34m1\u001B[0m)              │             \u001B[38;5;34m0\u001B[0m │\n",
       "├─────────────────────────────────┼────────────────────────┼───────────────┤\n",
       "│ text_vectorization_1            │ (\u001B[38;5;45mNone\u001B[0m, \u001B[38;5;34m20\u001B[0m)             │             \u001B[38;5;34m0\u001B[0m │\n",
       "│ (\u001B[38;5;33mTextVectorization\u001B[0m)             │                        │               │\n",
       "├─────────────────────────────────┼────────────────────────┼───────────────┤\n",
       "│ embedding_1 (\u001B[38;5;33mEmbedding\u001B[0m)         │ (\u001B[38;5;45mNone\u001B[0m, \u001B[38;5;34m20\u001B[0m, \u001B[38;5;34m50\u001B[0m)         │       \u001B[38;5;34m500,100\u001B[0m │\n",
       "├─────────────────────────────────┼────────────────────────┼───────────────┤\n",
       "│ lstm_1 (\u001B[38;5;33mLSTM\u001B[0m)                   │ (\u001B[38;5;45mNone\u001B[0m, \u001B[38;5;34m20\u001B[0m, \u001B[38;5;34m64\u001B[0m)         │        \u001B[38;5;34m29,440\u001B[0m │\n",
       "├─────────────────────────────────┼────────────────────────┼───────────────┤\n",
       "│ gru_1 (\u001B[38;5;33mGRU\u001B[0m)                     │ (\u001B[38;5;45mNone\u001B[0m, \u001B[38;5;34m64\u001B[0m)             │        \u001B[38;5;34m24,960\u001B[0m │\n",
       "├─────────────────────────────────┼────────────────────────┼───────────────┤\n",
       "│ flatten_1 (\u001B[38;5;33mFlatten\u001B[0m)             │ (\u001B[38;5;45mNone\u001B[0m, \u001B[38;5;34m64\u001B[0m)             │             \u001B[38;5;34m0\u001B[0m │\n",
       "├─────────────────────────────────┼────────────────────────┼───────────────┤\n",
       "│ dense_3 (\u001B[38;5;33mDense\u001B[0m)                 │ (\u001B[38;5;45mNone\u001B[0m, \u001B[38;5;34m64\u001B[0m)             │         \u001B[38;5;34m4,160\u001B[0m │\n",
       "├─────────────────────────────────┼────────────────────────┼───────────────┤\n",
       "│ dense_4 (\u001B[38;5;33mDense\u001B[0m)                 │ (\u001B[38;5;45mNone\u001B[0m, \u001B[38;5;34m32\u001B[0m)             │         \u001B[38;5;34m2,080\u001B[0m │\n",
       "├─────────────────────────────────┼────────────────────────┼───────────────┤\n",
       "│ dropout_1 (\u001B[38;5;33mDropout\u001B[0m)             │ (\u001B[38;5;45mNone\u001B[0m, \u001B[38;5;34m32\u001B[0m)             │             \u001B[38;5;34m0\u001B[0m │\n",
       "├─────────────────────────────────┼────────────────────────┼───────────────┤\n",
       "│ dense_5 (\u001B[38;5;33mDense\u001B[0m)                 │ (\u001B[38;5;45mNone\u001B[0m, \u001B[38;5;34m1\u001B[0m)              │            \u001B[38;5;34m33\u001B[0m │\n",
       "└─────────────────────────────────┴────────────────────────┴───────────────┘\n"
      ],
      "text/html": [
       "<pre style=\"white-space:pre;overflow-x:auto;line-height:normal;font-family:Menlo,'DejaVu Sans Mono',consolas,'Courier New',monospace\">┏━━━━━━━━━━━━━━━━━━━━━━━━━━━━━━━━━┳━━━━━━━━━━━━━━━━━━━━━━━━┳━━━━━━━━━━━━━━━┓\n",
       "┃<span style=\"font-weight: bold\"> Layer (type)                    </span>┃<span style=\"font-weight: bold\"> Output Shape           </span>┃<span style=\"font-weight: bold\">       Param # </span>┃\n",
       "┡━━━━━━━━━━━━━━━━━━━━━━━━━━━━━━━━━╇━━━━━━━━━━━━━━━━━━━━━━━━╇━━━━━━━━━━━━━━━┩\n",
       "│ input_layer_1 (<span style=\"color: #0087ff; text-decoration-color: #0087ff\">InputLayer</span>)      │ (<span style=\"color: #00d7ff; text-decoration-color: #00d7ff\">None</span>, <span style=\"color: #00af00; text-decoration-color: #00af00\">1</span>)              │             <span style=\"color: #00af00; text-decoration-color: #00af00\">0</span> │\n",
       "├─────────────────────────────────┼────────────────────────┼───────────────┤\n",
       "│ text_vectorization_1            │ (<span style=\"color: #00d7ff; text-decoration-color: #00d7ff\">None</span>, <span style=\"color: #00af00; text-decoration-color: #00af00\">20</span>)             │             <span style=\"color: #00af00; text-decoration-color: #00af00\">0</span> │\n",
       "│ (<span style=\"color: #0087ff; text-decoration-color: #0087ff\">TextVectorization</span>)             │                        │               │\n",
       "├─────────────────────────────────┼────────────────────────┼───────────────┤\n",
       "│ embedding_1 (<span style=\"color: #0087ff; text-decoration-color: #0087ff\">Embedding</span>)         │ (<span style=\"color: #00d7ff; text-decoration-color: #00d7ff\">None</span>, <span style=\"color: #00af00; text-decoration-color: #00af00\">20</span>, <span style=\"color: #00af00; text-decoration-color: #00af00\">50</span>)         │       <span style=\"color: #00af00; text-decoration-color: #00af00\">500,100</span> │\n",
       "├─────────────────────────────────┼────────────────────────┼───────────────┤\n",
       "│ lstm_1 (<span style=\"color: #0087ff; text-decoration-color: #0087ff\">LSTM</span>)                   │ (<span style=\"color: #00d7ff; text-decoration-color: #00d7ff\">None</span>, <span style=\"color: #00af00; text-decoration-color: #00af00\">20</span>, <span style=\"color: #00af00; text-decoration-color: #00af00\">64</span>)         │        <span style=\"color: #00af00; text-decoration-color: #00af00\">29,440</span> │\n",
       "├─────────────────────────────────┼────────────────────────┼───────────────┤\n",
       "│ gru_1 (<span style=\"color: #0087ff; text-decoration-color: #0087ff\">GRU</span>)                     │ (<span style=\"color: #00d7ff; text-decoration-color: #00d7ff\">None</span>, <span style=\"color: #00af00; text-decoration-color: #00af00\">64</span>)             │        <span style=\"color: #00af00; text-decoration-color: #00af00\">24,960</span> │\n",
       "├─────────────────────────────────┼────────────────────────┼───────────────┤\n",
       "│ flatten_1 (<span style=\"color: #0087ff; text-decoration-color: #0087ff\">Flatten</span>)             │ (<span style=\"color: #00d7ff; text-decoration-color: #00d7ff\">None</span>, <span style=\"color: #00af00; text-decoration-color: #00af00\">64</span>)             │             <span style=\"color: #00af00; text-decoration-color: #00af00\">0</span> │\n",
       "├─────────────────────────────────┼────────────────────────┼───────────────┤\n",
       "│ dense_3 (<span style=\"color: #0087ff; text-decoration-color: #0087ff\">Dense</span>)                 │ (<span style=\"color: #00d7ff; text-decoration-color: #00d7ff\">None</span>, <span style=\"color: #00af00; text-decoration-color: #00af00\">64</span>)             │         <span style=\"color: #00af00; text-decoration-color: #00af00\">4,160</span> │\n",
       "├─────────────────────────────────┼────────────────────────┼───────────────┤\n",
       "│ dense_4 (<span style=\"color: #0087ff; text-decoration-color: #0087ff\">Dense</span>)                 │ (<span style=\"color: #00d7ff; text-decoration-color: #00d7ff\">None</span>, <span style=\"color: #00af00; text-decoration-color: #00af00\">32</span>)             │         <span style=\"color: #00af00; text-decoration-color: #00af00\">2,080</span> │\n",
       "├─────────────────────────────────┼────────────────────────┼───────────────┤\n",
       "│ dropout_1 (<span style=\"color: #0087ff; text-decoration-color: #0087ff\">Dropout</span>)             │ (<span style=\"color: #00d7ff; text-decoration-color: #00d7ff\">None</span>, <span style=\"color: #00af00; text-decoration-color: #00af00\">32</span>)             │             <span style=\"color: #00af00; text-decoration-color: #00af00\">0</span> │\n",
       "├─────────────────────────────────┼────────────────────────┼───────────────┤\n",
       "│ dense_5 (<span style=\"color: #0087ff; text-decoration-color: #0087ff\">Dense</span>)                 │ (<span style=\"color: #00d7ff; text-decoration-color: #00d7ff\">None</span>, <span style=\"color: #00af00; text-decoration-color: #00af00\">1</span>)              │            <span style=\"color: #00af00; text-decoration-color: #00af00\">33</span> │\n",
       "└─────────────────────────────────┴────────────────────────┴───────────────┘\n",
       "</pre>\n"
      ]
     },
     "metadata": {},
     "output_type": "display_data"
    },
    {
     "data": {
      "text/plain": [
       "\u001B[1m Total params: \u001B[0m\u001B[38;5;34m560,773\u001B[0m (2.14 MB)\n"
      ],
      "text/html": [
       "<pre style=\"white-space:pre;overflow-x:auto;line-height:normal;font-family:Menlo,'DejaVu Sans Mono',consolas,'Courier New',monospace\"><span style=\"font-weight: bold\"> Total params: </span><span style=\"color: #00af00; text-decoration-color: #00af00\">560,773</span> (2.14 MB)\n",
       "</pre>\n"
      ]
     },
     "metadata": {},
     "output_type": "display_data"
    },
    {
     "data": {
      "text/plain": [
       "\u001B[1m Trainable params: \u001B[0m\u001B[38;5;34m60,673\u001B[0m (237.00 KB)\n"
      ],
      "text/html": [
       "<pre style=\"white-space:pre;overflow-x:auto;line-height:normal;font-family:Menlo,'DejaVu Sans Mono',consolas,'Courier New',monospace\"><span style=\"font-weight: bold\"> Trainable params: </span><span style=\"color: #00af00; text-decoration-color: #00af00\">60,673</span> (237.00 KB)\n",
       "</pre>\n"
      ]
     },
     "metadata": {},
     "output_type": "display_data"
    },
    {
     "data": {
      "text/plain": [
       "\u001B[1m Non-trainable params: \u001B[0m\u001B[38;5;34m500,100\u001B[0m (1.91 MB)\n"
      ],
      "text/html": [
       "<pre style=\"white-space:pre;overflow-x:auto;line-height:normal;font-family:Menlo,'DejaVu Sans Mono',consolas,'Courier New',monospace\"><span style=\"font-weight: bold\"> Non-trainable params: </span><span style=\"color: #00af00; text-decoration-color: #00af00\">500,100</span> (1.91 MB)\n",
       "</pre>\n"
      ]
     },
     "metadata": {},
     "output_type": "display_data"
    }
   ],
   "execution_count": 64
  },
  {
   "cell_type": "code",
   "metadata": {
    "id": "NUzeNn2JjdML",
    "tags": [],
    "ExecuteTime": {
     "end_time": "2025-03-29T14:47:58.240083Z",
     "start_time": "2025-03-29T14:47:58.236966Z"
    }
   },
   "source": [
    "model_checkpoint_callback = tf.keras.callbacks.ModelCheckpoint(\n",
    "    filepath='best.weights.h5',\n",
    "    save_weights_only=True,\n",
    "    monitor='val_loss',\n",
    "    mode='auto',\n",
    "    save_best_only=True)"
   ],
   "outputs": [],
   "execution_count": 65
  },
  {
   "cell_type": "code",
   "metadata": {
    "tags": [],
    "ExecuteTime": {
     "end_time": "2025-03-29T14:50:24.383425Z",
     "start_time": "2025-03-29T14:47:58.658533Z"
    }
   },
   "source": [
    "batch_size = 128\n",
    "epochs = 5\n",
    "\n",
    "history = model.fit(X_train.values, tf.cast(y_train.values, tf.float32),\n",
    "                    validation_data=(X_valid.values, tf.cast(y_valid.values, tf.float32)),\n",
    "                    callbacks=[model_checkpoint_callback], epochs=epochs, batch_size=batch_size)\n",
    "\n",
    "show_history(history)"
   ],
   "outputs": [
    {
     "name": "stdout",
     "output_type": "stream",
     "text": [
      "Epoch 1/5\n",
      "\u001B[1m180/180\u001B[0m \u001B[32m━━━━━━━━━━━━━━━━━━━━\u001B[0m\u001B[37m\u001B[0m \u001B[1m32s\u001B[0m 163ms/step - accuracy: 0.9311 - loss: 0.3158 - val_accuracy: 0.9335 - val_loss: 0.1659\n",
      "Epoch 2/5\n",
      "\u001B[1m180/180\u001B[0m \u001B[32m━━━━━━━━━━━━━━━━━━━━\u001B[0m\u001B[37m\u001B[0m \u001B[1m28s\u001B[0m 156ms/step - accuracy: 0.9335 - loss: 0.1809 - val_accuracy: 0.9437 - val_loss: 0.1570\n",
      "Epoch 3/5\n",
      "\u001B[1m180/180\u001B[0m \u001B[32m━━━━━━━━━━━━━━━━━━━━\u001B[0m\u001B[37m\u001B[0m \u001B[1m28s\u001B[0m 154ms/step - accuracy: 0.9434 - loss: 0.1590 - val_accuracy: 0.9492 - val_loss: 0.1439\n",
      "Epoch 4/5\n",
      "\u001B[1m180/180\u001B[0m \u001B[32m━━━━━━━━━━━━━━━━━━━━\u001B[0m\u001B[37m\u001B[0m \u001B[1m28s\u001B[0m 158ms/step - accuracy: 0.9492 - loss: 0.1448 - val_accuracy: 0.9535 - val_loss: 0.1390\n",
      "Epoch 5/5\n",
      "\u001B[1m180/180\u001B[0m \u001B[32m━━━━━━━━━━━━━━━━━━━━\u001B[0m\u001B[37m\u001B[0m \u001B[1m29s\u001B[0m 160ms/step - accuracy: 0.9538 - loss: 0.1363 - val_accuracy: 0.9527 - val_loss: 0.1343\n"
     ]
    },
    {
     "data": {
      "text/plain": [
       "<Figure size 640x480 with 1 Axes>"
      ],
      "image/png": "[encoded data removed]"
     },
     "metadata": {},
     "output_type": "display_data"
    }
   ],
   "execution_count": 66
  },
  {
   "cell_type": "code",
   "metadata": {
    "tags": [],
    "ExecuteTime": {
     "end_time": "2025-03-29T14:50:24.733579Z",
     "start_time": "2025-03-29T14:50:24.626410Z"
    }
   },
   "source": [
    "# Load the best setup\n",
    "model.load_weights(\"best.weights.h5\")"
   ],
   "outputs": [],
   "execution_count": 67
  },
  {
   "cell_type": "markdown",
   "metadata": {},
   "source": [
    "# 🔎 Which model is better?\n",
    "* The one using pre-trained embedding or the one that we've trained from scrath?\n",
    "* 🔎 Why?"
   ]
  },
  {
   "cell_type": "code",
   "metadata": {
    "tags": [],
    "ExecuteTime": {
     "end_time": "2025-03-29T14:50:33.966651Z",
     "start_time": "2025-03-29T14:50:24.737203Z"
    }
   },
   "source": [
    "y_pred = model.predict(X_test.values).ravel()\n",
    "y_pred = [1 if x >= 0.5 else 0 for x in y_pred]\n",
    "print(f'Accuracy: {accuracy_score(y_true=y_test, y_pred=y_pred)}')\n",
    "print(f'F1 Score: {f1_score(y_true=y_test, y_pred=y_pred)}')"
   ],
   "outputs": [
    {
     "name": "stdout",
     "output_type": "stream",
     "text": [
      "\u001B[1m200/200\u001B[0m \u001B[32m━━━━━━━━━━━━━━━━━━━━\u001B[0m\u001B[37m\u001B[0m \u001B[1m9s\u001B[0m 44ms/step\n",
      "Accuracy: 0.9435319881119975\n",
      "F1 Score: 0.5470514429109159\n"
     ]
    }
   ],
   "execution_count": 68
  },
  {
   "cell_type": "markdown",
   "metadata": {},
   "source": [
    "# ✅  Tasks for the lecture (2p)\n",
    "* Try to fine-tune and switch the GloVe embedding and compare the models\n",
    "    * Fine-tune GloVe 50 embedding - **(1p)**\n",
    "    * Use GloVe 100 or higher dimentional embbeding - **(1p)**\n",
    "    * 🔎 Is it any different according to the **F1-Score**?\n",
    "\n",
    "# 🚀 There is a competition for bonus points this week! \n",
    "* Everyone who will send me a correct solution will be included in the F1 - Score toplist\n",
    "    * 📌 **Send me a link to the notebook, not the .ipynb file (💡 e-mail filter issue)!**\n",
    "* **Deadline for the competition submission is Sunday 30th at 15:00**\n",
    "    * The toplist will be publicly available\n",
    "* There is no limitation in used layers (LSTM, CNN, ...), optimizers and so on\n",
    "    * 💡 You can use any model architecture from the internet including transfer learning\n",
    "* The test set is the same as the one that we used in the lecture\n",
    "    * 💡 It is marked with 🎯 in the notebook\n",
    "* ⚡ The winner with the best **F1-Score** on test set will be awarded with **10 bonus points**\n",
    "\n",
    "## 📌 The only limitation is that the model has to be trained/fine-tuned on Colab/Kaggle/Your machine so online sentiment scoring services or REST-API LLMs are forbidden!\n",
    "\n",
    "![Meme03](https://github.com/rasvob/VSB-FEI-Deep-Learning-Exercises/blob/main/images/dl_06_meme_03.png?raw=true)\n"
   ]
  },
  {
   "metadata": {},
   "cell_type": "markdown",
   "source": "# Tasks"
  },
  {
   "metadata": {},
   "cell_type": "markdown",
   "source": "## Helper functions"
  },
  {
   "metadata": {},
   "cell_type": "markdown",
   "source": "### Time tracking"
  },
  {
   "metadata": {
    "ExecuteTime": {
     "end_time": "2025-03-29T14:50:34.184499Z",
     "start_time": "2025-03-29T14:50:34.181440Z"
    }
   },
   "cell_type": "code",
   "source": [
    "class TimeTrackerTrain:\n",
    "    def __enter__(self):\n",
    "        self.start_time = time.time()\n",
    "        return self\n",
    "\n",
    "    def __exit__(self, exc_type, exc_value, traceback):\n",
    "        self.end_time = time.time()\n",
    "        self.execution_time = self.end_time - self.start_time\n",
    "        minutes = self.execution_time // 60\n",
    "        seconds = self.execution_time % 60\n",
    "        print(f\"Training time: {minutes:.0f} minutes and {seconds:.2f} seconds\")"
   ],
   "outputs": [],
   "execution_count": 69
  },
  {
   "metadata": {},
   "cell_type": "markdown",
   "source": "### Load GloVe embeddings"
  },
  {
   "metadata": {
    "ExecuteTime": {
     "end_time": "2025-03-29T14:50:34.591394Z",
     "start_time": "2025-03-29T14:50:34.587061Z"
    }
   },
   "cell_type": "code",
   "source": [
    "def load_glove_embeddings(dimension=50):\n",
    "    if dimension not in [50, 100, 200, 300]:\n",
    "        raise ValueError(\"Dimension must be one of [50, 100, 200, 300]\")\n",
    "\n",
    "    path_to_glove_file = f'glove.6B.{dimension}d.txt'\n",
    "\n",
    "    print(f\"Loading GloVE embeddings from {path_to_glove_file}...\")\n",
    "    embeddings_index = {}\n",
    "    with open(path_to_glove_file) as f:\n",
    "        for line in f:\n",
    "            word, coefs = line.split(maxsplit=1)\n",
    "            coefs = np.fromstring(coefs, \"f\", sep=\" \")\n",
    "            embeddings_index[word] = coefs\n",
    "\n",
    "    print(f\"Loaded {len(embeddings_index)} word vectors.\")\n",
    "    return embeddings_index"
   ],
   "outputs": [],
   "execution_count": 70
  },
  {
   "metadata": {},
   "cell_type": "markdown",
   "source": "### Create embedding matrix"
  },
  {
   "metadata": {
    "ExecuteTime": {
     "end_time": "2025-03-29T14:50:34.799800Z",
     "start_time": "2025-03-29T14:50:34.795563Z"
    }
   },
   "cell_type": "code",
   "source": [
    "def create_embedding_matrix(embeddings_index, vect_layer, embedding_dim):\n",
    "    voc = vect_layer.get_vocabulary()\n",
    "    word_index = dict(zip(voc, range(len(voc))))\n",
    "\n",
    "    num_tokens = len(voc) + 2\n",
    "    hits = 0\n",
    "    misses = 0\n",
    "\n",
    "    embedding_matrix = np.zeros((num_tokens, embedding_dim))\n",
    "    for word, i in word_index.items():\n",
    "        embedding_vector = embeddings_index.get(word)\n",
    "        if embedding_vector is not None:\n",
    "            embedding_matrix[i] = embedding_vector\n",
    "            hits += 1\n",
    "        else:\n",
    "            misses += 1\n",
    "\n",
    "    print(f\"Converted {hits} words ({misses} misses)\")\n",
    "    return embedding_matrix, num_tokens"
   ],
   "outputs": [],
   "execution_count": 71
  },
  {
   "metadata": {},
   "cell_type": "markdown",
   "source": "### Create model with GloVe embedding"
  },
  {
   "metadata": {
    "ExecuteTime": {
     "end_time": "2025-03-29T14:50:34.859898Z",
     "start_time": "2025-03-29T14:50:34.855453Z"
    }
   },
   "cell_type": "code",
   "source": [
    "def create_model(vect_layer, embedding_matrix, num_tokens, embedding_dim, trainable=False):\n",
    "    input_layer = keras.layers.Input(shape=(1,), dtype=tf_string)\n",
    "    x_v = vect_layer(input_layer)\n",
    "    emb = keras.layers.Embedding(\n",
    "        num_tokens,\n",
    "        embedding_dim,\n",
    "        embeddings_initializer=keras.initializers.Constant(embedding_matrix),\n",
    "        trainable=trainable\n",
    "    )(x_v)\n",
    "\n",
    "    x = LSTM(64, activation='relu', return_sequences=True)(emb)\n",
    "    x = GRU(64, activation='relu', return_sequences=False)(x)\n",
    "    x = keras.layers.Flatten()(x)\n",
    "    x = keras.layers.Dense(64, 'relu')(x)\n",
    "    x = keras.layers.Dense(32, 'relu')(x)\n",
    "    x = keras.layers.Dropout(0.2)(x)\n",
    "    output_layer = keras.layers.Dense(1, 'sigmoid')(x)\n",
    "\n",
    "    model = keras.Model(input_layer, output_layer)\n",
    "    model.compile(\n",
    "        optimizer=keras.optimizers.AdamW(),\n",
    "        loss=keras.losses.BinaryCrossentropy(),\n",
    "        metrics=[keras.metrics.BinaryAccuracy(name='accuracy')]\n",
    "    )\n",
    "\n",
    "    return model"
   ],
   "outputs": [],
   "execution_count": 72
  },
  {
   "metadata": {},
   "cell_type": "markdown",
   "source": "### Train model"
  },
  {
   "metadata": {
    "ExecuteTime": {
     "end_time": "2025-03-29T14:50:35.070110Z",
     "start_time": "2025-03-29T14:50:35.066263Z"
    }
   },
   "cell_type": "code",
   "source": [
    "def train_model(model, X_train, y_train, X_valid, y_valid, model_name, epochs=5, batch_size=128):\n",
    "    model_checkpoint_callback = tf.keras.callbacks.ModelCheckpoint(\n",
    "        filepath=f'weights/{model_name}_best.weights.h5',\n",
    "        save_weights_only=True,\n",
    "        monitor='val_loss',\n",
    "        mode='auto',\n",
    "        save_best_only=True\n",
    "    )\n",
    "\n",
    "    print(f\"Training model {model_name}...\")\n",
    "    history = model.fit(\n",
    "        X_train.values,\n",
    "        tf.cast(y_train.values, tf.float32),\n",
    "        validation_data=(X_valid.values, tf.cast(y_valid.values, tf.float32)),\n",
    "        callbacks=[model_checkpoint_callback],\n",
    "        epochs=epochs,\n",
    "        batch_size=batch_size\n",
    "    )\n",
    "\n",
    "    model.load_weights(f'weights/{model_name}_best.weights.h5')\n",
    "\n",
    "    return history"
   ],
   "outputs": [],
   "execution_count": 73
  },
  {
   "metadata": {},
   "cell_type": "markdown",
   "source": "### Evaluate model"
  },
  {
   "metadata": {
    "ExecuteTime": {
     "end_time": "2025-03-29T14:50:35.524469Z",
     "start_time": "2025-03-29T14:50:35.520022Z"
    }
   },
   "cell_type": "code",
   "source": [
    "def evaluate_model(model, X_test, y_test, model_name):\n",
    "    y_pred = model.predict(X_test.values).ravel()\n",
    "    y_pred_binary = [1 if x >= 0.5 else 0 for x in y_pred]\n",
    "\n",
    "    accuracy = accuracy_score(y_true=y_test, y_pred=y_pred_binary)\n",
    "    f1 = f1_score(y_true=y_test, y_pred=y_pred_binary)\n",
    "\n",
    "    print(f\"Model: {model_name}\")\n",
    "    print(f\"Accuracy: {accuracy:.4f}\")\n",
    "    print(f\"F1 Score: {f1:.4f}\")\n",
    "    print(classification_report(y_true=y_test, y_pred=y_pred_binary))\n",
    "\n",
    "    plt.figure(figsize=(8, 6))\n",
    "    sns.heatmap(confusion_matrix(y_true=y_test, y_pred=y_pred_binary),\n",
    "                annot=True, cmap='Greens', fmt='.0f')\n",
    "    plt.title(f\"Confusion Matrix - {model_name}\")\n",
    "    plt.show()\n",
    "\n",
    "    return {\n",
    "        'accuracy': accuracy,\n",
    "        'f1': f1,\n",
    "        'model_name': model_name\n",
    "    }"
   ],
   "outputs": [],
   "execution_count": 74
  },
  {
   "metadata": {},
   "cell_type": "markdown",
   "source": "### Run single experiment"
  },
  {
   "metadata": {
    "ExecuteTime": {
     "end_time": "2025-03-29T14:50:35.545571Z",
     "start_time": "2025-03-29T14:50:35.529867Z"
    }
   },
   "cell_type": "code",
   "source": [
    "def run_single_experiment(X_train, y_train, X_valid, y_valid, X_test, y_test,\n",
    "                          embedding_dim=50, trainable=False,\n",
    "                          vocab_size=10000, sequence_length=20):\n",
    "    vect_layer = TextVectorization(\n",
    "        max_tokens=vocab_size,\n",
    "        output_mode='int',\n",
    "        output_sequence_length=sequence_length\n",
    "    )\n",
    "    vect_layer.adapt(df.Clean_text.values)\n",
    "\n",
    "    embeddings_index = load_glove_embeddings(embedding_dim)\n",
    "\n",
    "    embedding_matrix, num_tokens = create_embedding_matrix(\n",
    "        embeddings_index, vect_layer, embedding_dim\n",
    "    )\n",
    "\n",
    "    model_name = f\"glove_{embedding_dim}d_{'trainable' if trainable else 'fixed'}\"\n",
    "\n",
    "    model = create_model(\n",
    "        vect_layer=vect_layer,\n",
    "        embedding_matrix=embedding_matrix,\n",
    "        num_tokens=num_tokens,\n",
    "        embedding_dim=embedding_dim,\n",
    "        trainable=trainable\n",
    "    )\n",
    "\n",
    "    with TimeTrackerTrain():\n",
    "        history = train_model(\n",
    "            model=model,\n",
    "            X_train=X_train,\n",
    "            y_train=y_train,\n",
    "            X_valid=X_valid,\n",
    "            y_valid=y_valid,\n",
    "            model_name=model_name\n",
    "        )\n",
    "\n",
    "    plt.figure()\n",
    "    for key in history.history.keys():\n",
    "        plt.plot(history.epoch, history.history[key], label=key)\n",
    "    plt.legend()\n",
    "    plt.title(f\"Training History - {model_name}\")\n",
    "    plt.tight_layout()\n",
    "    plt.show()\n",
    "\n",
    "    result = evaluate_model(\n",
    "        model=model,\n",
    "        X_test=X_test,\n",
    "        y_test=y_test,\n",
    "        model_name=model_name\n",
    "    )\n",
    "\n",
    "    return model, result, history"
   ],
   "outputs": [],
   "execution_count": 75
  },
  {
   "metadata": {},
   "cell_type": "markdown",
   "source": "## Task 1 - GloVe embedding experiments"
  },
  {
   "metadata": {},
   "cell_type": "markdown",
   "source": "### GloVe 50d, non-trainable embedding"
  },
  {
   "metadata": {
    "ExecuteTime": {
     "end_time": "2025-03-29T14:53:20.879754Z",
     "start_time": "2025-03-29T14:50:35.747329Z"
    }
   },
   "cell_type": "code",
   "source": [
    "model_50d_fixed, result_50d_fixed, history_50d_fixed = run_single_experiment(\n",
    "    X_train, y_train, X_valid, y_valid, X_test, y_test,\n",
    "    embedding_dim=50, trainable=False\n",
    ")"
   ],
   "outputs": [
    {
     "name": "stdout",
     "output_type": "stream",
     "text": [
      "Loading GloVE embeddings from glove.6B.50d.txt...\n",
      "Loaded 400000 word vectors.\n",
      "Converted 8504 words (1496 misses)\n",
      "Training model glove_50d_fixed...\n",
      "Epoch 1/5\n",
      "\u001B[1m180/180\u001B[0m \u001B[32m━━━━━━━━━━━━━━━━━━━━\u001B[0m\u001B[37m\u001B[0m \u001B[1m32s\u001B[0m 161ms/step - accuracy: 0.9261 - loss: 0.3451 - val_accuracy: 0.9441 - val_loss: 0.1626\n",
      "Epoch 2/5\n",
      "\u001B[1m180/180\u001B[0m \u001B[32m━━━━━━━━━━━━━━━━━━━━\u001B[0m\u001B[37m\u001B[0m \u001B[1m27s\u001B[0m 152ms/step - accuracy: 0.9415 - loss: 0.1691 - val_accuracy: 0.9425 - val_loss: 0.1643\n",
      "Epoch 3/5\n",
      "\u001B[1m180/180\u001B[0m \u001B[32m━━━━━━━━━━━━━━━━━━━━\u001B[0m\u001B[37m\u001B[0m \u001B[1m28s\u001B[0m 155ms/step - accuracy: 0.9460 - loss: 0.1615 - val_accuracy: 0.9507 - val_loss: 0.1438\n",
      "Epoch 4/5\n",
      "\u001B[1m180/180\u001B[0m \u001B[32m━━━━━━━━━━━━━━━━━━━━\u001B[0m\u001B[37m\u001B[0m \u001B[1m28s\u001B[0m 158ms/step - accuracy: 0.9497 - loss: 0.1463 - val_accuracy: 0.9539 - val_loss: 0.1356\n",
      "Epoch 5/5\n",
      "\u001B[1m180/180\u001B[0m \u001B[32m━━━━━━━━━━━━━━━━━━━━\u001B[0m\u001B[37m\u001B[0m \u001B[1m32s\u001B[0m 177ms/step - accuracy: 0.9563 - loss: 0.1268 - val_accuracy: 0.9511 - val_loss: 0.1341\n",
      "Training time: 2 minutes and 27.74 seconds\n"
     ]
    },
    {
     "data": {
      "text/plain": [
       "<Figure size 640x480 with 1 Axes>"
      ],
      "image/png": "[encoded data removed]"
     },
     "metadata": {},
     "output_type": "display_data"
    },
    {
     "name": "stdout",
     "output_type": "stream",
     "text": [
      "\u001B[1m200/200\u001B[0m \u001B[32m━━━━━━━━━━━━━━━━━━━━\u001B[0m\u001B[37m\u001B[0m \u001B[1m10s\u001B[0m 50ms/step\n",
      "Model: glove_50d_fixed\n",
      "Accuracy: 0.9473\n",
      "F1 Score: 0.5718\n",
      "              precision    recall  f1-score   support\n",
      "\n",
      "           0       0.96      0.98      0.97      5945\n",
      "           1       0.66      0.50      0.57       448\n",
      "\n",
      "    accuracy                           0.95      6393\n",
      "   macro avg       0.81      0.74      0.77      6393\n",
      "weighted avg       0.94      0.95      0.94      6393\n",
      "\n"
     ]
    },
    {
     "data": {
      "text/plain": [
       "<Figure size 800x600 with 2 Axes>"
      ],
      "image/png": "[encoded data removed]"
     },
     "metadata": {},
     "output_type": "display_data"
    }
   ],
   "execution_count": 76
  },
  {
   "metadata": {},
   "cell_type": "markdown",
   "source": "### GloVe 50d, trainable embedding"
  },
  {
   "metadata": {
    "ExecuteTime": {
     "end_time": "2025-03-29T14:56:31.356989Z",
     "start_time": "2025-03-29T14:53:21.519036Z"
    }
   },
   "cell_type": "code",
   "source": [
    "model_50d_trainable, result_50d_trainable, history_50d_trainable = run_single_experiment(\n",
    "    X_train, y_train, X_valid, y_valid, X_test, y_test,\n",
    "    embedding_dim=50, trainable=True\n",
    ")"
   ],
   "outputs": [
    {
     "name": "stdout",
     "output_type": "stream",
     "text": [
      "Loading GloVE embeddings from glove.6B.50d.txt...\n",
      "Loaded 400000 word vectors.\n",
      "Converted 8504 words (1496 misses)\n",
      "Training model glove_50d_trainable...\n",
      "Epoch 1/5\n",
      "\u001B[1m180/180\u001B[0m \u001B[32m━━━━━━━━━━━━━━━━━━━━\u001B[0m\u001B[37m\u001B[0m \u001B[1m35s\u001B[0m 175ms/step - accuracy: 0.9025 - loss: 0.3243 - val_accuracy: 0.9445 - val_loss: 0.1497\n",
      "Epoch 2/5\n",
      "\u001B[1m180/180\u001B[0m \u001B[32m━━━━━━━━━━━━━━━━━━━━\u001B[0m\u001B[37m\u001B[0m \u001B[1m34s\u001B[0m 186ms/step - accuracy: 0.9486 - loss: 0.1397 - val_accuracy: 0.9542 - val_loss: 0.1291\n",
      "Epoch 3/5\n",
      "\u001B[1m180/180\u001B[0m \u001B[32m━━━━━━━━━━━━━━━━━━━━\u001B[0m\u001B[37m\u001B[0m \u001B[1m35s\u001B[0m 193ms/step - accuracy: 0.9602 - loss: 0.1088 - val_accuracy: 0.9566 - val_loss: 0.1197\n",
      "Epoch 4/5\n",
      "\u001B[1m180/180\u001B[0m \u001B[32m━━━━━━━━━━━━━━━━━━━━\u001B[0m\u001B[37m\u001B[0m \u001B[1m34s\u001B[0m 188ms/step - accuracy: 0.9706 - loss: 0.0809 - val_accuracy: 0.9597 - val_loss: 0.1184\n",
      "Epoch 5/5\n",
      "\u001B[1m180/180\u001B[0m \u001B[32m━━━━━━━━━━━━━━━━━━━━\u001B[0m\u001B[37m\u001B[0m \u001B[1m34s\u001B[0m 186ms/step - accuracy: 0.9780 - loss: 0.0647 - val_accuracy: 0.9644 - val_loss: 0.1261\n",
      "Training time: 2 minutes and 50.89 seconds\n"
     ]
    },
    {
     "data": {
      "text/plain": [
       "<Figure size 640x480 with 1 Axes>"
      ],
      "image/png": "[encoded data removed]"
     },
     "metadata": {},
     "output_type": "display_data"
    },
    {
     "name": "stdout",
     "output_type": "stream",
     "text": [
      "\u001B[1m200/200\u001B[0m \u001B[32m━━━━━━━━━━━━━━━━━━━━\u001B[0m\u001B[37m\u001B[0m \u001B[1m11s\u001B[0m 53ms/step\n",
      "Model: glove_50d_trainable\n",
      "Accuracy: 0.9517\n",
      "F1 Score: 0.6578\n",
      "              precision    recall  f1-score   support\n",
      "\n",
      "           0       0.97      0.97      0.97      5945\n",
      "           1       0.65      0.66      0.66       448\n",
      "\n",
      "    accuracy                           0.95      6393\n",
      "   macro avg       0.81      0.82      0.82      6393\n",
      "weighted avg       0.95      0.95      0.95      6393\n",
      "\n"
     ]
    },
    {
     "data": {
      "text/plain": [
       "<Figure size 800x600 with 2 Axes>"
      ],
      "image/png": "[encoded data removed]"
     },
     "metadata": {},
     "output_type": "display_data"
    }
   ],
   "execution_count": 77
  },
  {
   "metadata": {},
   "cell_type": "markdown",
   "source": "## Task 2 - fine tuning GloVe embedding for 100 dimensions and higher"
  },
  {
   "metadata": {},
   "cell_type": "markdown",
   "source": "### GloVe 100d, non-trainable embedding"
  },
  {
   "metadata": {
    "ExecuteTime": {
     "end_time": "2025-03-29T14:59:32.172040Z",
     "start_time": "2025-03-29T14:56:31.624200Z"
    }
   },
   "cell_type": "code",
   "source": [
    "model_100d_fixed, result_100d_fixed, history_100d_fixed = run_single_experiment(\n",
    "    X_train, y_train, X_valid, y_valid, X_test, y_test,\n",
    "    embedding_dim=100, trainable=False\n",
    ")"
   ],
   "outputs": [
    {
     "name": "stdout",
     "output_type": "stream",
     "text": [
      "Loading GloVE embeddings from glove.6B.100d.txt...\n",
      "Loaded 400000 word vectors.\n",
      "Converted 8504 words (1496 misses)\n",
      "Training model glove_100d_fixed...\n",
      "Epoch 1/5\n",
      "\u001B[1m180/180\u001B[0m \u001B[32m━━━━━━━━━━━━━━━━━━━━\u001B[0m\u001B[37m\u001B[0m \u001B[1m35s\u001B[0m 177ms/step - accuracy: 0.9228 - loss: 0.3528 - val_accuracy: 0.9390 - val_loss: 0.1586\n",
      "Epoch 2/5\n",
      "\u001B[1m180/180\u001B[0m \u001B[32m━━━━━━━━━━━━━━━━━━━━\u001B[0m\u001B[37m\u001B[0m \u001B[1m32s\u001B[0m 177ms/step - accuracy: 0.9390 - loss: 0.1692 - val_accuracy: 0.9492 - val_loss: 0.1448\n",
      "Epoch 3/5\n",
      "\u001B[1m180/180\u001B[0m \u001B[32m━━━━━━━━━━━━━━━━━━━━\u001B[0m\u001B[37m\u001B[0m \u001B[1m32s\u001B[0m 176ms/step - accuracy: 0.9477 - loss: 0.1507 - val_accuracy: 0.9554 - val_loss: 0.1305\n",
      "Epoch 4/5\n",
      "\u001B[1m180/180\u001B[0m \u001B[32m━━━━━━━━━━━━━━━━━━━━\u001B[0m\u001B[37m\u001B[0m \u001B[1m28s\u001B[0m 158ms/step - accuracy: 0.9553 - loss: 0.1283 - val_accuracy: 0.9550 - val_loss: 0.1344\n",
      "Epoch 5/5\n",
      "\u001B[1m180/180\u001B[0m \u001B[32m━━━━━━━━━━━━━━━━━━━━\u001B[0m\u001B[37m\u001B[0m \u001B[1m30s\u001B[0m 164ms/step - accuracy: 0.9594 - loss: 0.1160 - val_accuracy: 0.9531 - val_loss: 0.1272\n",
      "Training time: 2 minutes and 37.01 seconds\n"
     ]
    },
    {
     "data": {
      "text/plain": [
       "<Figure size 640x480 with 1 Axes>"
      ],
      "image/png": "[encoded data removed]"
     },
     "metadata": {},
     "output_type": "display_data"
    },
    {
     "name": "stdout",
     "output_type": "stream",
     "text": [
      "\u001B[1m200/200\u001B[0m \u001B[32m━━━━━━━━━━━━━━━━━━━━\u001B[0m\u001B[37m\u001B[0m \u001B[1m10s\u001B[0m 49ms/step\n",
      "Model: glove_100d_fixed\n",
      "Accuracy: 0.9487\n",
      "F1 Score: 0.5015\n",
      "              precision    recall  f1-score   support\n",
      "\n",
      "           0       0.95      0.99      0.97      5945\n",
      "           1       0.79      0.37      0.50       448\n",
      "\n",
      "    accuracy                           0.95      6393\n",
      "   macro avg       0.87      0.68      0.74      6393\n",
      "weighted avg       0.94      0.95      0.94      6393\n",
      "\n"
     ]
    },
    {
     "data": {
      "text/plain": [
       "<Figure size 800x600 with 2 Axes>"
      ],
      "image/png": "[encoded data removed]"
     },
     "metadata": {},
     "output_type": "display_data"
    }
   ],
   "execution_count": 78
  },
  {
   "metadata": {},
   "cell_type": "markdown",
   "source": "### GloVe 100d, trainable embedding"
  },
  {
   "metadata": {
    "ExecuteTime": {
     "end_time": "2025-03-29T15:02:24.311337Z",
     "start_time": "2025-03-29T14:59:32.397106Z"
    }
   },
   "cell_type": "code",
   "source": [
    "model_100d_trainable, result_100d_trainable, history_100d_trainable = run_single_experiment(\n",
    "    X_train, y_train, X_valid, y_valid, X_test, y_test,\n",
    "    embedding_dim=100, trainable=True\n",
    ")"
   ],
   "outputs": [
    {
     "name": "stdout",
     "output_type": "stream",
     "text": [
      "Loading GloVE embeddings from glove.6B.100d.txt...\n",
      "Loaded 400000 word vectors.\n",
      "Converted 8504 words (1496 misses)\n",
      "Training model glove_100d_trainable...\n",
      "Epoch 1/5\n",
      "\u001B[1m180/180\u001B[0m \u001B[32m━━━━━━━━━━━━━━━━━━━━\u001B[0m\u001B[37m\u001B[0m \u001B[1m34s\u001B[0m 167ms/step - accuracy: 0.9042 - loss: 0.3168 - val_accuracy: 0.9511 - val_loss: 0.1387\n",
      "Epoch 2/5\n",
      "\u001B[1m180/180\u001B[0m \u001B[32m━━━━━━━━━━━━━━━━━━━━\u001B[0m\u001B[37m\u001B[0m \u001B[1m29s\u001B[0m 161ms/step - accuracy: 0.9539 - loss: 0.1271 - val_accuracy: 0.9597 - val_loss: 0.1165\n",
      "Epoch 3/5\n",
      "\u001B[1m180/180\u001B[0m \u001B[32m━━━━━━━━━━━━━━━━━━━━\u001B[0m\u001B[37m\u001B[0m \u001B[1m30s\u001B[0m 166ms/step - accuracy: 0.9676 - loss: 0.0944 - val_accuracy: 0.9625 - val_loss: 0.1096\n",
      "Epoch 4/5\n",
      "\u001B[1m180/180\u001B[0m \u001B[32m━━━━━━━━━━━━━━━━━━━━\u001B[0m\u001B[37m\u001B[0m \u001B[1m29s\u001B[0m 162ms/step - accuracy: 0.9756 - loss: 0.0675 - val_accuracy: 0.9652 - val_loss: 0.1100\n",
      "Epoch 5/5\n",
      "\u001B[1m180/180\u001B[0m \u001B[32m━━━━━━━━━━━━━━━━━━━━\u001B[0m\u001B[37m\u001B[0m \u001B[1m28s\u001B[0m 158ms/step - accuracy: 0.9821 - loss: 0.0531 - val_accuracy: 0.9652 - val_loss: 0.2072\n",
      "Training time: 2 minutes and 30.53 seconds\n"
     ]
    },
    {
     "data": {
      "text/plain": [
       "<Figure size 640x480 with 1 Axes>"
      ],
      "image/png": "[encoded data removed]"
     },
     "metadata": {},
     "output_type": "display_data"
    },
    {
     "name": "stdout",
     "output_type": "stream",
     "text": [
      "\u001B[1m200/200\u001B[0m \u001B[32m━━━━━━━━━━━━━━━━━━━━\u001B[0m\u001B[37m\u001B[0m \u001B[1m10s\u001B[0m 51ms/step\n",
      "Model: glove_100d_trainable\n",
      "Accuracy: 0.9553\n",
      "F1 Score: 0.6554\n",
      "              precision    recall  f1-score   support\n",
      "\n",
      "           0       0.97      0.98      0.98      5945\n",
      "           1       0.71      0.61      0.66       448\n",
      "\n",
      "    accuracy                           0.96      6393\n",
      "   macro avg       0.84      0.79      0.82      6393\n",
      "weighted avg       0.95      0.96      0.95      6393\n",
      "\n"
     ]
    },
    {
     "data": {
      "text/plain": [
       "<Figure size 800x600 with 2 Axes>"
      ],
      "image/png": "[encoded data removed]"
     },
     "metadata": {},
     "output_type": "display_data"
    }
   ],
   "execution_count": 79
  },
  {
   "metadata": {},
   "cell_type": "markdown",
   "source": "### Glove 200d, non-trainable embedding"
  },
  {
   "metadata": {
    "ExecuteTime": {
     "end_time": "2025-03-29T15:05:21.192811Z",
     "start_time": "2025-03-29T15:02:24.559402Z"
    }
   },
   "cell_type": "code",
   "source": [
    "model_200d_fixed, result_200d_fixed, history_200d_fixed = run_single_experiment(\n",
    "    X_train, y_train, X_valid, y_valid, X_test, y_test,\n",
    "    embedding_dim=200, trainable=False\n",
    ")"
   ],
   "outputs": [
    {
     "name": "stdout",
     "output_type": "stream",
     "text": [
      "Loading GloVE embeddings from glove.6B.200d.txt...\n",
      "Loaded 400000 word vectors.\n",
      "Converted 8504 words (1496 misses)\n",
      "Training model glove_200d_fixed...\n",
      "Epoch 1/5\n",
      "\u001B[1m180/180\u001B[0m \u001B[32m━━━━━━━━━━━━━━━━━━━━\u001B[0m\u001B[37m\u001B[0m \u001B[1m33s\u001B[0m 158ms/step - accuracy: 0.9090 - loss: 0.3224 - val_accuracy: 0.9488 - val_loss: 0.1433\n",
      "Epoch 2/5\n",
      "\u001B[1m180/180\u001B[0m \u001B[32m━━━━━━━━━━━━━━━━━━━━\u001B[0m\u001B[37m\u001B[0m \u001B[1m28s\u001B[0m 157ms/step - accuracy: 0.9475 - loss: 0.1546 - val_accuracy: 0.9515 - val_loss: 0.1356\n",
      "Epoch 3/5\n",
      "\u001B[1m180/180\u001B[0m \u001B[32m━━━━━━━━━━━━━━━━━━━━\u001B[0m\u001B[37m\u001B[0m \u001B[1m28s\u001B[0m 157ms/step - accuracy: 0.9544 - loss: 0.1332 - val_accuracy: 0.9562 - val_loss: 0.1206\n",
      "Epoch 4/5\n",
      "\u001B[1m180/180\u001B[0m \u001B[32m━━━━━━━━━━━━━━━━━━━━\u001B[0m\u001B[37m\u001B[0m \u001B[1m29s\u001B[0m 159ms/step - accuracy: 0.9613 - loss: 0.1119 - val_accuracy: 0.9566 - val_loss: 0.1352\n",
      "Epoch 5/5\n",
      "\u001B[1m180/180\u001B[0m \u001B[32m━━━━━━━━━━━━━━━━━━━━\u001B[0m\u001B[37m\u001B[0m \u001B[1m28s\u001B[0m 158ms/step - accuracy: 0.9690 - loss: 0.0954 - val_accuracy: 0.9585 - val_loss: 0.1342\n",
      "Training time: 2 minutes and 26.15 seconds\n"
     ]
    },
    {
     "data": {
      "text/plain": [
       "<Figure size 640x480 with 1 Axes>"
      ],
      "image/png": "[encoded data removed]"
     },
     "metadata": {},
     "output_type": "display_data"
    },
    {
     "name": "stdout",
     "output_type": "stream",
     "text": [
      "\u001B[1m200/200\u001B[0m \u001B[32m━━━━━━━━━━━━━━━━━━━━\u001B[0m\u001B[37m\u001B[0m \u001B[1m9s\u001B[0m 43ms/step\n",
      "Model: glove_200d_fixed\n",
      "Accuracy: 0.9504\n",
      "F1 Score: 0.5931\n",
      "              precision    recall  f1-score   support\n",
      "\n",
      "           0       0.96      0.98      0.97      5945\n",
      "           1       0.70      0.52      0.59       448\n",
      "\n",
      "    accuracy                           0.95      6393\n",
      "   macro avg       0.83      0.75      0.78      6393\n",
      "weighted avg       0.95      0.95      0.95      6393\n",
      "\n"
     ]
    },
    {
     "data": {
      "text/plain": [
       "<Figure size 800x600 with 2 Axes>"
      ],
      "image/png": "[encoded data removed]"
     },
     "metadata": {},
     "output_type": "display_data"
    }
   ],
   "execution_count": 80
  },
  {
   "metadata": {},
   "cell_type": "markdown",
   "source": "### GloVe 200d, trainable embedding"
  },
  {
   "metadata": {
    "ExecuteTime": {
     "end_time": "2025-03-29T15:08:28.473983Z",
     "start_time": "2025-03-29T15:05:21.405239Z"
    }
   },
   "cell_type": "code",
   "source": [
    "model_200d_trainable, result_200d_trainable, history_200d_trainable = run_single_experiment(\n",
    "    X_train, y_train, X_valid, y_valid, X_test, y_test,\n",
    "    embedding_dim=200, trainable=True\n",
    ")"
   ],
   "outputs": [
    {
     "name": "stdout",
     "output_type": "stream",
     "text": [
      "Loading GloVE embeddings from glove.6B.200d.txt...\n",
      "Loaded 400000 word vectors.\n",
      "Converted 8504 words (1496 misses)\n",
      "Training model glove_200d_trainable...\n",
      "Epoch 1/5\n",
      "\u001B[1m180/180\u001B[0m \u001B[32m━━━━━━━━━━━━━━━━━━━━\u001B[0m\u001B[37m\u001B[0m \u001B[1m35s\u001B[0m 173ms/step - accuracy: 0.9086 - loss: 0.3149 - val_accuracy: 0.9542 - val_loss: 0.1278\n",
      "Epoch 2/5\n",
      "\u001B[1m180/180\u001B[0m \u001B[32m━━━━━━━━━━━━━━━━━━━━\u001B[0m\u001B[37m\u001B[0m \u001B[1m30s\u001B[0m 165ms/step - accuracy: 0.9570 - loss: 0.1252 - val_accuracy: 0.9625 - val_loss: 0.1099\n",
      "Epoch 3/5\n",
      "\u001B[1m180/180\u001B[0m \u001B[32m━━━━━━━━━━━━━━━━━━━━\u001B[0m\u001B[37m\u001B[0m \u001B[1m30s\u001B[0m 166ms/step - accuracy: 0.9741 - loss: 0.0755 - val_accuracy: 0.9656 - val_loss: 0.1106\n",
      "Epoch 4/5\n",
      "\u001B[1m180/180\u001B[0m \u001B[32m━━━━━━━━━━━━━━━━━━━━\u001B[0m\u001B[37m\u001B[0m \u001B[1m30s\u001B[0m 164ms/step - accuracy: 0.9839 - loss: 0.0506 - val_accuracy: 0.9640 - val_loss: 0.1392\n",
      "Epoch 5/5\n",
      "\u001B[1m180/180\u001B[0m \u001B[32m━━━━━━━━━━━━━━━━━━━━\u001B[0m\u001B[37m\u001B[0m \u001B[1m29s\u001B[0m 160ms/step - accuracy: 0.9899 - loss: 0.0321 - val_accuracy: 0.9605 - val_loss: 0.1638\n",
      "Training time: 2 minutes and 33.14 seconds\n"
     ]
    },
    {
     "data": {
      "text/plain": [
       "<Figure size 640x480 with 1 Axes>"
      ],
      "image/png": "[encoded data removed]"
     },
     "metadata": {},
     "output_type": "display_data"
    },
    {
     "name": "stdout",
     "output_type": "stream",
     "text": [
      "\u001B[1m200/200\u001B[0m \u001B[32m━━━━━━━━━━━━━━━━━━━━\u001B[0m\u001B[37m\u001B[0m \u001B[1m11s\u001B[0m 52ms/step\n",
      "Model: glove_200d_trainable\n",
      "Accuracy: 0.9551\n",
      "F1 Score: 0.6168\n",
      "              precision    recall  f1-score   support\n",
      "\n",
      "           0       0.96      0.99      0.98      5945\n",
      "           1       0.77      0.52      0.62       448\n",
      "\n",
      "    accuracy                           0.96      6393\n",
      "   macro avg       0.87      0.75      0.80      6393\n",
      "weighted avg       0.95      0.96      0.95      6393\n",
      "\n"
     ]
    },
    {
     "data": {
      "text/plain": [
       "<Figure size 800x600 with 2 Axes>"
      ],
      "image/png": "[encoded data removed]"
     },
     "metadata": {},
     "output_type": "display_data"
    }
   ],
   "execution_count": 81
  },
  {
   "metadata": {},
   "cell_type": "markdown",
   "source": "### GloVe 300d, non-trainable embedding"
  },
  {
   "metadata": {
    "ExecuteTime": {
     "end_time": "2025-03-29T15:11:50.440438Z",
     "start_time": "2025-03-29T15:08:28.786222Z"
    }
   },
   "cell_type": "code",
   "source": [
    "model_300d_fixed, result_300d_fixed, history_300d_fixed = run_single_experiment(\n",
    "    X_train, y_train, X_valid, y_valid, X_test, y_test,\n",
    "    embedding_dim=300, trainable=False\n",
    ")"
   ],
   "outputs": [
    {
     "name": "stdout",
     "output_type": "stream",
     "text": [
      "Loading GloVE embeddings from glove.6B.300d.txt...\n",
      "Loaded 400000 word vectors.\n",
      "Converted 8504 words (1496 misses)\n",
      "Training model glove_300d_fixed...\n",
      "Epoch 1/5\n",
      "\u001B[1m180/180\u001B[0m \u001B[32m━━━━━━━━━━━━━━━━━━━━\u001B[0m\u001B[37m\u001B[0m \u001B[1m32s\u001B[0m 160ms/step - accuracy: 0.9043 - loss: 0.3395 - val_accuracy: 0.9464 - val_loss: 0.1488\n",
      "Epoch 2/5\n",
      "\u001B[1m180/180\u001B[0m \u001B[32m━━━━━━━━━━━━━━━━━━━━\u001B[0m\u001B[37m\u001B[0m \u001B[1m29s\u001B[0m 164ms/step - accuracy: 0.9483 - loss: 0.1509 - val_accuracy: 0.9507 - val_loss: 0.1421\n",
      "Epoch 3/5\n",
      "\u001B[1m180/180\u001B[0m \u001B[32m━━━━━━━━━━━━━━━━━━━━\u001B[0m\u001B[37m\u001B[0m \u001B[1m28s\u001B[0m 155ms/step - accuracy: 0.9571 - loss: 0.1240 - val_accuracy: 0.9546 - val_loss: 0.1304\n",
      "Epoch 4/5\n",
      "\u001B[1m180/180\u001B[0m \u001B[32m━━━━━━━━━━━━━━━━━━━━\u001B[0m\u001B[37m\u001B[0m \u001B[1m29s\u001B[0m 163ms/step - accuracy: 0.9658 - loss: 0.1032 - val_accuracy: 0.9558 - val_loss: 0.1285\n",
      "Epoch 5/5\n",
      "\u001B[1m180/180\u001B[0m \u001B[32m━━━━━━━━━━━━━━━━━━━━\u001B[0m\u001B[37m\u001B[0m \u001B[1m29s\u001B[0m 160ms/step - accuracy: 0.9719 - loss: 0.0845 - val_accuracy: 0.9582 - val_loss: 0.1342\n",
      "Training time: 2 minutes and 39.80 seconds\n"
     ]
    },
    {
     "data": {
      "text/plain": [
       "<Figure size 640x480 with 1 Axes>"
      ],
      "image/png": "[encoded data removed]"
     },
     "metadata": {},
     "output_type": "display_data"
    },
    {
     "name": "stdout",
     "output_type": "stream",
     "text": [
      "\u001B[1m200/200\u001B[0m \u001B[32m━━━━━━━━━━━━━━━━━━━━\u001B[0m\u001B[37m\u001B[0m \u001B[1m8s\u001B[0m 38ms/step\n",
      "Model: glove_300d_fixed\n",
      "Accuracy: 0.9523\n",
      "F1 Score: 0.6023\n",
      "              precision    recall  f1-score   support\n",
      "\n",
      "           0       0.96      0.99      0.97      5945\n",
      "           1       0.72      0.52      0.60       448\n",
      "\n",
      "    accuracy                           0.95      6393\n",
      "   macro avg       0.84      0.75      0.79      6393\n",
      "weighted avg       0.95      0.95      0.95      6393\n",
      "\n"
     ]
    },
    {
     "data": {
      "text/plain": [
       "<Figure size 800x600 with 2 Axes>"
      ],
      "image/png": "[encoded data removed]"
     },
     "metadata": {},
     "output_type": "display_data"
    }
   ],
   "execution_count": 82
  },
  {
   "metadata": {},
   "cell_type": "markdown",
   "source": "### GloVe 300d, trainable embedding"
  },
  {
   "metadata": {
    "ExecuteTime": {
     "end_time": "2025-03-29T15:15:10.734036Z",
     "start_time": "2025-03-29T15:11:50.696539Z"
    }
   },
   "cell_type": "code",
   "source": [
    "model_300d_trainable, result_300d_trainable, history_300d_trainable = run_single_experiment(\n",
    "    X_train, y_train, X_valid, y_valid, X_test, y_test,\n",
    "    embedding_dim=300, trainable=True\n",
    ")"
   ],
   "outputs": [
    {
     "name": "stdout",
     "output_type": "stream",
     "text": [
      "Loading GloVE embeddings from glove.6B.300d.txt...\n",
      "Loaded 400000 word vectors.\n",
      "Converted 8504 words (1496 misses)\n",
      "Training model glove_300d_trainable...\n",
      "Epoch 1/5\n",
      "\u001B[1m180/180\u001B[0m \u001B[32m━━━━━━━━━━━━━━━━━━━━\u001B[0m\u001B[37m\u001B[0m \u001B[1m34s\u001B[0m 170ms/step - accuracy: 0.9292 - loss: 0.2703 - val_accuracy: 0.9539 - val_loss: 0.1226\n",
      "Epoch 2/5\n",
      "\u001B[1m180/180\u001B[0m \u001B[32m━━━━━━━━━━━━━━━━━━━━\u001B[0m\u001B[37m\u001B[0m \u001B[1m32s\u001B[0m 176ms/step - accuracy: 0.9603 - loss: 0.1088 - val_accuracy: 0.9609 - val_loss: 0.1085\n",
      "Epoch 3/5\n",
      "\u001B[1m180/180\u001B[0m \u001B[32m━━━━━━━━━━━━━━━━━━━━\u001B[0m\u001B[37m\u001B[0m \u001B[1m30s\u001B[0m 169ms/step - accuracy: 0.9755 - loss: 0.0740 - val_accuracy: 0.9679 - val_loss: 0.1069\n",
      "Epoch 4/5\n",
      "\u001B[1m180/180\u001B[0m \u001B[32m━━━━━━━━━━━━━━━━━━━━\u001B[0m\u001B[37m\u001B[0m \u001B[1m30s\u001B[0m 168ms/step - accuracy: 0.9842 - loss: 0.0486 - val_accuracy: 0.9656 - val_loss: 0.1301\n",
      "Epoch 5/5\n",
      "\u001B[1m180/180\u001B[0m \u001B[32m━━━━━━━━━━━━━━━━━━━━\u001B[0m\u001B[37m\u001B[0m \u001B[1m30s\u001B[0m 167ms/step - accuracy: 0.9877 - loss: 0.0410 - val_accuracy: 0.9671 - val_loss: 0.1499\n",
      "Training time: 2 minutes and 37.29 seconds\n"
     ]
    },
    {
     "data": {
      "text/plain": [
       "<Figure size 640x480 with 1 Axes>"
      ],
      "image/png": "[encoded data removed]"
     },
     "metadata": {},
     "output_type": "display_data"
    },
    {
     "name": "stdout",
     "output_type": "stream",
     "text": [
      "\u001B[1m200/200\u001B[0m \u001B[32m━━━━━━━━━━━━━━━━━━━━\u001B[0m\u001B[37m\u001B[0m \u001B[1m9s\u001B[0m 44ms/step\n",
      "Model: glove_300d_trainable\n",
      "Accuracy: 0.9575\n",
      "F1 Score: 0.6723\n",
      "              precision    recall  f1-score   support\n",
      "\n",
      "           0       0.97      0.98      0.98      5945\n",
      "           1       0.73      0.62      0.67       448\n",
      "\n",
      "    accuracy                           0.96      6393\n",
      "   macro avg       0.85      0.80      0.82      6393\n",
      "weighted avg       0.95      0.96      0.96      6393\n",
      "\n"
     ]
    },
    {
     "data": {
      "text/plain": [
       "<Figure size 800x600 with 2 Axes>"
      ],
      "image/png": "[encoded data removed]"
     },
     "metadata": {},
     "output_type": "display_data"
    }
   ],
   "execution_count": 83
  },
  {
   "metadata": {},
   "cell_type": "markdown",
   "source": "## Task results"
  },
  {
   "metadata": {
    "ExecuteTime": {
     "end_time": "2025-03-29T15:15:11.015199Z",
     "start_time": "2025-03-29T15:15:11.006531Z"
    }
   },
   "cell_type": "code",
   "source": [
    "results = [\n",
    "    result_50d_fixed,\n",
    "    result_50d_trainable,\n",
    "    result_100d_fixed,\n",
    "    result_100d_trainable,\n",
    "    result_200d_fixed,\n",
    "    result_200d_trainable,\n",
    "    result_300d_fixed,\n",
    "    result_300d_trainable\n",
    "]\n",
    "results_df = pd.DataFrame(results)\n",
    "results_df.reset_index(drop=True, inplace=True)\n",
    "results_df"
   ],
   "outputs": [
    {
     "data": {
      "text/plain": [
       "   accuracy        f1            model_name\n",
       "0  0.947286  0.571792       glove_50d_fixed\n",
       "1  0.951666  0.657807   glove_50d_trainable\n",
       "2  0.948694  0.501520      glove_100d_fixed\n",
       "3  0.955264  0.655422  glove_100d_trainable\n",
       "4  0.950415  0.593068      glove_200d_fixed\n",
       "5  0.955107  0.616822  glove_200d_trainable\n",
       "6  0.952292  0.602347      glove_300d_fixed\n",
       "7  0.957453  0.672289  glove_300d_trainable"
      ],
      "text/html": [
       "<div>\n",
       "<style scoped>\n",
       "    .dataframe tbody tr th:only-of-type {\n",
       "        vertical-align: middle;\n",
       "    }\n",
       "\n",
       "    .dataframe tbody tr th {\n",
       "        vertical-align: top;\n",
       "    }\n",
       "\n",
       "    .dataframe thead th {\n",
       "        text-align: right;\n",
       "    }\n",
       "</style>\n",
       "<table border=\"1\" class=\"dataframe\">\n",
       "  <thead>\n",
       "    <tr style=\"text-align: right;\">\n",
       "      <th></th>\n",
       "      <th>accuracy</th>\n",
       "      <th>f1</th>\n",
       "      <th>model_name</th>\n",
       "    </tr>\n",
       "  </thead>\n",
       "  <tbody>\n",
       "    <tr>\n",
       "      <th>0</th>\n",
       "      <td>0.947286</td>\n",
       "      <td>0.571792</td>\n",
       "      <td>glove_50d_fixed</td>\n",
       "    </tr>\n",
       "    <tr>\n",
       "      <th>1</th>\n",
       "      <td>0.951666</td>\n",
       "      <td>0.657807</td>\n",
       "      <td>glove_50d_trainable</td>\n",
       "    </tr>\n",
       "    <tr>\n",
       "      <th>2</th>\n",
       "      <td>0.948694</td>\n",
       "      <td>0.501520</td>\n",
       "      <td>glove_100d_fixed</td>\n",
       "    </tr>\n",
       "    <tr>\n",
       "      <th>3</th>\n",
       "      <td>0.955264</td>\n",
       "      <td>0.655422</td>\n",
       "      <td>glove_100d_trainable</td>\n",
       "    </tr>\n",
       "    <tr>\n",
       "      <th>4</th>\n",
       "      <td>0.950415</td>\n",
       "      <td>0.593068</td>\n",
       "      <td>glove_200d_fixed</td>\n",
       "    </tr>\n",
       "    <tr>\n",
       "      <th>5</th>\n",
       "      <td>0.955107</td>\n",
       "      <td>0.616822</td>\n",
       "      <td>glove_200d_trainable</td>\n",
       "    </tr>\n",
       "    <tr>\n",
       "      <th>6</th>\n",
       "      <td>0.952292</td>\n",
       "      <td>0.602347</td>\n",
       "      <td>glove_300d_fixed</td>\n",
       "    </tr>\n",
       "    <tr>\n",
       "      <th>7</th>\n",
       "      <td>0.957453</td>\n",
       "      <td>0.672289</td>\n",
       "      <td>glove_300d_trainable</td>\n",
       "    </tr>\n",
       "  </tbody>\n",
       "</table>\n",
       "</div>"
      ]
     },
     "execution_count": 84,
     "metadata": {},
     "output_type": "execute_result"
    }
   ],
   "execution_count": 84
  },
  {
   "metadata": {},
   "cell_type": "markdown",
   "source": "### Graphical comparison"
  },
  {
   "metadata": {
    "ExecuteTime": {
     "end_time": "2025-03-29T15:15:11.762774Z",
     "start_time": "2025-03-29T15:15:11.053945Z"
    }
   },
   "cell_type": "code",
   "source": [
    "fixed_models = results_df[results_df['model_name'].str.contains('fixed')].copy()\n",
    "trainable_models = results_df[results_df['model_name'].str.contains('trainable')].copy()\n",
    "\n",
    "fixed_models['dimension'] = fixed_models['model_name'].str.extract(r'(\\d+)').astype(int)\n",
    "trainable_models['dimension'] = trainable_models['model_name'].str.extract(r'(\\d+)').astype(int)\n",
    "\n",
    "fixed_models = fixed_models.sort_values('dimension')\n",
    "trainable_models = trainable_models.sort_values('dimension')\n",
    "\n",
    "plt.figure(figsize=(12, 7))\n",
    "\n",
    "plt.plot(fixed_models['dimension'], fixed_models['f1'], marker='o', markersize=10,\n",
    "         linestyle='-', linewidth=2.5, color='royalblue',\n",
    "         label='Non-trainable embedding')\n",
    "plt.plot(trainable_models['dimension'], trainable_models['f1'], marker='s', markersize=10,\n",
    "         linestyle='-', linewidth=2.5, color='forestgreen',\n",
    "         label='Trainable embedding')\n",
    "\n",
    "for i, dim in enumerate(fixed_models['dimension']):\n",
    "    plt.text(dim, fixed_models['f1'].iloc[i] - 0.006, f\"{fixed_models['f1'].iloc[i]:.4f}\",\n",
    "             ha='center', va='top', fontsize=10, color='royalblue', fontweight='bold')\n",
    "    plt.text(dim, trainable_models['f1'].iloc[i] + 0.006, f\"{trainable_models['f1'].iloc[i]:.4f}\",\n",
    "             ha='center', va='bottom', fontsize=10, color='forestgreen', fontweight='bold')\n",
    "\n",
    "plt.title('Comparison of F1 Scores by Embedding Dimension and Type', fontsize=16, fontweight='bold')\n",
    "plt.xlabel('Embedding Dimension', fontsize=14)\n",
    "plt.ylabel('F1 Score', fontsize=14)\n",
    "plt.xticks(fixed_models['dimension'], fontsize=12)\n",
    "plt.yticks(fontsize=12)\n",
    "plt.grid(True, linestyle='--', alpha=0.7)\n",
    "\n",
    "avg_f1 = results_df['f1'].mean()\n",
    "plt.axhline(y=avg_f1, color='red', linestyle='--', alpha=0.6,\n",
    "            label=f'Average F1: {avg_f1:.4f}')\n",
    "\n",
    "plt.legend(fontsize=12, frameon=True, facecolor='white', edgecolor='lightgray')\n",
    "plt.tight_layout()\n",
    "\n",
    "min_f1 = min(results_df['f1']) - 0.02\n",
    "max_f1 = max(results_df['f1']) + 0.02\n",
    "plt.ylim(min_f1, max_f1)\n",
    "\n",
    "plt.show()"
   ],
   "outputs": [
    {
     "data": {
      "text/plain": [
       "<Figure size 1200x700 with 1 Axes>"
      ],
      "image/png": "[encoded data removed]"
     },
     "metadata": {},
     "output_type": "display_data"
    }
   ],
   "execution_count": 85
  }
 ],
 "metadata": {
  "colab": {
   "collapsed_sections": [],
   "name": "ds4_03.ipynb",
   "provenance": [],
   "toc_visible": true
  },
  "file_extension": ".py",
  "kernelspec": {
   "display_name": "venv",
   "language": "python",
   "name": "python3"
  },
  "language_info": {
   "codemirror_mode": {
    "name": "ipython",
    "version": 3
   },
   "file_extension": ".py",
   "mimetype": "text/x-python",
   "name": "python",
   "nbconvert_exporter": "python",
   "pygments_lexer": "ipython3",
   "version": "3.12.3"
  },
  "mimetype": "text/x-python",
  "name": "python",
  "npconvert_exporter": "python",
  "pygments_lexer": "ipython3",
  "version": 3
 },
 "nbformat": 4,
 "nbformat_minor": 4
}
